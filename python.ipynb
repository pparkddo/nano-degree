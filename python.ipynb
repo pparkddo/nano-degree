{
 "cells": [
  {
   "cell_type": "markdown",
   "metadata": {},
   "source": [
    "# python\n",
    "\n",
    "---\n",
    "\n",
    "`numpy`, `pandas`, `matplotlib` 같은 라이브러리 덕분에 `python` 은 데이터분석에 좋은 도구로 사용되고 있습니다.  \n",
    "위와 같은 라이브러리들을 통해 데이터 분석을 하신 분들도 계시겠지만,  \n",
    "그렇지 않은 분들을 위해 이번 강의에서는 간단한 `python` 사용법과 활용에 대해서 알아보겠습니다.\n",
    "\n",
    "뿐만아니라 이미 `python` 에 익숙하신 분들을 위한 꿀팁을 알려드리니 참고해주시면 감사하겠습니다 :)  \n",
    "심화내용은 🔥 표시되어 있으며 초심자분들께서는 이런 게 있구나! 하고 넘어주셔도 됩니다!"
   ]
  },
  {
   "cell_type": "markdown",
   "metadata": {},
   "source": [
    "# In this tutorial...\n",
    "\n",
    "- Basic of python : 파이썬의 기초에 대해 배웁니다.\n",
    "- Container : 여러 값들을 한 곳에 담아 관리할 수 있는 유용한 객체들에 대해 배웁니다.\n",
    "- Condition : 조건문을 통해 여러 조건으로 분기하는 법에 대해 배웁니다.\n",
    "- Function : 중복되거나 복잡한 기능을 모아 편리하게 사용할 수 있게 하는 함수에 대해 배웁니다. \n",
    "- Class : 객체들의 설계도 역할을 하는 클래스에 대해 배웁니다.\n",
    "- Import : 다른 패키지에서 만든 클래스나 함수를 들고 올 수 있는 방법에 대해 배웁니다.\n",
    "- Environment : 파이썬을 개발하고 실행할 수 있는 환경에 대해서 배웁니다.\n",
    "- Misc. : 프로젝트를 진행하며 도움이 될만한 꿀팁들을 배웁니다."
   ]
  },
  {
   "cell_type": "markdown",
   "metadata": {},
   "source": [
    "# Basic of python\n",
    "\n",
    "`python` 은 고수준, 동적 타입, 멀티패러다임 컴퓨터 언어입니다.  \n",
    "`python` 은 컴퓨터 언어라기 보다 인간의 언어의 형태를 띄기 때문에 가독성이 뛰어나고, 적은 양의 코드 만으로 아주 강력한 기능을 만들 수도 있습니다."
   ]
  },
  {
   "cell_type": "markdown",
   "metadata": {},
   "source": [
    "## Python version\n",
    "\n",
    "2020 년 1월 1일 부터 `python` 단체에서는 [공식적으로 `python2` 지원을 종료](https://www.python.org/doc/sunset-python-2/)했습니다. '21.9월 기준 python 은 3.9 까지 나와있으며 사용 중인 `python` 버전은 아래 코드로 확인 가능합니다.  \n",
    "\n",
    "주요 라이브러리가 3.6 버전이상을 지원하는 경우가 많기 때문에 python 3.6 버전이상을 사용하는 것을 추천드립니다."
   ]
  },
  {
   "cell_type": "code",
   "execution_count": 1,
   "metadata": {},
   "outputs": [
    {
     "name": "stdout",
     "output_type": "stream",
     "text": [
      "3.8.5 (default, Sep  3 2020, 21:29:08) [MSC v.1916 64 bit (AMD64)]\n"
     ]
    }
   ],
   "source": [
    "import sys\n",
    "\n",
    "# 현재 사용중인 python 버전 출력\n",
    "# colab 에서는 3.7 버전을 사용 중 입니다('21.9.11 기준)\n",
    "# 아래 출력은 실행 중인 python 버전에 따라 결과가 달라질 수 있습니다.\n",
    "print(sys.version)"
   ]
  },
  {
   "cell_type": "markdown",
   "metadata": {},
   "source": [
    "## Basic data type\n",
    "\n",
    "기본적으로 사용되는 기반 데이터 타입(자료 형식)에 대해서 알아보겠습니다.  \n",
    "데이터 타입이란 데이터(값)이 어떤 유형인지를 말합니다."
   ]
  },
  {
   "cell_type": "markdown",
   "metadata": {},
   "source": [
    "### Number\n",
    "\n",
    "수를 나타내는 자료 형식에는 정수를 나타내는 `int` 와 소수를 나타내는 `float` 이 있습니다."
   ]
  },
  {
   "cell_type": "markdown",
   "metadata": {},
   "source": [
    "#### int"
   ]
  },
  {
   "cell_type": "code",
   "execution_count": 2,
   "metadata": {},
   "outputs": [
    {
     "name": "stdout",
     "output_type": "stream",
     "text": [
      "3\n"
     ]
    }
   ],
   "source": [
    "x = 3\n",
    "\n",
    "print(x)"
   ]
  },
  {
   "cell_type": "code",
   "execution_count": 3,
   "metadata": {},
   "outputs": [
    {
     "name": "stdout",
     "output_type": "stream",
     "text": [
      "4\n",
      "2\n",
      "6\n",
      "1.5\n",
      "9\n"
     ]
    }
   ],
   "source": [
    "print(x+1)  # 더하기\n",
    "print(x-1)  # 빼기\n",
    "print(x*2)  # 곱하기\n",
    "print(x/2)  # 나누기\n",
    "print(x**2)  # 거듭제곱"
   ]
  },
  {
   "cell_type": "markdown",
   "metadata": {},
   "source": [
    "#### float"
   ]
  },
  {
   "cell_type": "code",
   "execution_count": 4,
   "metadata": {},
   "outputs": [
    {
     "name": "stdout",
     "output_type": "stream",
     "text": [
      "3.5\n",
      "1.5\n",
      "5.0\n",
      "1.25\n",
      "6.25\n"
     ]
    }
   ],
   "source": [
    "y = 2.5\n",
    "\n",
    "print(y+1)\n",
    "print(y-1)\n",
    "print(y*2)\n",
    "print(y/2)\n",
    "print(y**2)"
   ]
  },
  {
   "cell_type": "markdown",
   "metadata": {},
   "source": [
    "`int` 메서드를 이용해서 정수형식으로 변환할 수 있습니다."
   ]
  },
  {
   "cell_type": "code",
   "execution_count": 5,
   "metadata": {},
   "outputs": [
    {
     "name": "stdout",
     "output_type": "stream",
     "text": [
      "2\n"
     ]
    }
   ],
   "source": [
    "print(int(y))"
   ]
  },
  {
   "cell_type": "markdown",
   "metadata": {},
   "source": [
    "### Boolean\n",
    "\n",
    "참과 거짓을 나타내는 논리 자료형인 `boolean` 에 대해 알아봅시다."
   ]
  },
  {
   "cell_type": "code",
   "execution_count": 6,
   "metadata": {},
   "outputs": [
    {
     "name": "stdout",
     "output_type": "stream",
     "text": [
      "True\n",
      "False\n"
     ]
    }
   ],
   "source": [
    "t = True\n",
    "f = False\n",
    "\n",
    "print(t)  # True\n",
    "print(f)  # False"
   ]
  },
  {
   "cell_type": "markdown",
   "metadata": {},
   "source": [
    "논리연산을 아래와 같이 사용할 수 있습니다."
   ]
  },
  {
   "cell_type": "code",
   "execution_count": 7,
   "metadata": {},
   "outputs": [
    {
     "name": "stdout",
     "output_type": "stream",
     "text": [
      "True\n",
      "False\n",
      "True\n",
      "False\n",
      "False\n",
      "True\n"
     ]
    }
   ],
   "source": [
    "# 둘 다 참이여야 참\n",
    "## True and True\n",
    "print(t and t)  # = True\n",
    "## True and False\n",
    "print(t and f)  # = False\n",
    "\n",
    "# 둘 중 하나만 참이면 참\n",
    "## True or False\n",
    "print(t or f)  # = True\n",
    "## False or False\n",
    "print(False or False)  # = False\n",
    "\n",
    "# NOT(논리반전) 연산\n",
    "print(not t)  # = False\n",
    "print(not f)  # = True"
   ]
  },
  {
   "cell_type": "markdown",
   "metadata": {},
   "source": [
    "### String\n",
    "\n",
    "문자열을 나타내는 자료형인 `str` 을 알아보겠습니다."
   ]
  },
  {
   "cell_type": "code",
   "execution_count": 8,
   "metadata": {},
   "outputs": [
    {
     "name": "stdout",
     "output_type": "stream",
     "text": [
      "hello\n"
     ]
    }
   ],
   "source": [
    "h = 'hello'  # 사용하고자 하는 문자열을 single quotation(작은따옴표) 로 감싸서 사용할 수 있다.\n",
    "w = \"world\"  # double quotation(큰따옴표) 로도 사용할 수 있다.\n",
    "\n",
    "print(h)"
   ]
  },
  {
   "cell_type": "code",
   "execution_count": 9,
   "metadata": {},
   "outputs": [
    {
     "name": "stdout",
     "output_type": "stream",
     "text": [
      "hello  world\n"
     ]
    }
   ],
   "source": [
    "hw = h + \"  \" + w  # '+' 연산자로 여러 문자열을 합칠 수 있다\n",
    "\n",
    "print(hw)"
   ]
  },
  {
   "cell_type": "code",
   "execution_count": 10,
   "metadata": {},
   "outputs": [
    {
     "name": "stdout",
     "output_type": "stream",
     "text": [
      "!!!!!!!!!!!!!!!!!!!!!!!!!!!!!!\n"
     ]
    }
   ],
   "source": [
    "e = \"!!!\"\n",
    "\n",
    "print(e * 10)  # '*' 연산자로 문자열을 반복 시킬 수 있다."
   ]
  },
  {
   "cell_type": "markdown",
   "metadata": {},
   "source": [
    "`str` 자료형은 유용한 여러 메서드를 가지고 있습니다."
   ]
  },
  {
   "cell_type": "code",
   "execution_count": 11,
   "metadata": {},
   "outputs": [
    {
     "name": "stdout",
     "output_type": "stream",
     "text": [
      "Hello\n",
      "HELLO\n",
      "    hello\n",
      "  hello  \n",
      "he**o\n",
      "world\n",
      "5\n"
     ]
    }
   ],
   "source": [
    "s = \"hello\"\n",
    "\n",
    "print(s.capitalize())  # 첫 글자만 대문자로 변경합니다.\n",
    "print(s.upper())       # 모든 글자를 대문자로 변경합니다.\n",
    "print(s.rjust(9))      # 주어진 숫자(9)보다 문자열의 길이가 작을 경우 왼쪽에 공백을 추가하여 오른쪽 정렬합니다.\n",
    "print(s.center(9))     # 양 옆에 공백을 추가하여 중앙 정렬합니다.\n",
    "print(s.replace('l', '*'))  # 첫번째 주어진 문자를 두번째 주어진 문자로 변경합니다. (l -> *)\n",
    "print('  world '.strip())  # 양 끝 공백을 제거 합니다.\n",
    "print(len(s))  # 문자열의 길이를 반환합니다."
   ]
  },
  {
   "cell_type": "markdown",
   "metadata": {},
   "source": [
    "더 많은 문자열 메서드는 [공식 문서](https://docs.python.org/3.7/library/stdtypes.html#string-methods)에서 확인 가능합니다!"
   ]
  },
  {
   "cell_type": "markdown",
   "metadata": {},
   "source": [
    "`[]` 안에 원하는 인덱스를 지정해주어서 원하는 위치의 글자를 선택할 수 있습니다."
   ]
  },
  {
   "cell_type": "code",
   "execution_count": 12,
   "metadata": {},
   "outputs": [
    {
     "name": "stdout",
     "output_type": "stream",
     "text": [
      "y\n"
     ]
    }
   ],
   "source": [
    "s = \"parkdoyoung\"\n",
    "\n",
    "print(s[6])  # 6 번째 글자가 선택되어 출력됩니다.  # 인덱스는 0 부터 시작합니다."
   ]
  },
  {
   "cell_type": "markdown",
   "metadata": {},
   "source": [
    "`str` 메서드를 이용하여 값의 자료형식을 문자열로 변환가능합니다."
   ]
  },
  {
   "cell_type": "code",
   "execution_count": 12,
   "metadata": {},
   "outputs": [
    {
     "name": "stdout",
     "output_type": "stream",
     "text": [
      "3\n",
      "21\n"
     ]
    }
   ],
   "source": [
    "i = 2\n",
    "\n",
    "# 숫자 형식일 때\n",
    "print(i + 1)  # 2 + 1 = 3\n",
    "# 문자열 형식일 때\n",
    "print(str(i) + str(1))  # \"2\" + \"1\" = \"21\""
   ]
  },
  {
   "cell_type": "markdown",
   "metadata": {},
   "source": [
    "### type\n",
    "\n",
    "값이 어떤 자료형식인지 알고 싶을 때 `type` 메서드를 사용할 수 있습니다."
   ]
  },
  {
   "cell_type": "code",
   "execution_count": 13,
   "metadata": {},
   "outputs": [
    {
     "name": "stdout",
     "output_type": "stream",
     "text": [
      "<class 'int'>\n",
      "<class 'int'>\n",
      "<class 'float'>\n",
      "<class 'str'>\n"
     ]
    }
   ],
   "source": [
    "x = 1\n",
    "\n",
    "print(type(x))\n",
    "print(type(1))\n",
    "print(type(1.1))\n",
    "print(type(\"문자열!\"))"
   ]
  },
  {
   "cell_type": "markdown",
   "metadata": {},
   "source": [
    "#### 🔥 f-string\n",
    "\n",
    "문자열을 형식을 지정(`formatting`) 하여 원하는 형식(`template`)으로 출력할 수 있습니다.  \n",
    "`f-string` 은 python 3.6 부터 추가된 기능입니다. 이전 버전에서는 사용할 수 없습니다.\n",
    "\n",
    "자세한 내용이 알고 싶으면 [공식문서](https://www.python.org/dev/peps/pep-0498/)를 참고해주세요."
   ]
  },
  {
   "cell_type": "code",
   "execution_count": 14,
   "metadata": {},
   "outputs": [
    {
     "name": "stdout",
     "output_type": "stream",
     "text": [
      "my name is park\n",
      "my name is park\n"
     ]
    }
   ],
   "source": [
    "s = \"park\"\n",
    "\n",
    "# my name is park 을 출력하고 싶다면...\n",
    "## 1. string concatenation\n",
    "print(\"my name is \" + s)\n",
    "\n",
    "## 2. f-string\n",
    "### 사용법\n",
    "### 1. 문자열을 지정하는 \"\"(따옴표) 앞에 f 를 추가한다.\n",
    "### 2. 변수를 {} 안에 넣어준다.\n",
    "print(f\"my name is {s}\")"
   ]
  },
  {
   "cell_type": "code",
   "execution_count": 15,
   "metadata": {},
   "outputs": [
    {
     "name": "stdout",
     "output_type": "stream",
     "text": [
      "my name is young, 25 years old, hometown is busan\n",
      "my name is young, 25 years old, hometown is busan\n"
     ]
    }
   ],
   "source": [
    "# 형식에 포함하려는 변수가 여러개 라면...?\n",
    "\n",
    "name = \"young\"\n",
    "age = 25\n",
    "hometown = \"busan\"\n",
    "\n",
    "# my name is young, 25 years old, hometown is busan 을 출력하고 싶다면...\n",
    "## 1. string concatenation\n",
    "print(\"my name is \" + name + \", \" + str(age) + \" years old, hometown is \" + hometown)\n",
    "\n",
    "## 2. f-string\n",
    "print(f\"my name is {name}, {age} years old, hometown is {hometown}\")  # 간결하다...!"
   ]
  },
  {
   "cell_type": "markdown",
   "metadata": {},
   "source": [
    "기타 서식 기능도 제공합니다."
   ]
  },
  {
   "cell_type": "code",
   "execution_count": 16,
   "metadata": {},
   "outputs": [
    {
     "name": "stdout",
     "output_type": "stream",
     "text": [
      "1,000,000\n",
      "0.100000%\n",
      "0.00\n",
      "0.10%\n"
     ]
    }
   ],
   "source": [
    "print(f\"{1000000:,}\")  # :, 로 천자리 구분자를 나타낼 수 있습니다.\n",
    "print(f\"{0.001:%}\")  # :% 로 백분율 표시를 할 수 있습니다.\n",
    "print(f\"{0.001:.2f}\")  # :.2f 로 소수점 2 자리 까지 나타낼 수 있습니다.\n",
    "print(f\"{0.001:.2%}\")  # :.2% 로 소수점 2 자리 백분율을 나타낼 수 있습니다."
   ]
  },
  {
   "cell_type": "markdown",
   "metadata": {},
   "source": [
    "# Container\n",
    "\n",
    "`container` 란 기본자료 구조들을 담을 수 그릇 역할을 하는 자료구조를 말합니다.  \n",
    "`python` 에는 여러 `built-in` container 자료구조를 제공합니다: `list`, `set`, `dictionary`, `tuple`"
   ]
  },
  {
   "cell_type": "markdown",
   "metadata": {},
   "source": [
    "## List\n",
    "\n",
    "`list` 란 입력한 순서가 유지되는 배열입니다.  \n",
    "- 타 프로그래밍 언어와 달리 자동으로 크기를 늘리거나 줄일 수 있고(resizable)  \n",
    "- 어떠한 자료형태(data type)의 데이터도 한 리스트 안에 담을 수 있습니다."
   ]
  },
  {
   "cell_type": "code",
   "execution_count": 17,
   "metadata": {},
   "outputs": [
    {
     "name": "stdout",
     "output_type": "stream",
     "text": [
      "[3, 2, 4]\n",
      "2\n",
      "4\n"
     ]
    }
   ],
   "source": [
    "xs = [3, 2, 4]\n",
    "\n",
    "print(xs)\n",
    "\n",
    "# 값의 위치를 나타내는 index(순번) 는 0 부터 시작하여 해당 리스트의 길이-1 까지 존재합니다.\n",
    "print(xs[1])  # 대괄호([]) 안에 index(순번)을 넣어 원하는 위치의 값만 선택가능합니다.\n",
    "print(xs[-1])  # -1 을 index 로 지정하여 가장 마지막 값만 선택가능합니다."
   ]
  },
  {
   "cell_type": "code",
   "execution_count": 18,
   "metadata": {},
   "outputs": [
    {
     "name": "stdout",
     "output_type": "stream",
     "text": [
      "[3, 'yeah!', 4]\n"
     ]
    }
   ],
   "source": [
    "xs[1] = \"yeah!\"  # 인덱스를 지정하고 해당 인덱스에 넣을 값을 지정하여 값을 변경할 수 있습니다.\n",
    "\n",
    "print(xs)  # 한 리스트안에 여러 다른 자료형태를 담을 수 있습니다."
   ]
  },
  {
   "cell_type": "code",
   "execution_count": 19,
   "metadata": {},
   "outputs": [
    {
     "name": "stdout",
     "output_type": "stream",
     "text": [
      "[3, 'yeah!', 4]\n",
      "[3, 'yeah!', 4, 5]\n"
     ]
    }
   ],
   "source": [
    "print(xs)  # before: [3, \"yeah!\", 4]\n",
    "xs.append(5)  # 가장 뒤에 원소를 하나 추가합니다.\n",
    "print(xs)  # after: [3, \"yea!\", 4, 5]"
   ]
  },
  {
   "cell_type": "code",
   "execution_count": 20,
   "metadata": {},
   "outputs": [
    {
     "name": "stdout",
     "output_type": "stream",
     "text": [
      "[3, 'yeah!', 4, 5]\n",
      "4\n",
      "[3, 'yeah!', 4]\n",
      "3\n"
     ]
    }
   ],
   "source": [
    "print(xs)  # before: [3, \"year!\", 4, 5]\n",
    "print(len(xs))  # before: 4  # 리스트의 길이를 반환합니다.\n",
    "xs.pop()  # 가장 마지막 원소를 삭제합니다.\n",
    "print(xs)  # after: [3, \"year!\", \"4\"]\n",
    "print(len(xs))  # after: 3"
   ]
  },
  {
   "cell_type": "code",
   "execution_count": 21,
   "metadata": {},
   "outputs": [
    {
     "name": "stdout",
     "output_type": "stream",
     "text": [
      "['zero', 'four', 'two', 'four']\n"
     ]
    }
   ],
   "source": [
    "# list() 또는 [] 로 빈 리스트를 선언할 수 있습니다.\n",
    "l = list()  # 또는 l = []\n",
    "\n",
    "l.append(\"zero\")\n",
    "l.append(\"four\")\n",
    "l.append(\"two\")\n",
    "l.append(\"four\")\n",
    "\n",
    "print(l)"
   ]
  },
  {
   "cell_type": "markdown",
   "metadata": {},
   "source": [
    "더 많은 `list` 메서드는 [공식 문서](https://docs.python.org/3.7/tutorial/datastructures.html#more-on-lists)에서 확인 가능합니다!"
   ]
  },
  {
   "cell_type": "markdown",
   "metadata": {},
   "source": [
    "## Set\n",
    "\n",
    "`set` 은 중복을 허용하지 않아 유일한 원소를 가지며 순서를 보장하지 않는 집합을 말합니다."
   ]
  },
  {
   "cell_type": "code",
   "execution_count": 22,
   "metadata": {},
   "outputs": [
    {
     "name": "stdout",
     "output_type": "stream",
     "text": [
      "{'dog', 'cat'}\n",
      "True\n",
      "False\n"
     ]
    }
   ],
   "source": [
    "animals = {\"cat\", \"dog\"}  # {} 로 선언할 수 있습니다.\n",
    "\n",
    "print(animals)\n",
    "print(\"dog\" in animals)  # animals 집합(set)에 \"dog\" 가 있는 지 검사합니다.\n",
    "print(\"fish\" in animals)  # animals 집합에 \"fish\" 가 있는 지 검사합니다."
   ]
  },
  {
   "cell_type": "code",
   "execution_count": 23,
   "metadata": {},
   "outputs": [
    {
     "name": "stdout",
     "output_type": "stream",
     "text": [
      "True\n"
     ]
    }
   ],
   "source": [
    "animals.add(\"fish\")  # add 메서드로 집합에 원소를 추가할 수 있습니다.\n",
    "print(\"fish\" in animals)  # animals 집합에 \"fish\" 가 있는지 검사합니다."
   ]
  },
  {
   "cell_type": "code",
   "execution_count": 24,
   "metadata": {},
   "outputs": [
    {
     "name": "stdout",
     "output_type": "stream",
     "text": [
      "{'dog', 'fish', 'cat'}\n",
      "{'dog', 'fish'}\n"
     ]
    }
   ],
   "source": [
    "animals.add(\"cat\")  # \"cat\" 을 추가해도 추가되지 않습니다. 중복된 원소는 허용하지 않습니다.\n",
    "print(animals)\n",
    "\n",
    "animals.remove(\"cat\")  # 집합에서 원소를 제거할 수 있습니다.\n",
    "print(animals)"
   ]
  },
  {
   "cell_type": "code",
   "execution_count": 25,
   "metadata": {},
   "outputs": [
    {
     "name": "stdout",
     "output_type": "stream",
     "text": [
      "2\n",
      "{'set', 'empty'}\n"
     ]
    }
   ],
   "source": [
    "s = set()  # set() 으로 빈 집합을 선언할 수 있습니다.\n",
    "\n",
    "s.add(\"empty\")\n",
    "s.add(\"set\")\n",
    "s.add(\"set\")  # 중복된 원소는 더해지지 않습니다.\n",
    "\n",
    "# len 메서드로 집합의 크기를 알 수 있습니다.\n",
    "print(len(s))\n",
    "print(s)"
   ]
  },
  {
   "cell_type": "code",
   "execution_count": 26,
   "metadata": {},
   "outputs": [
    {
     "name": "stdout",
     "output_type": "stream",
     "text": [
      "{'dog', 'cat'}\n",
      "['dog', 'cat']\n"
     ]
    }
   ],
   "source": [
    "l = [\"cat\", \"cat\", \"dog\", \"cat\"]  # 중복된 원소가 있는 리스트를 선언합니다.\n",
    "\n",
    "# 집합 생성자에 리스트를 전달하여 중복을 집합으로 변환합니다.\n",
    "# 집합으로 변경되었기 때문에 중복된 원소는 하나만 남습니다.\n",
    "print(set(l))\n",
    "\n",
    "# set(l) 로 중복된 원소를 제거한 후\n",
    "# list() 로 다시 list 형식으로 변환합니다.\n",
    "print(list(set(l)))"
   ]
  },
  {
   "cell_type": "markdown",
   "metadata": {},
   "source": [
    "## Dictionary\n",
    "\n",
    "마치 사전처럼 `dictionary` (key, value) 쌍으로 데이터를 저장하는 자료구조 입니다.  \n",
    "- key 에 해당하는 value 를 손쉽게 찾을 수 있습니다.  \n",
    "- 입력한 순서를 보장하지 않습니다."
   ]
  },
  {
   "cell_type": "code",
   "execution_count": 27,
   "metadata": {},
   "outputs": [
    {
     "name": "stdout",
     "output_type": "stream",
     "text": [
      "강아지\n",
      "True\n"
     ]
    }
   ],
   "source": [
    "d = {\"dog\": \"강아지\", \"cat\": \"고양이\"}\n",
    "print(d[\"dog\"])  # \"dog\" 에 해당하는 key 의 value 를 불러옵니다: \"강아지\"\n",
    "print(\"cat\" in d)  # d 안에 \"cat\" 이라는 key 가 있는 지 검사합니다."
   ]
  },
  {
   "cell_type": "code",
   "execution_count": 28,
   "metadata": {},
   "outputs": [
    {
     "name": "stdout",
     "output_type": "stream",
     "text": [
      "물고기\n"
     ]
    }
   ],
   "source": [
    "d[\"fish\"] = \"물고기\"  # \"fish\" 라는 key 를 추가하고 \"물고기\" 라는 value 를 추가(이미 존재한다면 수정)합니다.\n",
    "print(d[\"fish\"])"
   ]
  },
  {
   "cell_type": "code",
   "execution_count": 29,
   "metadata": {},
   "outputs": [
    {
     "ename": "KeyError",
     "evalue": "'monkey'",
     "output_type": "error",
     "traceback": [
      "\u001b[1;31m---------------------------------------------------------------------------\u001b[0m",
      "\u001b[1;31mKeyError\u001b[0m                                  Traceback (most recent call last)",
      "\u001b[1;32m<ipython-input-29-b33c792404cc>\u001b[0m in \u001b[0;36m<module>\u001b[1;34m\u001b[0m\n\u001b[1;32m----> 1\u001b[1;33m \u001b[0mprint\u001b[0m\u001b[1;33m(\u001b[0m\u001b[0md\u001b[0m\u001b[1;33m[\u001b[0m\u001b[1;34m\"monkey\"\u001b[0m\u001b[1;33m]\u001b[0m\u001b[1;33m)\u001b[0m  \u001b[1;31m# 존재하지 않는 key 를 검색하면 KeyError 가 발생합니다\u001b[0m\u001b[1;33m\u001b[0m\u001b[1;33m\u001b[0m\u001b[0m\n\u001b[0m",
      "\u001b[1;31mKeyError\u001b[0m: 'monkey'"
     ]
    }
   ],
   "source": [
    "print(d[\"monkey\"])  # 존재하지 않는 key 를 검색하면 KeyError 가 발생합니다"
   ]
  },
  {
   "cell_type": "code",
   "execution_count": null,
   "metadata": {},
   "outputs": [],
   "source": [
    "# Error 가 발생하지 않도록 key 를 검색하려면 .get() 메서드를 사용합니다.  \n",
    "# .get([key], [key가 존재하지 않을 때 반환할 값(기본값=None)])\n",
    "\n",
    "print(d.get(\"monkey\"))  # key가 존재하지 않아 기본값인 None 를 반환합니다\n",
    "print(d.get(\"left-hand-black-dragon\", \"키가 존재하지 않음\"))  # key가 존재하지 않아 지정된 문자를 반환합니다"
   ]
  },
  {
   "cell_type": "code",
   "execution_count": null,
   "metadata": {},
   "outputs": [],
   "source": [
    "d.pop(\"dog\")  # pop 메서드를 이용해서 key 를 제거할 수 있습니다.\n",
    "\n",
    "del d[\"cat\"]  # 또는 del 키워드를 사용해서 키를 제거할 수도 있습니다.\n",
    "\n",
    "print(d)"
   ]
  },
  {
   "cell_type": "markdown",
   "metadata": {},
   "source": [
    "`dict`에 대한 더 자세한 내용은 [공식 문서](https://docs.python.org/3/tutorial/datastructures.html#dictionaries)에서 확인 가능합니다."
   ]
  },
  {
   "cell_type": "markdown",
   "metadata": {},
   "source": [
    "## Tuple\n",
    "\n",
    "튜플은 순서를 보장하는 값들의 배열입니다. 불변한다는 특성을 가지기 때문에 한 번 생성된 튜플의 원소를 추가/삭제하는 것이 불가능합니다."
   ]
  },
  {
   "cell_type": "code",
   "execution_count": null,
   "metadata": {},
   "outputs": [],
   "source": [
    "t = (2, 5)\n",
    "\n",
    "print(t[0])  # index 를 통해 값을 불러올 수 있습니다."
   ]
  },
  {
   "cell_type": "code",
   "execution_count": null,
   "metadata": {},
   "outputs": [],
   "source": [
    "t[0] = 1  # 불변(immutable)하기 때문에 값을 수정하는 것은 불가능 합니다."
   ]
  },
  {
   "cell_type": "markdown",
   "metadata": {},
   "source": [
    "🔥 `tuple` 은 `list` 와 비슷하지만 큰 차이점이 있습니다. `tuple` 만이 `set` 과 `dict` 의 key 로써 사용할 수 있다는 것입니다."
   ]
  },
  {
   "cell_type": "code",
   "execution_count": null,
   "metadata": {},
   "outputs": [],
   "source": [
    "s = {[\"리\", \"스\", \"트\"], [\"리스트\"]}  # list 는 set 의 원소로 사용할 수 없습니다.\n",
    "\n",
    "print(s)"
   ]
  },
  {
   "cell_type": "code",
   "execution_count": null,
   "metadata": {},
   "outputs": [],
   "source": [
    "# tuple 은 set 의 원소로 사용할 수 있습니다.\n",
    "# 하나의 원소를 가지는 tuple 를 생성하기 위해서는 () 안에 , 를 명시적으로 적어주어야 합니다.\n",
    "s = {(\"튜\", \"플\"), (\"튜플\",)}\n",
    "\n",
    "print(s)"
   ]
  },
  {
   "cell_type": "markdown",
   "metadata": {},
   "source": [
    "## Slicing\n",
    "\n",
    "`python` 에서는 `list` 의 특정한 부분(sublist)에 접근할 수 있는 문법을 제공합니다.  \n",
    "\n",
    "[start:end:step] 의 형식을 가집니다. start 는 시작할 인덱스, end 는 마지막 인덱스 (포함하지 않습니다), step 은 index 증가값을 말합니다."
   ]
  },
  {
   "cell_type": "code",
   "execution_count": null,
   "metadata": {},
   "outputs": [],
   "source": [
    "nums = [0, 1, 2, 3, 4]\n",
    "print(nums)         # [0, 1, 2, 3, 4]\n",
    "print(nums[2:4])    # [2, 3]; index 2 to 4 (마지막 미포함=exclusive) 부분리스트 반환\n",
    "print(nums[2:])     # [2, 3, 4]; index 2 to the end\n",
    "print(nums[:2])     # [0, 1]; from start to index 2 (exclusive) \n",
    "print(nums[:])      # [0, 1, 2, 3, 4]; 전체 리스트를 반환\n",
    "print(nums[:-1])    # [0, 1, 2, 3]; slice 는 음수도 될 수 있습니다"
   ]
  },
  {
   "cell_type": "markdown",
   "metadata": {},
   "source": [
    "문자열(`str`)타입의 특정한 부분(substring)에 접근할 수도 있습니다."
   ]
  },
  {
   "cell_type": "code",
   "execution_count": 10,
   "metadata": {},
   "outputs": [
    {
     "name": "stdout",
     "output_type": "stream",
     "text": [
      "hello, world\n",
      "ello\n",
      "world\n",
      "he\n",
      "hello, world\n",
      "hello, worl\n",
      "dlrow ,olleh\n"
     ]
    }
   ],
   "source": [
    "s = \"hello, world\"\n",
    "print(s)         # \"hello, world\"\n",
    "print(s[1:5])    # \"ello\"; index 1 to 5 (마지막 미포함=exclusive) 부분리스트 반환\n",
    "print(s[7:])     # \"world\"; index 7 to the end\n",
    "print(s[:2])     # \"he\"; from start to index 2 (exclusive) \n",
    "print(s[:])      # \"hello, world\"; 전체 문자열을 반환\n",
    "print(s[:-1])    # \"hello, worl\"; slice 는 음수도 될 수 있습니다\n",
    "print(s[::-1])   # \"dlrow ,olleh\"; step 을 음수로 전달해서 거꾸로 뒤집을 수 있습니다."
   ]
  },
  {
   "cell_type": "markdown",
   "metadata": {},
   "source": [
    "## Loop\n",
    "\n",
    "container 자료구조들은 기본적으로 `for` 구문을 통해 반복(순회)가능합니다."
   ]
  },
  {
   "cell_type": "code",
   "execution_count": 30,
   "metadata": {},
   "outputs": [
    {
     "name": "stdout",
     "output_type": "stream",
     "text": [
      "cat\n",
      "dog\n",
      "monkey\n"
     ]
    }
   ],
   "source": [
    "animals = ['cat', 'dog', 'monkey']\n",
    "for animal in animals:  # animals list 를 하나씩 순회하며 animal 이라는 변수(변수이름은 아무거나 사용가능)에 할당합니다\n",
    "    print(animal)"
   ]
  },
  {
   "cell_type": "code",
   "execution_count": 31,
   "metadata": {},
   "outputs": [
    {
     "name": "stdout",
     "output_type": "stream",
     "text": [
      "young\n",
      "park\n",
      "lee\n"
     ]
    }
   ],
   "source": [
    "names = {\"park\", \"lee\", \"young\"}\n",
    "for name in names:  # set 은 순서를 보장하지 않기 때문에 순회결과는 달라질 수 있습니다.\n",
    "    print(name)"
   ]
  },
  {
   "cell_type": "code",
   "execution_count": 32,
   "metadata": {},
   "outputs": [
    {
     "name": "stdout",
     "output_type": "stream",
     "text": [
      "cat\n",
      "dog\n",
      "dragon\n"
     ]
    }
   ],
   "source": [
    "animals_in_my_house = {\"cat\": \"고양이\", \"dog\": \"강아지\", \"dragon\": \"용\"}\n",
    "\n",
    "for each in animals_in_my_house:  # dict 는 기본적으로 key 만 순회합니다.\n",
    "    print(each)"
   ]
  },
  {
   "cell_type": "code",
   "execution_count": 33,
   "metadata": {},
   "outputs": [
    {
     "name": "stdout",
     "output_type": "stream",
     "text": [
      "고양이\n",
      "강아지\n",
      "용\n"
     ]
    }
   ],
   "source": [
    "for each in animals_in_my_house.values():  # values() 메서드를 이용해서 value 만 순회할 수 있습니다.\n",
    "    print(each)"
   ]
  },
  {
   "cell_type": "code",
   "execution_count": 34,
   "metadata": {},
   "outputs": [
    {
     "name": "stdout",
     "output_type": "stream",
     "text": [
      "('cat', '고양이')\n",
      "('dog', '강아지')\n",
      "('dragon', '용')\n"
     ]
    }
   ],
   "source": [
    "for each in animals_in_my_house.items():  # items() 메서드를 이용해서 (key, value) 튜플을 순회할 수 있습니다.\n",
    "    print(each)"
   ]
  },
  {
   "cell_type": "markdown",
   "metadata": {},
   "source": [
    "### range\n",
    "\n",
    "built-in 함수로써 지정된 범위내 `int` 의 나열을 생성합니다."
   ]
  },
  {
   "cell_type": "code",
   "execution_count": 35,
   "metadata": {},
   "outputs": [
    {
     "name": "stdout",
     "output_type": "stream",
     "text": [
      "[0, 1, 2, 3, 4]\n"
     ]
    }
   ],
   "source": [
    "r = range(5)  # 0부터 \"5\"까지(미포함) 숫자의 나열을 생성합니다.\n",
    "\n",
    "print(list(r))"
   ]
  },
  {
   "cell_type": "code",
   "execution_count": 36,
   "metadata": {},
   "outputs": [
    {
     "name": "stdout",
     "output_type": "stream",
     "text": [
      "[1, 2, 3, 4]\n"
     ]
    }
   ],
   "source": [
    "r = range(1, 5)  # \"1\"부터 \"5\"까지(미포함) 숫자의 나열을 생성합니다.\n",
    "\n",
    "print(list(r))"
   ]
  },
  {
   "cell_type": "code",
   "execution_count": 37,
   "metadata": {},
   "outputs": [
    {
     "name": "stdout",
     "output_type": "stream",
     "text": [
      "[1, 3]\n"
     ]
    }
   ],
   "source": [
    "r = range(1, 5, 2)  # \"1\"부터 \"5\"까지(미포함) \"2\" 단위로 생성합니다.\n",
    "\n",
    "print(list(r))"
   ]
  },
  {
   "cell_type": "markdown",
   "metadata": {},
   "source": [
    "`for` 문에 사용하여 `range` 내부의 값들을 순회할 수 있습니다."
   ]
  },
  {
   "cell_type": "code",
   "execution_count": 38,
   "metadata": {},
   "outputs": [
    {
     "name": "stdout",
     "output_type": "stream",
     "text": [
      "0\n",
      "1\n",
      "2\n",
      "3\n",
      "4\n"
     ]
    }
   ],
   "source": [
    "for index in range(5):\n",
    "    print(index)"
   ]
  },
  {
   "cell_type": "markdown",
   "metadata": {},
   "source": [
    "### 🔥 Enumerate\n",
    "\n",
    "container 의 값들과 순회 중인 index 를 함께 얻고자 할 때 `enumerate` 를 사용할 수 있습니다."
   ]
  },
  {
   "cell_type": "code",
   "execution_count": 39,
   "metadata": {},
   "outputs": [
    {
     "name": "stdout",
     "output_type": "stream",
     "text": [
      "(0, 'good')\n",
      "(1, 'b')\n",
      "(2, 'y')\n",
      "(3, 'e')\n"
     ]
    }
   ],
   "source": [
    "l = [\"good\", \"b\", \"y\", \"e\"]\n",
    "\n",
    "for each in enumerate(l):  # each 에는 (순회index, 순회원소) 의 tuple 이 할당됩니다.\n",
    "    print(each)"
   ]
  },
  {
   "cell_type": "code",
   "execution_count": 40,
   "metadata": {},
   "outputs": [
    {
     "name": "stdout",
     "output_type": "stream",
     "text": [
      "(15, 'good')\n",
      "(16, 'b')\n",
      "(17, 'y')\n",
      "(18, 'e')\n"
     ]
    }
   ],
   "source": [
    "for each in enumerate(l, 15):  # 시작할 index 를 지정해줄 수도 있습니다.\n",
    "    print(each)"
   ]
  },
  {
   "cell_type": "markdown",
   "metadata": {},
   "source": [
    "### 🔥 zip\n",
    "\n",
    "`zip` 은 여러 순회가능한 container 들이 있을 때, 같은 index 에 있는 원소들을 하나의 `tuple` 로 반환하여 순회가능할 수 있도록 합니다."
   ]
  },
  {
   "cell_type": "code",
   "execution_count": 41,
   "metadata": {},
   "outputs": [
    {
     "name": "stdout",
     "output_type": "stream",
     "text": [
      "(4, 'female')\n",
      "(3, 'male')\n",
      "(2, 'male')\n",
      "(17, 'female')\n",
      "(2, 'female')\n"
     ]
    }
   ],
   "source": [
    "person_ids = [4, 3, 2, 17, 2]\n",
    "genders = [\"female\", \"male\", \"male\", \"female\", \"female\"]\n",
    "\n",
    "for each in zip(person_ids, genders):\n",
    "    print(each)"
   ]
  },
  {
   "cell_type": "code",
   "execution_count": 42,
   "metadata": {},
   "outputs": [
    {
     "name": "stdout",
     "output_type": "stream",
     "text": [
      "(1, 'a')\n",
      "(2, 'b')\n",
      "(3, 'c')\n"
     ]
    }
   ],
   "source": [
    "numbers = [1, 2, 3]\n",
    "letters = [\"a\", \"b\", \"c\", \"d\", \"e\", \"f\"]\n",
    "\n",
    "for each in zip(numbers, letters):  # 둘 중 길이가 적은 container 를 기준으로 작동합니다.\n",
    "    print(each)"
   ]
  },
  {
   "cell_type": "markdown",
   "metadata": {},
   "source": [
    "## 🔥 Comprehension\n",
    "\n",
    "프로그래밍을 하다보면 흔히 우리는 container 들을 다른 형태로 변환하게 됩니다. 이를 위해 `python` 에서는 `comprehension` 문법을 지원합니다."
   ]
  },
  {
   "cell_type": "markdown",
   "metadata": {},
   "source": [
    "예로 아래 주어진 리스트들의 값들을 제곱하여 새로운 리스트를 만드려 합니다."
   ]
  },
  {
   "cell_type": "code",
   "execution_count": 43,
   "metadata": {},
   "outputs": [
    {
     "name": "stdout",
     "output_type": "stream",
     "text": [
      "[4, 36, 144, 1]\n"
     ]
    }
   ],
   "source": [
    "# 쉬운 방법으로는 전통적인 for 문을 사용할 수 있습니다.\n",
    "l = [2, 6, 12, 1]\n",
    "\n",
    "new_list = []\n",
    "for each in l:\n",
    "    new_value = each ** 2\n",
    "    new_list.append(new_value)\n",
    "    \n",
    "print(new_list)"
   ]
  },
  {
   "cell_type": "code",
   "execution_count": 44,
   "metadata": {},
   "outputs": [
    {
     "name": "stdout",
     "output_type": "stream",
     "text": [
      "[4, 36, 144, 1]\n"
     ]
    }
   ],
   "source": [
    "# 더 pythonic 한 방법으로는 comprehension 을 사용할 수 있습니다.\n",
    "sample_comprehension = [each**2 for each in l]\n",
    "\n",
    "print(sample_comprehension)"
   ]
  },
  {
   "cell_type": "markdown",
   "metadata": {},
   "source": [
    "뿐만아니라 `range` 등 과 같이 사용하여 손쉽게 원하는 값을 만들 수도 있습니다.  \n",
    "만약 [\"1월\", \"2월\", \"3월\", ..., \"12월] 이라는 리스트를 얻고자 한다면 아래 방법을 사용할 수 있습니다."
   ]
  },
  {
   "cell_type": "code",
   "execution_count": 45,
   "metadata": {},
   "outputs": [
    {
     "name": "stdout",
     "output_type": "stream",
     "text": [
      "['1월', '2월', '3월', '4월', '5월', '6월', '7월', '8월', '9월', '10월', '11월', '12월']\n"
     ]
    }
   ],
   "source": [
    "# 전통적인 for 문을 사용하여 원하는 문제를 해결합니다.\n",
    "r = range(1, 13)  # 숫자로 1~12를 가지는 range 를 생성합니다.\n",
    "\n",
    "l = []\n",
    "for month in r:\n",
    "    l.append(str(month) + \"월\")\n",
    "    \n",
    "print(l)"
   ]
  },
  {
   "cell_type": "code",
   "execution_count": 46,
   "metadata": {},
   "outputs": [
    {
     "name": "stdout",
     "output_type": "stream",
     "text": [
      "['1월', '2월', '3월', '4월', '5월', '6월', '7월', '8월', '9월', '10월', '11월', '12월']\n"
     ]
    }
   ],
   "source": [
    "# comprehension 과 f-string 을 이용하여 생성합니다.\n",
    "months = [f\"{month}월\" for month in range(1, 13)]\n",
    "\n",
    "print(months)"
   ]
  },
  {
   "cell_type": "markdown",
   "metadata": {},
   "source": [
    "다른 container 객체에서도 `comprehension` 을 사용할 수 있습니다."
   ]
  },
  {
   "cell_type": "code",
   "execution_count": 47,
   "metadata": {},
   "outputs": [
    {
     "name": "stdout",
     "output_type": "stream",
     "text": [
      "{1: 1, 2: 4, 3: 9, 4: 16}\n"
     ]
    }
   ],
   "source": [
    "# 원래의 값을 key 로, 제곱된 값을 value 로 가지는 dict 를 생성하고자 합니다.\n",
    "# ex) {1: 1, 2: 4, 3: 9, 4: 16}\n",
    "l = [1, 2, 3, 4]\n",
    "\n",
    "d = {each: each**2 for each in l}\n",
    "\n",
    "print(d)"
   ]
  },
  {
   "cell_type": "markdown",
   "metadata": {},
   "source": [
    "## sort\n",
    "\n",
    "`sorted` 를 이용하여 container 안의 값들을 사전순 정렬할 수 있습니다."
   ]
  },
  {
   "cell_type": "code",
   "execution_count": 48,
   "metadata": {},
   "outputs": [
    {
     "name": "stdout",
     "output_type": "stream",
     "text": [
      "[54, 32, 124]\n",
      "[32, 54, 124]\n",
      "[54, 32, 124]\n"
     ]
    }
   ],
   "source": [
    "l = [54, 32, 124]\n",
    "\n",
    "print(l)  # 정렬 전\n",
    "print(sorted(l))  # 정렬 후\n",
    "\n",
    "print(l)  # sorted 는 정렬을 한 새로운 list 를 반환하는 것이기 때문에 기존 리스트는 정렬되지 않은 상태 그대로 입니다."
   ]
  },
  {
   "cell_type": "markdown",
   "metadata": {},
   "source": [
    "정렬된 새로운 리스트를 반화하는 것이 아니라 기존 리스트를 정렬시키고 싶다면 `list`의 `sort()` 메서드를 사용할 수 있습니다."
   ]
  },
  {
   "cell_type": "code",
   "execution_count": 49,
   "metadata": {},
   "outputs": [
    {
     "name": "stdout",
     "output_type": "stream",
     "text": [
      "[32, 54, 124]\n"
     ]
    }
   ],
   "source": [
    "l.sort()\n",
    "\n",
    "print(l)  # list l 의 원본이 정렬되었습니다."
   ]
  },
  {
   "cell_type": "markdown",
   "metadata": {},
   "source": [
    "역방향으로 정렬하고 싶다면 `reverse=True` 옵션을 줄 수 있습니다."
   ]
  },
  {
   "cell_type": "code",
   "execution_count": 50,
   "metadata": {},
   "outputs": [
    {
     "name": "stdout",
     "output_type": "stream",
     "text": [
      "['l', 'k', 'c', 'b', 'a']\n"
     ]
    }
   ],
   "source": [
    "letters = [\"b\", \"l\", \"a\", \"c\", \"k\"]\n",
    "\n",
    "print(sorted(letters, reverse=True))"
   ]
  },
  {
   "cell_type": "markdown",
   "metadata": {},
   "source": [
    "## reversed\n",
    "\n",
    "container 를 역방향으로 만들고자 한다면 `reversed` 를 이용할 수 도 있습니다."
   ]
  },
  {
   "cell_type": "code",
   "execution_count": 51,
   "metadata": {},
   "outputs": [
    {
     "name": "stdout",
     "output_type": "stream",
     "text": [
      "[0, 1, 2, 3, 4, 5, 6, 7, 8, 9]\n",
      "[9, 8, 7, 6, 5, 4, 3, 2, 1, 0]\n",
      "[9, 8, 7, 6, 5, 4, 3, 2, 1, 0]\n"
     ]
    }
   ],
   "source": [
    "numbers = list(range(10))\n",
    "\n",
    "print(numbers)  # 기존 \n",
    "print(list(reversed(numbers)))  # reversed 를 사용하고 list로 만들어주어야 사용가능합니다.\n",
    "print(numbers[::-1])  # 또는 slice 를 이용하여 역방향 정렬도 가능합니다."
   ]
  },
  {
   "cell_type": "markdown",
   "metadata": {},
   "source": [
    "아래 예처럼 거꾸로 순회하고자 할 때 사용할 수 있습니다."
   ]
  },
  {
   "cell_type": "code",
   "execution_count": 52,
   "metadata": {},
   "outputs": [
    {
     "name": "stdout",
     "output_type": "stream",
     "text": [
      "4\n",
      "3\n",
      "2\n",
      "1\n",
      "0\n"
     ]
    }
   ],
   "source": [
    "for each in reversed(range(5)):\n",
    "    print(each)"
   ]
  },
  {
   "cell_type": "markdown",
   "metadata": {},
   "source": [
    "## useful methods\n",
    "\n",
    "- max : container 중 가장 큰 값을 구하는 함수입니다.\n",
    "- min : container 중 가장 작은 값을 구하는 함수입니다.\n",
    "- sum : container 의 원소들의 합을 구합니다."
   ]
  },
  {
   "cell_type": "code",
   "execution_count": 53,
   "metadata": {},
   "outputs": [
    {
     "name": "stdout",
     "output_type": "stream",
     "text": [
      "9\n",
      "1\n",
      "25\n"
     ]
    }
   ],
   "source": [
    "l = [1, 3, 5, 7, 9]\n",
    "\n",
    "print(max(l))\n",
    "print(min(l))\n",
    "print(sum(l))"
   ]
  },
  {
   "cell_type": "markdown",
   "metadata": {},
   "source": [
    "# Condition\n",
    "\n",
    "`if`, `elif`, `else` 키워드를 이용하여 조건문을 작성할 수 있습니다."
   ]
  },
  {
   "cell_type": "code",
   "execution_count": 54,
   "metadata": {},
   "outputs": [
    {
     "name": "stdout",
     "output_type": "stream",
     "text": [
      "n is positive\n"
     ]
    }
   ],
   "source": [
    "n = 5\n",
    "\n",
    "if n > 0:\n",
    "    print(\"n is positive\")\n",
    "elif n < 0:\n",
    "    print(\"n is negative\")\n",
    "else:\n",
    "    print(\"n is zero\")"
   ]
  },
  {
   "cell_type": "markdown",
   "metadata": {},
   "source": [
    "# Function\n",
    "\n",
    "자주 사용되거나 반복되는 코드를 함수로 정의하고 여러 곳에서 편하게 사용가능합니다.  \n",
    "함수의 정의는 `def` 키워드를 사용합니다."
   ]
  },
  {
   "cell_type": "code",
   "execution_count": 55,
   "metadata": {},
   "outputs": [],
   "source": [
    "# 어떤 숫자 n 이 0이 아니면 n 을, 0이면 \"zero!\" 를 출력하는 함수를 정의합니다.\n",
    "def sample_function(n):\n",
    "    if n != 0:\n",
    "        print(n)\n",
    "    else:\n",
    "        print(\"zero!\")"
   ]
  },
  {
   "cell_type": "code",
   "execution_count": 56,
   "metadata": {},
   "outputs": [
    {
     "name": "stdout",
     "output_type": "stream",
     "text": [
      "10\n",
      "zero!\n"
     ]
    },
    {
     "ename": "TypeError",
     "evalue": "sample_function() missing 1 required positional argument: 'n'",
     "output_type": "error",
     "traceback": [
      "\u001b[1;31m---------------------------------------------------------------------------\u001b[0m",
      "\u001b[1;31mTypeError\u001b[0m                                 Traceback (most recent call last)",
      "\u001b[1;32m<ipython-input-56-5298e93fe80e>\u001b[0m in \u001b[0;36m<module>\u001b[1;34m\u001b[0m\n\u001b[0;32m      2\u001b[0m \u001b[0msample_function\u001b[0m\u001b[1;33m(\u001b[0m\u001b[1;36m0\u001b[0m\u001b[1;33m)\u001b[0m  \u001b[1;31m# 0 일때는 zero! 를 출력합니다.\u001b[0m\u001b[1;33m\u001b[0m\u001b[1;33m\u001b[0m\u001b[0m\n\u001b[0;32m      3\u001b[0m \u001b[1;33m\u001b[0m\u001b[0m\n\u001b[1;32m----> 4\u001b[1;33m \u001b[0msample_function\u001b[0m\u001b[1;33m(\u001b[0m\u001b[1;33m)\u001b[0m  \u001b[1;31m# n 을 전달하지 않으면 오류가 발생합니다.\u001b[0m\u001b[1;33m\u001b[0m\u001b[1;33m\u001b[0m\u001b[0m\n\u001b[0m",
      "\u001b[1;31mTypeError\u001b[0m: sample_function() missing 1 required positional argument: 'n'"
     ]
    }
   ],
   "source": [
    "sample_function(10)  # 0이 아니기 때문에 n인 10을 출력합니다.\n",
    "sample_function(0)  # 0 일때는 zero! 를 출력합니다.\n",
    "\n",
    "sample_function()  # n 을 전달하지 않으면 오류가 발생합니다."
   ]
  },
  {
   "cell_type": "code",
   "execution_count": 57,
   "metadata": {},
   "outputs": [],
   "source": [
    "# 기본값을 정의한 함수를 정의할 수도 있습니다.\n",
    "# 인자가 전달되지 않으면 지정된 기본값(=0)가 전달된 것 처럼 작동합니다.\n",
    "def sample_function_with_default_value(n=0):\n",
    "    if n != 0:\n",
    "        print(n)\n",
    "    else:\n",
    "        print(\"zero!\")"
   ]
  },
  {
   "cell_type": "code",
   "execution_count": 58,
   "metadata": {},
   "outputs": [
    {
     "name": "stdout",
     "output_type": "stream",
     "text": [
      "10\n",
      "zero!\n",
      "zero!\n"
     ]
    }
   ],
   "source": [
    "sample_function_with_default_value(10)   # 0이 아니기 때문에 n인 10을 출력합니다.\n",
    "sample_function_with_default_value(0)  # 0 일때는 zero! 를 출력합니다.\n",
    "\n",
    "sample_function_with_default_value()  # 아무값도 전달하지 않았기 때문에 0 이 전달된 것처럼 작동합니다."
   ]
  },
  {
   "cell_type": "markdown",
   "metadata": {},
   "source": [
    "### None\n",
    "\n",
    "몇 안되는 `python` 의 내장상수 중 하나이며, 값의 부재를 나타낼 때 사용됩니다.\n",
    "- [내장상수](https://docs.python.org/ko/3/library/constants.html)란 ?"
   ]
  },
  {
   "cell_type": "markdown",
   "metadata": {},
   "source": [
    "함수의 반환값이 없을 때는 `None` 을 반환합니다."
   ]
  },
  {
   "cell_type": "code",
   "execution_count": 59,
   "metadata": {},
   "outputs": [],
   "source": [
    "def return_nothing():\n",
    "    print(\"hello? in function...\")"
   ]
  },
  {
   "cell_type": "code",
   "execution_count": 60,
   "metadata": {},
   "outputs": [
    {
     "name": "stdout",
     "output_type": "stream",
     "text": [
      "hello? in function...\n",
      "None\n"
     ]
    }
   ],
   "source": [
    "# 함수안에서 출력을 하고\n",
    "# 함수의 반환값이 없기 때문에(None) 함수의 반환값을 출력하면 None 이 출력됩니다.\n",
    "print(return_nothing())"
   ]
  },
  {
   "cell_type": "code",
   "execution_count": 61,
   "metadata": {},
   "outputs": [
    {
     "name": "stdout",
     "output_type": "stream",
     "text": [
      "hello? in function...\n",
      "None\n"
     ]
    }
   ],
   "source": [
    "# 바로 위 셀의 내용과 동일합니다.\n",
    "return_value = return_nothing()\n",
    "print(return_value)"
   ]
  },
  {
   "cell_type": "markdown",
   "metadata": {},
   "source": [
    "반환값이 있는 경우는 아래와 같습니다."
   ]
  },
  {
   "cell_type": "code",
   "execution_count": 62,
   "metadata": {},
   "outputs": [],
   "source": [
    "def return_anything():\n",
    "    return \"hello! i'm return value\""
   ]
  },
  {
   "cell_type": "code",
   "execution_count": 63,
   "metadata": {},
   "outputs": [
    {
     "name": "stdout",
     "output_type": "stream",
     "text": [
      "hello! i'm return value\n",
      "hello! i'm return value\n"
     ]
    }
   ],
   "source": [
    "print(return_anything())  # 함수에서 문자열(\"hello...\")을 반환했고 그 값을 출력합니다.\n",
    "\n",
    "# same as above\n",
    "return_value = return_anything()\n",
    "print(return_value)"
   ]
  },
  {
   "cell_type": "markdown",
   "metadata": {},
   "source": [
    "### 🔥 Lambda\n",
    "\n",
    "임시적으로 사용될 함수를 선언하기 위해 `def` 키워드를 사용하지 않고 `lambda` 로 함수를 만들 수 있습니다."
   ]
  },
  {
   "cell_type": "code",
   "execution_count": 64,
   "metadata": {},
   "outputs": [
    {
     "name": "stdout",
     "output_type": "stream",
     "text": [
      "2\n",
      "11\n"
     ]
    }
   ],
   "source": [
    "# x 를 입력으로 받아 x+1 를 반환하는 함수를 simple_function 이라는 이름으로 선언합니다.\n",
    "simple_function = lambda x: x+1\n",
    "\n",
    "print(simple_function(1))  # 1+1 인 2 를 반환합니다.\n",
    "print(simple_function(10))  # 10+1 인 11 를 반환합니다."
   ]
  },
  {
   "cell_type": "markdown",
   "metadata": {},
   "source": [
    "### 🔥 map\n",
    "\n",
    "순회가능한 값(`iterable`*) 를 특정한 함수를 거쳐 변환하여 반환합니다.  \n",
    "반환된 값은 `map` 형식이기 때문에 `list()` 등으로 변환해주어야 합니다.\n",
    "\n",
    "\\* 이 강의에서는 container 로 명명합니다."
   ]
  },
  {
   "cell_type": "code",
   "execution_count": 65,
   "metadata": {},
   "outputs": [
    {
     "name": "stdout",
     "output_type": "stream",
     "text": [
      "[2, 11, 101]\n",
      "[2, 11, 101]\n"
     ]
    }
   ],
   "source": [
    "f = lambda x: x+1\n",
    "l = [1, 10, 100]\n",
    "\n",
    "# 함수, 변환하고자하는 container 를 전달합니다.\n",
    "result = list(map(f, l))\n",
    "print(result)\n",
    "\n",
    "# 줄여쓰면 아래와 같이 사용가능합니다.\n",
    "print(list(map(lambda x: x+1, [1, 10, 100])))"
   ]
  },
  {
   "cell_type": "markdown",
   "metadata": {},
   "source": [
    "`lambda` 뿐만아니라 복잡한 함수도 전달가능합니다."
   ]
  },
  {
   "cell_type": "code",
   "execution_count": 66,
   "metadata": {},
   "outputs": [],
   "source": [
    "def complex_function(n):\n",
    "    if n == 0:\n",
    "        return \"hello\"\n",
    "    return n ** 2"
   ]
  },
  {
   "cell_type": "code",
   "execution_count": 67,
   "metadata": {},
   "outputs": [
    {
     "name": "stdout",
     "output_type": "stream",
     "text": [
      "[1, 'hello', 4, 9, 'hello']\n"
     ]
    }
   ],
   "source": [
    "l = [1, 0, 2, 3, 0]\n",
    "\n",
    "print(list(map(complex_function, l)))"
   ]
  },
  {
   "cell_type": "markdown",
   "metadata": {},
   "source": [
    "### 🔥 filter\n",
    "\n",
    "순회가능한 값에서 특정한 함수를 만족(결과값이 True)하는 값만 남기고 필터링합니다.  \n",
    "반환된 값은 `filter` 형식이기 때문에 `list()` 등으로 변환해주어야합니다."
   ]
  },
  {
   "cell_type": "code",
   "execution_count": 68,
   "metadata": {},
   "outputs": [
    {
     "name": "stdout",
     "output_type": "stream",
     "text": [
      "[1, 2]\n"
     ]
    }
   ],
   "source": [
    "f = lambda x: x > 0\n",
    "l = [-2, -1, 0, 1, 2]  # =list(range(-2, 3))\n",
    "\n",
    "result = list(filter(f, l))  # 전달된 f 에 따라 0 초과인 값들만 남습니다.\n",
    "print(result)"
   ]
  },
  {
   "cell_type": "markdown",
   "metadata": {},
   "source": [
    "### 🔥 Packing·Unpacking\n",
    "\n",
    "여러 값들을 하나의 변수에 모으거나 하나의 변수를 여러개의 변수에 할당할 수 있습니다."
   ]
  },
  {
   "cell_type": "markdown",
   "metadata": {},
   "source": [
    "#### packing\n",
    "\n",
    "여러 값들을 하나의 변수에 모읍니다."
   ]
  },
  {
   "cell_type": "code",
   "execution_count": 69,
   "metadata": {},
   "outputs": [
    {
     "name": "stdout",
     "output_type": "stream",
     "text": [
      "1\n",
      "2\n",
      "[3, 4, 5]\n"
     ]
    }
   ],
   "source": [
    "l = [1, 2, 3, 4, 5]\n",
    "\n",
    "first, second, *rest = l  # \"*\" 를 사용해서 두번째 이후 변수들을 rest 에 모읍니다.\n",
    "\n",
    "print(first)\n",
    "print(second)\n",
    "print(rest)"
   ]
  },
  {
   "cell_type": "code",
   "execution_count": 70,
   "metadata": {},
   "outputs": [],
   "source": [
    "# 여러 변수들을 받아서 하나의 변수로 만듭니다.\n",
    "def pack(*args):\n",
    "    print(args)"
   ]
  },
  {
   "cell_type": "code",
   "execution_count": 71,
   "metadata": {},
   "outputs": [
    {
     "name": "stdout",
     "output_type": "stream",
     "text": [
      "(1, 2, 3)\n"
     ]
    }
   ],
   "source": [
    "pack(1, 2, 3)  # 1, 2, 3 이 따로 전달되었지만 하나의 변수로 합쳐졌습니다."
   ]
  },
  {
   "cell_type": "markdown",
   "metadata": {},
   "source": [
    "#### unpacking\n",
    "\n",
    "하나의 변수를 여러 개의 변수에 나눠 할당합니다."
   ]
  },
  {
   "cell_type": "code",
   "execution_count": 72,
   "metadata": {},
   "outputs": [
    {
     "name": "stdout",
     "output_type": "stream",
     "text": [
      "3\n",
      "4\n"
     ]
    }
   ],
   "source": [
    "t = (3, 4)\n",
    "\n",
    "first, second = t  # 하나의 튜플을 두 개의 변수에 나눠 담습니다.\n",
    "\n",
    "print(first)\n",
    "print(second)"
   ]
  },
  {
   "cell_type": "code",
   "execution_count": 73,
   "metadata": {},
   "outputs": [],
   "source": [
    "# 두 변수를 받아 그 합을 출력하는 함수입니다.\n",
    "def unpack(a, b):\n",
    "    print(a+b)"
   ]
  },
  {
   "cell_type": "code",
   "execution_count": 74,
   "metadata": {},
   "outputs": [
    {
     "name": "stdout",
     "output_type": "stream",
     "text": [
      "7\n"
     ]
    }
   ],
   "source": [
    "t = (1, 6)\n",
    "\n",
    "unpack(*t)  # 튜플 하나를 \"*\" 를 이용해 unpack 해서 두 개의 변수로 만듭니다."
   ]
  },
  {
   "cell_type": "markdown",
   "metadata": {},
   "source": [
    "`dict` 를 pack/unpack 하여 함수의 인자로 전달할 수 있습니다."
   ]
  },
  {
   "cell_type": "code",
   "execution_count": 75,
   "metadata": {},
   "outputs": [],
   "source": [
    "def print_song(artist, title):\n",
    "    print(f\"{title} - {artist}\")"
   ]
  },
  {
   "cell_type": "code",
   "execution_count": 76,
   "metadata": {},
   "outputs": [
    {
     "name": "stdout",
     "output_type": "stream",
     "text": [
      "save your tears - the weeknd\n",
      "pretty savage - blackpink\n"
     ]
    }
   ],
   "source": [
    "print_song(\"the weeknd\", \"save your tears\")  # 일반적인 사용 방법\n",
    "\n",
    "d = {\"artist\": \"blackpink\", \"title\": \"pretty savage\"}\n",
    "print_song(**d)  # unpacking 을 사용한 방법"
   ]
  },
  {
   "cell_type": "markdown",
   "metadata": {},
   "source": [
    "# Class\n",
    "\n",
    "객체지향 프로그래밍의 기본이 되는 클래스에 대해 알아보겠습니다.  \n",
    "어떤 개념을 나타내기 위한 설계도를 클래스라 할 수 있습니다. 클래스(설계도)를 통해 객체(인스턴스) 만들 수 있습니다.  \n",
    "앞서서 사용했던 `list`, `set` 뿐만아니라 심지어 `int`, `str` 등 도 모든 것이 클래스를 통해 만들어진 객체입니다.\n",
    "\n",
    "더 자세한 설명은 [점프 투 파이썬](https://wikidocs.net/28)에서 볼 수 있습니다."
   ]
  },
  {
   "cell_type": "code",
   "execution_count": 77,
   "metadata": {},
   "outputs": [],
   "source": [
    "class Greeter:\n",
    "\n",
    "    # 생성자\n",
    "    # 이 클래스를 객체로써 생성하기 위한 특별한 함수를 정의합니다.\n",
    "    def __init__(self, name):\n",
    "        self.name = name  # 인스턴스 변수를 생성합니다.\n",
    "        self.greet_count = 0\n",
    "\n",
    "    # 인스턴스 메서드(함수)\n",
    "    def greet(self, loud=False):\n",
    "        if loud:\n",
    "            print(f\"HELLO, {self.name.upper()}!\")\n",
    "        else:\n",
    "            print(f\"Hello, {self.name}!\")\n",
    "        self.greet_count = self.greet_count + 1\n",
    "        \n",
    "    # 인스턴스 메서드\n",
    "    # 지금까지 greet() 메서드를 호출한 횟수를 출력합니다.\n",
    "    def print_greet_count(self):\n",
    "        print(self.greet_count)"
   ]
  },
  {
   "cell_type": "code",
   "execution_count": 78,
   "metadata": {},
   "outputs": [
    {
     "name": "stdout",
     "output_type": "stream",
     "text": [
      "Hello, young!\n",
      "HELLO, YOUNG!\n",
      "2\n"
     ]
    }
   ],
   "source": [
    "g = Greeter(\"young\")  # Greeter 클래스의 instance(객체)를 생성합니다.\n",
    "g.greet()  # greet 메서드를 실행합니다.\n",
    "g.greet(loud=True)  # greet 메서드를 실행합니다.\n",
    "g.print_greet_count()  # print_greet_count 메서드를 실행합니다."
   ]
  },
  {
   "cell_type": "markdown",
   "metadata": {},
   "source": [
    "# Import\n",
    "\n",
    "직접 함수나 클래스를 정의하고 사용할 수도 있지만, 다른 이들이 만들어 놓은 함수와 클래스를 들고와서 사용할 수 있습니다."
   ]
  },
  {
   "cell_type": "code",
   "execution_count": 79,
   "metadata": {},
   "outputs": [
    {
     "name": "stdout",
     "output_type": "stream",
     "text": [
      "1.7320508075688772\n"
     ]
    }
   ],
   "source": [
    "# math 모듈을 불러옵니다.\n",
    "# math 모듈에 있는 함수나 클래스를 사용할 수 있습니다.\n",
    "import math  \n",
    "\n",
    "print(math.sqrt(3))  # 제곱근을 구해주는 sqrt 함수를 사용하여 3의 제곱근을 구합니다."
   ]
  },
  {
   "cell_type": "markdown",
   "metadata": {},
   "source": [
    "### as\n",
    "\n",
    "모듈을 들고올 때 모듈 별칭을 지정하여 들고 올 수 있습니다."
   ]
  },
  {
   "cell_type": "code",
   "execution_count": 80,
   "metadata": {},
   "outputs": [
    {
     "name": "stdout",
     "output_type": "stream",
     "text": [
      "1.7320508075688772\n"
     ]
    }
   ],
   "source": [
    "import math as math_util  # math 모듈을 math_util 이라는 이름으로 들고옵니다.\n",
    "\n",
    "print(math_util.sqrt(3))  # 제곱근을 구해주는 함수를 사용합니다."
   ]
  },
  {
   "cell_type": "markdown",
   "metadata": {},
   "source": [
    "### from\n",
    "\n",
    "모듈 내에서 필요한 함수나 클래스만을 들고 올 수 있습니다."
   ]
  },
  {
   "cell_type": "code",
   "execution_count": 81,
   "metadata": {},
   "outputs": [
    {
     "name": "stdout",
     "output_type": "stream",
     "text": [
      "1.7320508075688772\n",
      "4\n"
     ]
    }
   ],
   "source": [
    "from math import sqrt, ceil  # math 모듈에서 sqrt, ceil 함수를 들고옵니다.\n",
    "\n",
    "print(sqrt(3))  # math 모듈에서 들고온 sqrt 함수를 사용합니다.\n",
    "print(ceil(3.6))  # math 모듈에서 들고온 ceil 함수를 사용합니다. ceil 함수는 가장 가까운 정수로 올림하는 함수입니다."
   ]
  },
  {
   "cell_type": "code",
   "execution_count": 82,
   "metadata": {},
   "outputs": [
    {
     "name": "stdout",
     "output_type": "stream",
     "text": [
      "3\n"
     ]
    }
   ],
   "source": [
    "from math import *  # \"*\" 를 명시하여 해당 모듈의 모든 함수나 클래스를 들고 올 수도 있습니다.\n",
    "\n",
    "print(floor(3.6))  # math 모듈 안 floor 함수를 사용합니다. floor 함수는 가장 가까운 정수로 내림하는 함수입니다."
   ]
  },
  {
   "cell_type": "markdown",
   "metadata": {},
   "source": [
    "#### Library ?\n",
    "공통으로 사용될 수 있는 기능을 모듈화한 것을 말합니다. `python` 은 많은 유용한 라이브러리를 기본적으로 제공합니다."
   ]
  },
  {
   "cell_type": "code",
   "execution_count": 83,
   "metadata": {},
   "outputs": [
    {
     "name": "stdout",
     "output_type": "stream",
     "text": [
      "[12, 9, 13, 5, 7, 38]\n"
     ]
    }
   ],
   "source": [
    "# 로또 번호 추첨기를 기본적으로 제공하는 라이브러리를 사용하여 간단히 만들어 볼 수 있습니다.\n",
    "from random import choices  # random 모듈에서 무작위로 k 개의 선택지를 고르는 choices 함수를 들고옵니다.\n",
    "\n",
    "numbers = list(range(1, 46))  # 1~45 까지 숫자를 생성합니다.\n",
    "print(choices(numbers, k=6)) # 6 개의 숫자를 고릅니다.  # 무작위로 선택된 값이기 때문에 실행할 때 마다 값이 달라집니다."
   ]
  },
  {
   "cell_type": "markdown",
   "metadata": {},
   "source": [
    "### PIP\n",
    "\n",
    "기본으로 제공되는 내장 라이브러리 말고도 외부에서 제공하는 라이브러리를 다운받고 싶다면 `pip` 모듈을 사용할 수 있습니다.  "
   ]
  },
  {
   "cell_type": "code",
   "execution_count": 85,
   "metadata": {},
   "outputs": [],
   "source": [
    "!pip install art  # pip install [패키지명] 으로 패키지를 다운 받을 수 있습니다. 인터넷이 연결되어있어야 합니다."
   ]
  },
  {
   "cell_type": "code",
   "execution_count": 112,
   "metadata": {},
   "outputs": [
    {
     "name": "stdout",
     "output_type": "stream",
     "text": [
      " _            _  _         ___ \n",
      "| |__    ___ | || |  ___  |__ \\\n",
      "| '_ \\  / _ \\| || | / _ \\   / /\n",
      "| | | ||  __/| || || (_) | |_| \n",
      "|_| |_| \\___||_||_| \\___/  (_) \n",
      "                               \n",
      "\n"
     ]
    }
   ],
   "source": [
    "from art import tprint  # 다운받은 art 라이브러리에서 tprint 함수를 불러옵니다.\n",
    "\n",
    "tprint(\"hello?\")  # 귀여운 글씨체로 출력합니다."
   ]
  },
  {
   "cell_type": "markdown",
   "metadata": {},
   "source": [
    "# Environment\n",
    "\n",
    "`python` 을 개발하고 실행하는 환경에 대해서 알아보겠습니다."
   ]
  },
  {
   "cell_type": "markdown",
   "metadata": {},
   "source": [
    "### IPython\n",
    "\n",
    "기존 `python` 실행환경인 `python shell` 은 코드를 입력하면 코드의 실행 결과를 바로 확인할 수 있고(`REPL`) 이전 코드의 실행 결과를 모두 기억하고 있어서 간단한 코드를 작성할 수 있었습니다. 이를 개선하여 다양한 부가기능을 이용해 코드를 편하게 작성하고 실행할 수 있는 `IPython(Interactive Python)` 이 개발되었습니다. `IPython` 은 자동완성, 코드 하이라이팅, 객체 정보 보기, 단축키,` magic command` 등 의 다양한 부가기능을 추가해 사용성을 개선되었습니다."
   ]
  },
  {
   "cell_type": "markdown",
   "metadata": {},
   "source": [
    "## Jupyter notebook\n",
    "\n",
    "`IPython` 에 출력물을 관리하고 문서화를 시키고 웹 어플리케이션의 형태로 사용가능 하도록 만든 프로그램이 `Jupyter notebook` 입니다. `Jupyter notebook` 은 코드 작성과 실행을 서버-클라이언트 모델로 분리하였습니다. 즉, 사용자가 웹 브라우저(클라이언트)에서 코드를 작성하면, 코드는 서버로 전송되어 실행되고, 그 결과가 다시 웹 브라우저로 전달되어 사용자에게 보여지는 것 입니다.  \n",
    "이 때 서버에서 실제로 코드를 실행하는 핵심 컴포넌트를 `커널(kernel)` 이라고 합니다. `Jupyter notebook` 은 기본적으로 `IPython` 을 `커널`로 사용합니다. 초창기에는 `IPython` 만 `커널`로써 사용 가능 했지만, 이후에는 `javascript`, `c++`, `ruby` 등의 다른 프로그래밍 언어도 지원하게 되었습니다.  \n",
    "\n",
    "![jupyter-notebook-structure](https://heekangpark.github.io/assets/img/etc/jupyterlab-jupyter-notebook-architecture.png)\n",
    "\n",
    "- https://heekangpark.github.io/etc/jupyter-lab\n",
    "- https://jupyter.org/"
   ]
  },
  {
   "cell_type": "markdown",
   "metadata": {},
   "source": [
    "### magic\n",
    "\n",
    "`IPython`, `Jupyter notebook` 에는 마법같은 기능을 제공해주는 `magic command` 가 내장되어 있습니다. 많은 `magic command` 가 있지만 모두 자주 사용되는 것은 아니지만 그 중 몇몇은 많이 쓰이기도 하고 유용하기도 합니다."
   ]
  },
  {
   "cell_type": "code",
   "execution_count": 124,
   "metadata": {},
   "outputs": [
    {
     "data": {
      "application/json": {
       "cell": {
        "!": "OSMagics",
        "HTML": "Other",
        "SVG": "Other",
        "bash": "Other",
        "capture": "ExecutionMagics",
        "cmd": "Other",
        "debug": "ExecutionMagics",
        "file": "Other",
        "html": "DisplayMagics",
        "javascript": "DisplayMagics",
        "js": "DisplayMagics",
        "latex": "DisplayMagics",
        "markdown": "DisplayMagics",
        "perl": "Other",
        "prun": "ExecutionMagics",
        "pypy": "Other",
        "python": "Other",
        "python2": "Other",
        "python3": "Other",
        "ruby": "Other",
        "script": "ScriptMagics",
        "sh": "Other",
        "svg": "DisplayMagics",
        "sx": "OSMagics",
        "system": "OSMagics",
        "time": "ExecutionMagics",
        "timeit": "ExecutionMagics",
        "writefile": "OSMagics"
       },
       "line": {
        "alias": "OSMagics",
        "alias_magic": "BasicMagics",
        "autoawait": "AsyncMagics",
        "autocall": "AutoMagics",
        "automagic": "AutoMagics",
        "autosave": "KernelMagics",
        "bookmark": "OSMagics",
        "cd": "OSMagics",
        "clear": "KernelMagics",
        "cls": "KernelMagics",
        "colors": "BasicMagics",
        "conda": "PackagingMagics",
        "config": "ConfigMagics",
        "connect_info": "KernelMagics",
        "copy": "Other",
        "ddir": "Other",
        "debug": "ExecutionMagics",
        "dhist": "OSMagics",
        "dirs": "OSMagics",
        "doctest_mode": "BasicMagics",
        "echo": "Other",
        "ed": "Other",
        "edit": "KernelMagics",
        "env": "OSMagics",
        "gui": "BasicMagics",
        "hist": "Other",
        "history": "HistoryMagics",
        "killbgscripts": "ScriptMagics",
        "ldir": "Other",
        "less": "KernelMagics",
        "load": "CodeMagics",
        "load_ext": "ExtensionMagics",
        "loadpy": "CodeMagics",
        "logoff": "LoggingMagics",
        "logon": "LoggingMagics",
        "logstart": "LoggingMagics",
        "logstate": "LoggingMagics",
        "logstop": "LoggingMagics",
        "ls": "Other",
        "lsmagic": "BasicMagics",
        "macro": "ExecutionMagics",
        "magic": "BasicMagics",
        "matplotlib": "PylabMagics",
        "mkdir": "Other",
        "more": "KernelMagics",
        "notebook": "BasicMagics",
        "page": "BasicMagics",
        "pastebin": "CodeMagics",
        "pdb": "ExecutionMagics",
        "pdef": "NamespaceMagics",
        "pdoc": "NamespaceMagics",
        "pfile": "NamespaceMagics",
        "pinfo": "NamespaceMagics",
        "pinfo2": "NamespaceMagics",
        "pip": "PackagingMagics",
        "popd": "OSMagics",
        "pprint": "BasicMagics",
        "precision": "BasicMagics",
        "prun": "ExecutionMagics",
        "psearch": "NamespaceMagics",
        "psource": "NamespaceMagics",
        "pushd": "OSMagics",
        "pwd": "OSMagics",
        "pycat": "OSMagics",
        "pylab": "PylabMagics",
        "qtconsole": "KernelMagics",
        "quickref": "BasicMagics",
        "recall": "HistoryMagics",
        "rehashx": "OSMagics",
        "reload_ext": "ExtensionMagics",
        "ren": "Other",
        "rep": "Other",
        "rerun": "HistoryMagics",
        "reset": "NamespaceMagics",
        "reset_selective": "NamespaceMagics",
        "rmdir": "Other",
        "run": "ExecutionMagics",
        "save": "CodeMagics",
        "sc": "OSMagics",
        "set_env": "OSMagics",
        "store": "StoreMagics",
        "sx": "OSMagics",
        "system": "OSMagics",
        "tb": "ExecutionMagics",
        "time": "ExecutionMagics",
        "timeit": "ExecutionMagics",
        "unalias": "OSMagics",
        "unload_ext": "ExtensionMagics",
        "who": "NamespaceMagics",
        "who_ls": "NamespaceMagics",
        "whos": "NamespaceMagics",
        "xdel": "NamespaceMagics",
        "xmode": "BasicMagics"
       }
      },
      "text/plain": [
       "Available line magics:\n",
       "%alias  %alias_magic  %autoawait  %autocall  %automagic  %autosave  %bookmark  %cd  %clear  %cls  %colors  %conda  %config  %connect_info  %copy  %ddir  %debug  %dhist  %dirs  %doctest_mode  %echo  %ed  %edit  %env  %gui  %hist  %history  %killbgscripts  %ldir  %less  %load  %load_ext  %loadpy  %logoff  %logon  %logstart  %logstate  %logstop  %ls  %lsmagic  %macro  %magic  %matplotlib  %mkdir  %more  %notebook  %page  %pastebin  %pdb  %pdef  %pdoc  %pfile  %pinfo  %pinfo2  %pip  %popd  %pprint  %precision  %prun  %psearch  %psource  %pushd  %pwd  %pycat  %pylab  %qtconsole  %quickref  %recall  %rehashx  %reload_ext  %ren  %rep  %rerun  %reset  %reset_selective  %rmdir  %run  %save  %sc  %set_env  %store  %sx  %system  %tb  %time  %timeit  %unalias  %unload_ext  %who  %who_ls  %whos  %xdel  %xmode\n",
       "\n",
       "Available cell magics:\n",
       "%%!  %%HTML  %%SVG  %%bash  %%capture  %%cmd  %%debug  %%file  %%html  %%javascript  %%js  %%latex  %%markdown  %%perl  %%prun  %%pypy  %%python  %%python2  %%python3  %%ruby  %%script  %%sh  %%svg  %%sx  %%system  %%time  %%timeit  %%writefile\n",
       "\n",
       "Automagic is ON, % prefix IS NOT needed for line magics."
      ]
     },
     "execution_count": 124,
     "metadata": {},
     "output_type": "execute_result"
    }
   ],
   "source": [
    "%lsmagic  # 사용할 수 있는 모든 magic 들을 표시합니다."
   ]
  },
  {
   "cell_type": "code",
   "execution_count": 155,
   "metadata": {
    "scrolled": false
   },
   "outputs": [],
   "source": [
    "%whos  # 현재 선언된 변수들을 모두 표시합니다."
   ]
  },
  {
   "cell_type": "code",
   "execution_count": 200,
   "metadata": {},
   "outputs": [
    {
     "data": {
      "text/plain": [
       "['hello, server']"
      ]
     },
     "execution_count": 200,
     "metadata": {},
     "output_type": "execute_result"
    }
   ],
   "source": [
    "%%!  # 현재 jupyter notebook 이 실행되고 있는 서버의 shell 에 명령어를 실행합니다.\n",
    "echo hello, server"
   ]
  },
  {
   "cell_type": "markdown",
   "metadata": {},
   "source": [
    "### Jupyter Lab\n",
    "\n",
    "`jupyter notebook` 을 더 개선한 형태가 `jupyter lab` 이다. `jupyter lab` 은 기존 `jupyter notebook` 에 다중 탭 지원, 수려한 UI, 다양한 확장 기능 등을 추가해 만든 웹 어플리케이션입니다."
   ]
  },
  {
   "cell_type": "markdown",
   "metadata": {},
   "source": [
    "## Colab\n",
    "\n",
    "구글에서 제공하는 `jupyter` 기반 서버입니다. `jupyter notebook` 과 매우 유사한 UI, UX 를 가집니다. 서버를 구글에서 제공해주기 때문에 별도의 설정이나 구성이 필요하지 않고 브라우저만 설치되어있다면 편리하게 `python` 코드를 작성하고 실행해볼 수 있는 점이 이점입니다.\n",
    "\n",
    "- https://colab.research.google.com/notebooks/intro.ipynb"
   ]
  },
  {
   "cell_type": "markdown",
   "metadata": {},
   "source": [
    "### Runtime\n",
    "\n",
    "런타임이란 현재 연결되어 있으며 실행되고 있는 커널을 말합니다. `colab` 을 실행하면 우선 커널을 연결하고 그 다음 초기화(시작)하여 커널을 실행시키고 그 커널에서 작업을 진행합니다. 만약 문제가 생겼다면 `런타임 > 런타임 다시 시작` 을 실행하여 커널에 있는 모든 변수를 초기화하고 새롭게 시작할 수 있습니다."
   ]
  },
  {
   "cell_type": "markdown",
   "metadata": {},
   "source": [
    "### Cell\n",
    "\n",
    "`jupyter notebook` 에서 사용되는 가장 기본되는 작성의 단위입니다. `cell` 은 `코드 셀` 과 `텍스트 셀` 로 나누어집니다.  \n",
    "`코드 셀` 은 `python` 등 프로그램 코드가 쓰이는 곳을 말하며 실행가능 합니다. `텍스트 셀` 은 문서화를 위한 주석 등이 쓰이는 셀을 말하며 실행되지 않습니다."
   ]
  },
  {
   "cell_type": "markdown",
   "metadata": {},
   "source": [
    "#### 삽입\n",
    "\n",
    "`cell` 을 삽입하기 위해서는 `삽입 > 코드 셀 or 텍스트 셀` 을 클릭합니다. 또는 마우스를 `cell` 을 삽입하고자 하는 곳에 대고 코드 또는 텍스트를 클릭합니다. 또는 `ctrl m b` 단축키를 사용하여 코드 셀을 삽입할 수 있습니다."
   ]
  },
  {
   "cell_type": "markdown",
   "metadata": {},
   "source": [
    "#### 삭제\n",
    "\n",
    "삭제하고자 하는 셀을 클릭하고 `수정 > 선택된 셀 삭제` 를 누릅니다. 또는 셀 우측에 보이는 휴지통을 클릭합니다. 또는 `ctrl m d` 단축키를 사용하여 선택된 셀을 삭제할 수 있습니다."
   ]
  },
  {
   "cell_type": "markdown",
   "metadata": {},
   "source": [
    "#### 실행\n",
    "\n",
    "`런타임 > 초점이 맞춰진 셀 실행` 을 클릭하여 현재 선택된 셀을 실행하거나 `ctrl enter` 를 단축키로 실행할 수 있습니다.  \n",
    "\n",
    "만약 선택된 셀 이전 모든셀을 실행, 선택된 셀 이후 모든셀을 실행, 모든 셀을 실행하고 싶다면 `런타임` 메뉴에서 해당 버튼을 클릭하여 실행합니다."
   ]
  },
  {
   "cell_type": "markdown",
   "metadata": {},
   "source": [
    "# Misc.\n",
    "\n",
    "프로젝트를 진행하며 도움이 될 수 있는 잡다한 내용들을 담았습니다."
   ]
  },
  {
   "cell_type": "markdown",
   "metadata": {},
   "source": [
    "## PEP\n",
    "\n",
    "`Python Enhancement Proposal` 의 약어로, `Python` 커뮤니티로의 정보전달을 위한 일종의 설계 문서가 될 수도 있고, 파이썬의 새로운 기능을 설명하는 문서가 될 수도 있습니다. 간단히 말해 개선 제안서를 의미합니다. 이 중 중요한 문서에 대해 간단히 언급합니다."
   ]
  },
  {
   "cell_type": "markdown",
   "metadata": {},
   "source": [
    "### PEP8\n",
    "\n",
    "수 많은 `PEP` 중 코드를 작성하는 규칙인 `Coding Convention` 을 정의한 문서가 `PEP8` 입니다. 보통 이름을 지정하는 `Naming Rule` 이나 `Class/Method/Variable` 선언에 대한 규칙을 많이 참고합니다.\n",
    "\n",
    "`PEP8` 을 한국어로 변역해놓은 좋은 [참고자료](https://spoqa.github.io/2012/08/03/about-python-coding-convention.html)입니다.\n",
    "영어 원문은 https://www.python.org/dev/peps/pep-0008/ 를 참고하시면 됩니다."
   ]
  },
  {
   "cell_type": "markdown",
   "metadata": {},
   "source": [
    "## _\n",
    "\n",
    "`python` 에서 `_(underscore)` 는 특별합니다. 여러 사용법이 있지만 3가지만 알아보겠습니다.\n",
    "\n",
    "- 인터프리터(Interpreter)에서 마지막 값을 저장할 때\n",
    "- 값을 무시하고 싶을 때 (흔히 \"I don't care\" 라고 부릅니다.)\n",
    "- 숫자 리터럴값의 자릿수 구분은 위한 구분자로써 사용할 때"
   ]
  },
  {
   "cell_type": "code",
   "execution_count": 202,
   "metadata": {},
   "outputs": [],
   "source": [
    "# 인터프리터에서 마지막 값을 \"_\" 에 저장합니다. 이를 간단히 불러올 수 있습니다.\n",
    "print(_)"
   ]
  },
  {
   "cell_type": "code",
   "execution_count": 207,
   "metadata": {},
   "outputs": [
    {
     "name": "stdout",
     "output_type": "stream",
     "text": [
      "hello\n",
      "hello\n",
      "hello\n",
      "hello\n",
      "hello\n",
      "1\n",
      "2\n",
      "[100, 101, 102]\n"
     ]
    }
   ],
   "source": [
    "# 값을 무시하기 위해서 쓸 수 있습니다.\n",
    "\n",
    "## 단순히 5번 반복하기 위한 코드에서 반복 index 는 필요없습니다. 이를 명시적으로 underscore 를 사용하여 나타냈습니다.\n",
    "for _ in range(5): \n",
    "    print(\"hello\")\n",
    "    \n",
    "## unpacking 시 필요없는 변수를 묶을 수 있습니다.    \n",
    "t = (1, 2, 100, 101, 102)\n",
    "first, second, *_ = t  # 3 번째 변수부터는 필요없다는 의미로 underscore 를 사용했습니다.\n",
    "print(first)\n",
    "print(second)"
   ]
  },
  {
   "cell_type": "code",
   "execution_count": 210,
   "metadata": {},
   "outputs": [
    {
     "name": "stdout",
     "output_type": "stream",
     "text": [
      "100000000000000\n"
     ]
    }
   ],
   "source": [
    "# 숫자 리터럴의 자릿수 구분을 위해 사용할 수 있습니다.\n",
    "huuuuge_number = 100_000_000_000_000  # 너무 긴 숫자의 구분자로 사용할 수 있습니다.\n",
    "\n",
    "print(huuuuge_number)"
   ]
  },
  {
   "cell_type": "markdown",
   "metadata": {},
   "source": [
    "## Path\n",
    "\n",
    "컴퓨터 안의 어떤 자원(폴더, 파일)의 위치를 명시하기 위해서 경로를 사용할 수 있습니다. 경로는 절대경로와 상대경로로 나누어집니다.  \n",
    "절대 경로란 최초의 시작점으로 경유한 경로를 전부 기입하는 방식입니다. 윈도우라면 드라이브명(C:\\ 등) 리눅스계열이라면 루트 디렉터리(\\\\) 부터 모든 경로를 적은 것입니다.  \n",
    "상대 경로란 말 그대로 상대적으로 경로를 나타낸 것이며, 주피터 노트북에서 프로그래밍을 할 때, 기준점은 노트북 파일이 기준이 됩니다. 상대 경로에서 상위 디렉터리를 명시할때는 `..` 을 사용할 수 있습니다."
   ]
  },
  {
   "cell_type": "code",
   "execution_count": 2,
   "metadata": {},
   "outputs": [],
   "source": [
    "# 현재 노트북 파일이 어느 경로에서 실행 중 인지 확인해보겠습니다.\n",
    "%pwd"
   ]
  },
  {
   "cell_type": "markdown",
   "metadata": {},
   "source": [
    "colab 환경에서는 샘플로 사용할 수 있는 데이터를 제공합니다. 좌측 폴더 아이콘을 클릭하면 sample_data/ 라는 폴더가 보입니다. 이를 절대경로와 상대경로로 각각 지정해보겠습니다."
   ]
  },
  {
   "cell_type": "markdown",
   "metadata": {},
   "source": [
    "절대경로"
   ]
  },
  {
   "cell_type": "code",
   "execution_count": 6,
   "metadata": {},
   "outputs": [],
   "source": [
    "## 현재 디렉터리\n",
    "current_directory = \"/content\"  \n",
    "## sample_data 디렉터리\n",
    "sample_data_directory = \"/content/sample_data/\"  \n",
    "## sample_data 내의 README.md 파일\n",
    "readme_path = \"/content/sample_data/README.md\"  "
   ]
  },
  {
   "cell_type": "markdown",
   "metadata": {},
   "source": [
    "상대경로"
   ]
  },
  {
   "cell_type": "code",
   "execution_count": 8,
   "metadata": {},
   "outputs": [],
   "source": [
    "## . 은 현재 디렉토리를 말합니다.\n",
    "current_directory = \".\"  \n",
    "\n",
    "## sample_data 디렉터리\n",
    "sample_data_directory = \"./sample_data\"  \n",
    "sample_data_directory = \"sample_data\"  # 또는 이렇게 표현할 수도 있습니다.\n",
    "sample_data_directory = \"sample_data/\"  # 또는 이렇게 표현할 수도 있습니다.\n",
    "\n",
    "## sample_data 내의 README.md 파일\n",
    "readme_path = \"./sample_data/README.md\""
   ]
  },
  {
   "cell_type": "markdown",
   "metadata": {},
   "source": [
    "문자열을 합해서 경로를 지정할 수도 있습니다."
   ]
  },
  {
   "cell_type": "code",
   "execution_count": 12,
   "metadata": {},
   "outputs": [
    {
     "name": "stdout",
     "output_type": "stream",
     "text": [
      "sample_data/README.md\n"
     ]
    }
   ],
   "source": [
    "sample_data_directory = \"sample_data\"\n",
    "readme_filename = \"README.md\"\n",
    "\n",
    "readme_path = sample_data_directory + \"/\" + readme_filename\n",
    "print(readme_path)"
   ]
  },
  {
   "cell_type": "markdown",
   "metadata": {},
   "source": [
    "### Join\n",
    "\n",
    "위와 같이 문자열을 더해서 경로를 지정할 때, 가독성이 좋지 않기 때문에 `\\\\` 를 중복해서 쓰거나 누락할 가능성이 있습니다. 이를 편하게 하기 위해 `os.path` 모듈 안에 `join` 이라는 함수가 있습니다."
   ]
  },
  {
   "cell_type": "code",
   "execution_count": 17,
   "metadata": {},
   "outputs": [
    {
     "name": "stdout",
     "output_type": "stream",
     "text": [
      "sample_data/README.md\n"
     ]
    }
   ],
   "source": [
    "from os.path import join\n",
    "\n",
    "readme_path = join(sample_data_directory, readme_filename)\n",
    "print(readme_path)"
   ]
  },
  {
   "cell_type": "markdown",
   "metadata": {},
   "source": [
    "두 개 이상의 경로도 이어 붙일 수 있습니다."
   ]
  },
  {
   "cell_type": "code",
   "execution_count": 19,
   "metadata": {},
   "outputs": [
    {
     "name": "stdout",
     "output_type": "stream",
     "text": [
      "example\\very\\very\\deep\\directory\n"
     ]
    }
   ],
   "source": [
    "example_path = join(\"example\", \"very\", \"very\", \"deep\", \"directory\")\n",
    "\n",
    "print(example_path)"
   ]
  },
  {
   "cell_type": "markdown",
   "metadata": {},
   "source": [
    "## glob\n",
    "\n",
    "가끔가다 해당 경로내의 모든 파일들, 또는 이름 중 특정 조건을 가진 모든 파일들을 지정하고 싶을 때가 있습니다. 이럴 때 유용하게 사용할 수 있는 함수를 `glob` 모듈 에서 제공합니다."
   ]
  },
  {
   "cell_type": "code",
   "execution_count": 20,
   "metadata": {},
   "outputs": [],
   "source": [
    "from os.path import join\n",
    "from glob import glob\n",
    "\n",
    "sample_data_directory = \"sample_data/\"\n",
    "pattern = join(sample_data_directory, \"*\")  # \"*\", 즉 모든 파일을 지정합니다.\n",
    "\n",
    "print(glob(pattern))"
   ]
  },
  {
   "cell_type": "code",
   "execution_count": 21,
   "metadata": {},
   "outputs": [],
   "source": [
    "pattern = join(sample_data_directory, \"*.csv\")  # \"*.csv\" 로 지정하여 .csv 로 끝나는 모든 파일명들을 지정합니다.\n",
    "\n",
    "print(glob(pattern))"
   ]
  },
  {
   "cell_type": "markdown",
   "metadata": {},
   "source": [
    "## 🔥 Deletion\n",
    "\n",
    "기본적으로 파이썬은 변수를 메모리상에서 알아서 관리해주지만 메모리부족이나 변수명 겹침 등으로 인해 명시적으로 제거 요청을 해주어야 할 때가 있습니다. 이 때 사용하는 것이 `del` 키워드 입니다."
   ]
  },
  {
   "cell_type": "markdown",
   "metadata": {},
   "source": [
    "앞서 dict 의 key 를 삭제해 줄 때도 사용했습니다."
   ]
  },
  {
   "cell_type": "code",
   "execution_count": 22,
   "metadata": {},
   "outputs": [
    {
     "name": "stdout",
     "output_type": "stream",
     "text": [
      "{'a': 1, 'b': 2}\n",
      "{'b': 2}\n"
     ]
    }
   ],
   "source": [
    "d = {\"a\": 1, \"b\": 2}\n",
    "\n",
    "print(d)  # 삭제 전\n",
    "del d[\"a\"]  # key \"a\" 를 삭제\n",
    "print(d)  # 삭제 후"
   ]
  },
  {
   "cell_type": "markdown",
   "metadata": {},
   "source": [
    "변수명을 지정해주어서 아예 삭제도 가능합니다. 예를 들어 위에서 선언한 `dict` d 가 필요없는데 메모리를 많이 쓰고 있는 변수라면 아래와 같이 제거 요청 가능합니다."
   ]
  },
  {
   "cell_type": "code",
   "execution_count": 24,
   "metadata": {},
   "outputs": [
    {
     "ename": "NameError",
     "evalue": "name 'd' is not defined",
     "output_type": "error",
     "traceback": [
      "\u001b[1;31m---------------------------------------------------------------------------\u001b[0m",
      "\u001b[1;31mNameError\u001b[0m                                 Traceback (most recent call last)",
      "\u001b[1;32m<ipython-input-24-a7541dab0d14>\u001b[0m in \u001b[0;36m<module>\u001b[1;34m\u001b[0m\n\u001b[1;32m----> 1\u001b[1;33m \u001b[1;32mdel\u001b[0m \u001b[0md\u001b[0m  \u001b[1;31m# d 를 제거 요청합니다.\u001b[0m\u001b[1;33m\u001b[0m\u001b[1;33m\u001b[0m\u001b[0m\n\u001b[0m\u001b[0;32m      2\u001b[0m \u001b[1;33m\u001b[0m\u001b[0m\n\u001b[0;32m      3\u001b[0m \u001b[0mprint\u001b[0m\u001b[1;33m(\u001b[0m\u001b[0md\u001b[0m\u001b[1;33m)\u001b[0m\u001b[1;33m\u001b[0m\u001b[1;33m\u001b[0m\u001b[0m\n",
      "\u001b[1;31mNameError\u001b[0m: name 'd' is not defined"
     ]
    }
   ],
   "source": [
    "del d  # d 를 제거 요청합니다.\n",
    "\n",
    "print(d)  # d 라는 변수는 선언되지 않은 상태입니다. (제거되었으므로)"
   ]
  },
  {
   "cell_type": "markdown",
   "metadata": {},
   "source": [
    "## File type\n",
    "\n",
    "파일을 나타내는 여러가지 방법이 있습니다. 이에 따라 저장되는 형식, 확장자또한 달라집니다. 대표적인 데이터들에 대해서 알아보겠습니다."
   ]
  },
  {
   "cell_type": "markdown",
   "metadata": {},
   "source": [
    "### csv\n",
    "\n",
    "`comma-separated values` 의 약어로 직역하면 콤마(,)로 불리된 값들입니다. 실제로 파일이 저장될때 각 열의 값들이 콤마로 불리되어 저장됩니다. 예를 들어 이름과 나이를 관리하는 데이터셋일 때 아래와 같습니다.\n",
    "\n",
    "name, age  \n",
    "kim, 12  \n",
    "lee, 15  \n",
    "park, 11  \n",
    "\n",
    "실제 데이터를 확인해보겠습니다."
   ]
  },
  {
   "cell_type": "code",
   "execution_count": 25,
   "metadata": {},
   "outputs": [],
   "source": [
    "# caution! 아래 코드는 colab 에서만 작동합니다.\n",
    "from os.path import join\n",
    "\n",
    "filename = join(\"sample_data\", \"california_housing_test.csv\")\n",
    "values = open(filename).read()\n",
    "\n",
    "print(values)"
   ]
  },
  {
   "cell_type": "markdown",
   "metadata": {},
   "source": [
    "### excel\n",
    "\n",
    "확장자명은 `xlsx` 또는 `xls` 로 저장되며 마이크로소프트 오피스 프로그램 엑셀에서 사용되는 파일 형식입니다. 파일 내용은 엑셀 프로그램을 통해서 여는 것이 아니라면 알아볼 수 없는 문자열들로 이루어져 있습니다. 그 문자열들을 파이썬에서 해석하기 위해서는 `openpyxl` 이나 `pandas` 를 사용해야 합니다."
   ]
  },
  {
   "cell_type": "code",
   "execution_count": 2,
   "metadata": {},
   "outputs": [],
   "source": [
    "# caution! 아래 코드는 colab 에서만 작동합니다.\n",
    "from google.colab import files\n",
    "\n",
    "uploaded = files.upload()\n",
    "\n",
    "for filename in uploaded:\n",
    "    content = uploaded[filename]\n",
    "    print(content)"
   ]
  },
  {
   "cell_type": "markdown",
   "metadata": {},
   "source": [
    "## 🔥 Profile\n",
    "\n",
    "실행시간을 기록하거나 성능 비교/분석을 위해서 코드의 실행시간을 측정하는 기능이 필요할 수 있습니다. 주피터 노트북에서는 이를 `time` 과 `timeit` 매직 키워드를 통해 제공합니다."
   ]
  },
  {
   "cell_type": "markdown",
   "metadata": {},
   "source": [
    "### time\n",
    "\n",
    "`%%time` 셀 매직 커맨드는 해당 셀의 실행시간을 측정하여 출력합니다. 사용법은 간단히 시간을 측정하고자 하는 셀의 위에 선언해주고 코드를 작성하면 됩니다.\n",
    "\n",
    "- wall time, user time 이란? : https://serverfault.com/questions/48455/what-are-the-differences-between-wall-clock-time-user-time-and-cpu-time"
   ]
  },
  {
   "cell_type": "code",
   "execution_count": 12,
   "metadata": {},
   "outputs": [
    {
     "name": "stdout",
     "output_type": "stream",
     "text": [
      "Wall time: 0 ns\n"
     ]
    },
    {
     "data": {
      "text/plain": [
       "499500"
      ]
     },
     "execution_count": 12,
     "metadata": {},
     "output_type": "execute_result"
    }
   ],
   "source": [
    "%%time  # 아래 작성된 코드의 실행시간을 측정합니다. Wall time 이 실제 수행시간입니다\n",
    "\n",
    "r = range(1000)\n",
    "print(sum(r))  # 0~999 까지의 합을 구하여 출력합니다."
   ]
  },
  {
   "cell_type": "markdown",
   "metadata": {},
   "source": [
    "### timeit\n",
    "\n",
    "`%%timeit` 셀 매직 커맨드는 해당 셀의 실행시간을 여러 번 측정하여 더 정확한 실행시간을 알 수 있습니다.\n",
    "\n",
    "- https://docs.python.org/ko/3/library/timeit.html"
   ]
  },
  {
   "cell_type": "code",
   "execution_count": 14,
   "metadata": {
    "scrolled": true
   },
   "outputs": [
    {
     "name": "stdout",
     "output_type": "stream",
     "text": [
      "28.7 µs ± 544 ns per loop (mean ± std. dev. of 7 runs, 10000 loops each)\n"
     ]
    }
   ],
   "source": [
    "%%timeit\n",
    "\n",
    "r = range(1000)\n",
    "sum(r)  # 출력이 너무 많아져서 출력은 하지 않았습니다."
   ]
  }
 ],
 "metadata": {
  "kernelspec": {
   "display_name": "Python 3",
   "language": "python",
   "name": "python3"
  },
  "language_info": {
   "codemirror_mode": {
    "name": "ipython",
    "version": 3
   },
   "file_extension": ".py",
   "mimetype": "text/x-python",
   "name": "python",
   "nbconvert_exporter": "python",
   "pygments_lexer": "ipython3",
   "version": "3.8.5"
  }
 },
 "nbformat": 4,
 "nbformat_minor": 4
}
