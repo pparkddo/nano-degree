{
 "cells": [
  {
   "cell_type": "markdown",
   "metadata": {},
   "source": [
    "# Problems\n",
    "---\n",
    "\n",
    "각 문제를 풀기전 입력값이 있는 셀을 꼭! 실행시켜주셔야 합니다."
   ]
  },
  {
   "cell_type": "markdown",
   "metadata": {},
   "source": [
    "1. 아래 주어진 문자열 `s` 의 길이를 출력하세요."
   ]
  },
  {
   "cell_type": "code",
   "execution_count": 1,
   "metadata": {},
   "outputs": [],
   "source": [
    "# 문제의 입력값입니다. 수정하면 정답이 달라질 수 있습니다.\n",
    "\n",
    "s = \"GtkVjPZfplUliaShcHnLFyfRiAzgNeHnSXGfYHzjaKnralcMTliyRHrFmHGBDIQwYRNnMaozGmimrbYOEwBqXimWBQDgbmumKTfZMDXHrvClfikwdCmsdMwYrOiUmJHJymoAnsQMbCHdaMIwGXArNKUqjaAaIRvYtzIZiTUdQOcLiVABgUBXYKSodshHCnWiIrCQqwZh\""
   ]
  },
  {
   "cell_type": "code",
   "execution_count": 2,
   "metadata": {},
   "outputs": [],
   "source": [
    "# 아래에 정답코드를 작성해주세요\n",
    "\n"
   ]
  },
  {
   "cell_type": "markdown",
   "metadata": {},
   "source": [
    "2. 주민등록번호 뒷자리의 맨 첫 번째 숫자는 성별을 나타냅니다. 주민등록번호에서 성별을 나타내는 숫자를 출력하세요."
   ]
  },
  {
   "cell_type": "code",
   "execution_count": 3,
   "metadata": {},
   "outputs": [],
   "source": [
    "# 문제의 입력값입니다. 수정하면 정답이 달라질 수 있습니다.\n",
    "\n",
    "s = \"880818-1234567\""
   ]
  },
  {
   "cell_type": "code",
   "execution_count": 4,
   "metadata": {},
   "outputs": [],
   "source": [
    "# 아래에 정답코드를 작성해주세요\n",
    "\n"
   ]
  },
  {
   "cell_type": "markdown",
   "metadata": {},
   "source": [
    "3. 아래 주어진 문자열에서 `s` 에서 `*` 표시된 부분을 모두 \"\"(공백) 으로 치환하여 출력하세요."
   ]
  },
  {
   "cell_type": "code",
   "execution_count": 5,
   "metadata": {},
   "outputs": [],
   "source": [
    "# 문제의 입력값입니다. 수정하면 정답이 달라질 수 있습니다.\n",
    "\n",
    "s = \"***s*****e***c****r**e*****t*****\""
   ]
  },
  {
   "cell_type": "code",
   "execution_count": 6,
   "metadata": {},
   "outputs": [],
   "source": [
    "# 아래에 정답코드를 작성해주세요\n",
    "\n"
   ]
  },
  {
   "cell_type": "markdown",
   "metadata": {},
   "source": [
    "4. 아래 주어진 리스트 `l` 에서 중복된 숫자를 제거하여 출력하세요. 어떤 자료구조여도 상관없습니다."
   ]
  },
  {
   "cell_type": "code",
   "execution_count": 7,
   "metadata": {},
   "outputs": [],
   "source": [
    "# 문제의 입력값입니다. 수정하면 정답이 달라질 수 있습니다.\n",
    "\n",
    "l = [1, 3, 6, 4, 2, 3, 4, 6, 4, 1, 3, 2, 5, 7, 3]"
   ]
  },
  {
   "cell_type": "code",
   "execution_count": 8,
   "metadata": {},
   "outputs": [],
   "source": [
    "# 아래에 정답코드를 작성해주세요\n",
    "\n"
   ]
  },
  {
   "cell_type": "markdown",
   "metadata": {},
   "source": [
    "5. 아래 주어진 리스트 `l` 에서 각 항목(문자열)의 길이를 출력하세요."
   ]
  },
  {
   "cell_type": "code",
   "execution_count": 9,
   "metadata": {},
   "outputs": [],
   "source": [
    "# 문제의 입력값입니다. 수정하면 정답이 달라질 수 있습니다.\n",
    "\n",
    "l = [\"한국전력\", \"삼성전자\", \"카카오\", \"네이버\", \"SK하이닉스\"]"
   ]
  },
  {
   "cell_type": "code",
   "execution_count": 10,
   "metadata": {},
   "outputs": [],
   "source": [
    "# 아래에 정답코드를 작성해주세요\n",
    "\n"
   ]
  },
  {
   "cell_type": "markdown",
   "metadata": {},
   "source": [
    "6. 아래 주어진 딕셔너리 `d` 의 값(value)들의 평균을 계산하여 출력하세요."
   ]
  },
  {
   "cell_type": "code",
   "execution_count": 11,
   "metadata": {},
   "outputs": [],
   "source": [
    "# 문제의 입력값입니다. 수정하면 정답이 달라질 수 있습니다.\n",
    "\n",
    "d = {\n",
    "    \"한국전력\": 2.14,\n",
    "    \"삼성전자\": 1.33,\n",
    "    \"카카오\": -4.23,\n",
    "    \"네이버\": -0.49,\n",
    "    \"SK하이닉스\": 1.43,\n",
    "}"
   ]
  },
  {
   "cell_type": "code",
   "execution_count": 12,
   "metadata": {},
   "outputs": [],
   "source": [
    "# 아래에 정답코드를 작성해주세요\n",
    "\n"
   ]
  },
  {
   "cell_type": "markdown",
   "metadata": {},
   "source": [
    "7. 아래 주어진 딕셔너리 `d` 의 `jennie` key 의 값을 출력하세요."
   ]
  },
  {
   "cell_type": "code",
   "execution_count": 13,
   "metadata": {},
   "outputs": [],
   "source": [
    "# 문제의 입력값입니다. 수정하면 정답이 달라질 수 있습니다.\n",
    "\n",
    "d = {\n",
    "    \"jisoo\": 26,\n",
    "    \"jennie\": 25,\n",
    "    \"rose\": 24,\n",
    "    \"lisa\": 24,\n",
    "}"
   ]
  },
  {
   "cell_type": "code",
   "execution_count": 14,
   "metadata": {},
   "outputs": [],
   "source": [
    "# 아래에 정답코드를 작성해주세요\n",
    "\n"
   ]
  },
  {
   "cell_type": "markdown",
   "metadata": {},
   "source": [
    "8. 아래 주어진 리스트 `l` 의 값이 음수이면 `run` 0을 포함한 양수이면 `go~~~` 를 출력하세요."
   ]
  },
  {
   "cell_type": "code",
   "execution_count": 15,
   "metadata": {},
   "outputs": [],
   "source": [
    "# 문제의 입력값입니다. 수정하면 정답이 달라질 수 있습니다.\n",
    "\n",
    "l = [1, 4, 2, -1, 2, -1, 3, -10, 12, 30, -30, 15]"
   ]
  },
  {
   "cell_type": "code",
   "execution_count": 16,
   "metadata": {},
   "outputs": [],
   "source": [
    "# 아래에 정답코드를 작성해주세요\n",
    "\n"
   ]
  },
  {
   "cell_type": "markdown",
   "metadata": {},
   "source": [
    "9. 리스트(`values`)가 인자로 주어지면 그 리스트의 평균을 반환하는 함수 `mean` 을 완성시키세요."
   ]
  },
  {
   "cell_type": "code",
   "execution_count": 17,
   "metadata": {},
   "outputs": [],
   "source": [
    "# 아래에 정답코드를 작성해주세요\n",
    "\n",
    "def mean(values):\n",
    "    return"
   ]
  },
  {
   "cell_type": "markdown",
   "metadata": {},
   "source": [
    "10. `math` 모듈에서 `log2` 함수를 들고와서 아래 주어진 숫자 `n` 에 대하여 밑이 2인 log 의 값을 구하세요"
   ]
  },
  {
   "cell_type": "code",
   "execution_count": 18,
   "metadata": {},
   "outputs": [],
   "source": [
    "# 문제의 입력값입니다. 수정하면 정답이 달라질 수 있습니다.\n",
    "\n",
    "n = 5192296858534827628530496329220096"
   ]
  },
  {
   "cell_type": "code",
   "execution_count": 19,
   "metadata": {},
   "outputs": [],
   "source": [
    "# 아래에 정답코드를 작성해주세요\n",
    "\n"
   ]
  }
 ],
 "metadata": {
  "kernelspec": {
   "display_name": "Python 3",
   "language": "python",
   "name": "python3"
  },
  "language_info": {
   "codemirror_mode": {
    "name": "ipython",
    "version": 3
   },
   "file_extension": ".py",
   "mimetype": "text/x-python",
   "name": "python",
   "nbconvert_exporter": "python",
   "pygments_lexer": "ipython3",
   "version": "3.8.5"
  }
 },
 "nbformat": 4,
 "nbformat_minor": 4
}
