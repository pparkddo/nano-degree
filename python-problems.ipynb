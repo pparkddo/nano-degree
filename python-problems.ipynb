{
 "cells": [
  {
   "cell_type": "markdown",
   "metadata": {},
   "source": [
    "# Problems\n",
    "---\n",
    "\n",
    "각 문제를 풀기전 입력값이 있는 셀을 꼭! 실행시켜주셔야 합니다."
   ]
  },
  {
   "cell_type": "markdown",
   "metadata": {},
   "source": [
    "🔥1. 아래 주어진 `d` 는 BTC, ETH 라는 가상자산의 가격 변동을 나타낸 데이터입니다. 딕셔너리의 key 는 `코인명_시작값` 으로 구성되어 있으며 value 는 가격 변동 데이터 입니다.  \n",
    "예를 들어 BTC_100 을 key 로 가지는 데이터의 코인명은 BTC 이며 시작값은 100 입니다. value 가 [\"-0.12\", \"0.24\"] 일 때 당시의 가격은 시작값인 100 부터 시작하여 [100\\*(1-0.12), 100\\*(1-0.12)\\*(1+0.24)] 로 계산되어 [88.0, 109.12] 가 됩니다.  \n",
    "데이터가 주어졌을 때 각 코인의 명과 가격변동을 계산한 당시의 가격을 출력하는 코드를 작성하세요."
   ]
  },
  {
   "cell_type": "code",
   "execution_count": 1,
   "metadata": {},
   "outputs": [],
   "source": [
    "# 문제의 입력값입니다. 수정하면 정답이 달라질 수 있습니다.\n",
    "\n",
    "d = {\n",
    "    \"BTC_100\": [\"-0.12\", \"0.24\", \"0.03\", \"-0.12\", \"0.03\", \"0.02\"],\n",
    "    \"ETH_1\": [\"0.02\", \"0.12\", \"-0.02\", \"0.12\", \"0.04\", \"0.12\", \"0.01\"]\n",
    "}"
   ]
  },
  {
   "cell_type": "code",
   "execution_count": 2,
   "metadata": {},
   "outputs": [],
   "source": [
    "# 아래에 정답코드를 작성해주세요\n",
    "\n",
    "# 정답은 아래와 같습니다. 아래와 같이 출력하는 코드를 작성하면 됩니다.\n",
    "# BTC: [88.0, 109.12, 112.3936, 98.906368, 101.87355904, 103.9110302208]\n",
    "# ETH: [1.02, 1.1424, 1.119552, 1.25389824, 1.3040541696, 1.460540669952, 1.47514607665152]\n",
    "\n"
   ]
  },
  {
   "cell_type": "markdown",
   "metadata": {},
   "source": [
    "🔥2. 아래 리스트 `l` 에서 3 개이상 있는 원소를 제외한 리스트를 오름차순 정렬하여 출력하세요."
   ]
  },
  {
   "cell_type": "code",
   "execution_count": 3,
   "metadata": {},
   "outputs": [],
   "source": [
    "# 문제의 입력값입니다. 수정하면 정답이 달라질 수 있습니다.\n",
    "\n",
    "l = [1, 2, 2, 1, 4, 3, 2, 1, 3, 7, 8, 4, 3, 2, 1, 3, 5]"
   ]
  },
  {
   "cell_type": "code",
   "execution_count": 4,
   "metadata": {},
   "outputs": [],
   "source": [
    "# 아래에 정답코드를 작성해주세요\n",
    "\n",
    "# 정답은 아래와 같습니다. 아래와 같이 출력하는 코드를 작성하면 됩니다.\n",
    "# [4, 4, 7, 8, 5]\n",
    "\n"
   ]
  },
  {
   "cell_type": "markdown",
   "metadata": {},
   "source": [
    "🔥3. `young` 나라에서 새로운 정렬표준을 제시했습니다. 새 정렬 표준 `new_sorting_standard` 는 y 를 0 순위(최우선), o 를 1 순위, ..., g 를 4순위로 하는 정렬 체계입니다. 새로 제시된 정렬표준에 맞추어 주어진 `s`를 정렬하여 출력하세요."
   ]
  },
  {
   "cell_type": "code",
   "execution_count": 5,
   "metadata": {},
   "outputs": [],
   "source": [
    "# 문제의 입력값입니다. 수정하면 정답이 달라질 수 있습니다.\n",
    "\n",
    "new_sorting_standard = {\n",
    "    \"y\": 0,\n",
    "    \"o\": 1,\n",
    "    \"u\": 2,\n",
    "    \"n\": 3,\n",
    "    \"g\": 4,\n",
    "}\n",
    "s = \"gnouy\""
   ]
  },
  {
   "cell_type": "code",
   "execution_count": 6,
   "metadata": {},
   "outputs": [],
   "source": [
    "# 아래에 정답코드를 작성해주세요\n",
    "\n",
    "# 정답은 아래와 같습니다. 아래와 같이 출력하는 코드를 작성하면 됩니다.\n",
    "# \"young\"\n",
    "\n"
   ]
  }
 ],
 "metadata": {
  "kernelspec": {
   "display_name": "Python 3",
   "language": "python",
   "name": "python3"
  },
  "language_info": {
   "codemirror_mode": {
    "name": "ipython",
    "version": 3
   },
   "file_extension": ".py",
   "mimetype": "text/x-python",
   "name": "python",
   "nbconvert_exporter": "python",
   "pygments_lexer": "ipython3",
   "version": "3.8.5"
  }
 },
 "nbformat": 4,
 "nbformat_minor": 4
}
