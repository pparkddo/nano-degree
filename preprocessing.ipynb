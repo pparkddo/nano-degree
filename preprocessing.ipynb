{
 "cells": [
  {
   "cell_type": "markdown",
   "metadata": {
    "slideshow": {
     "slide_type": "slide"
    }
   },
   "source": [
    "# Data Collection\n",
    "\n",
    "지금까지는 데이터를 쓸 때 `local` 에 있는 파일만 사용했다.  \n",
    "간편하게 사용할 수 있지만 모든 데이터를 `local` 컴퓨터에 들고 올 수는 없다.  \n",
    "`DB` 에서 조회하거나 `web` 에서 데이터를 수집할 때 사용할 수 있는 방법에 대해 알아보자.  \n",
    "\n",
    "그리고 그 데이터를 정제하여 분석하기 용이한 형태로 변경해 보자!"
   ]
  },
  {
   "cell_type": "markdown",
   "metadata": {
    "slideshow": {
     "slide_type": "slide"
    }
   },
   "source": [
    "# HTTP ?\n",
    "\n",
    "HyperText Transfer Protocol\n",
    "\n",
    "원격에 있는 서버와 통신하기 위한 프로토콜  \n",
    "`client` 가 `요청(request)`하면  \n",
    "`server` 가 `응답(response)`하는 구조를 가진다.  \n",
    "`web` 에서 자료를 가져올 때 `HTTP` 를 사용하여 `client-server`간 통신을 한다.  \n",
    "자료의 주소는 `url` 로 표시되며 `request parameter` 에 요청하고자 하는 정보의 조건을 명시할 수 있다.   \n",
    "\n",
    "- https://ko.wikipedia.org/wiki/HTTP"
   ]
  },
  {
   "cell_type": "markdown",
   "metadata": {
    "slideshow": {
     "slide_type": "slide"
    }
   },
   "source": [
    "# REST?\n",
    "\n",
    "Representational state transfer\n",
    "\n",
    "`web(http)` 에서 자료주소를 지정하기 위한 소프트웨어 아키텍쳐의 사실상(de facto) 표준이다.  \n",
    "\n",
    "`HTTP` 에서는 자료의 주소를 지정하기 위해 `url` 을 사용하는데  \n",
    "이 자료의 주소를 명확하고 효과적으로 나타내기 위한 방법론이다.  \n",
    "\n",
    "이러한 주소체계를 따르는 application 을 `RESTful` 하다고 말하기도 한다.\n",
    "\n",
    "- https://ko.wikipedia.org/wiki/REST"
   ]
  },
  {
   "cell_type": "markdown",
   "metadata": {
    "slideshow": {
     "slide_type": "slide"
    }
   },
   "source": [
    "# JSON ?\n",
    "\n",
    "JavaScript Object Notation\n",
    "\n",
    "`HTTP` 를 사용하여 `web` 에서 자료를 주고 받을 때 그 자료를 표현하는 방법 중 하나이다.  \n",
    "`key-value` 로 이루어져 있으며 `python` 의 `dict`와 매우 유사하다.  \n",
    "`python` 에서는 `json` library 를 활용하여 손쉽게 이용가능하다.  \n",
    "\n",
    "- https://ko.wikipedia.org/wiki/JSON"
   ]
  },
  {
   "cell_type": "markdown",
   "metadata": {
    "slideshow": {
     "slide_type": "slide"
    }
   },
   "source": [
    "`dict`를 이용해서 `json` 문자열을 만드는 예시이다."
   ]
  },
  {
   "cell_type": "code",
   "execution_count": 1,
   "metadata": {
    "slideshow": {
     "slide_type": "fragment"
    }
   },
   "outputs": [
    {
     "data": {
      "text/plain": [
       "'{\"name\": \"park\", \"age\": 25}'"
      ]
     },
     "execution_count": 1,
     "metadata": {},
     "output_type": "execute_result"
    }
   ],
   "source": [
    "import json\n",
    "\n",
    "d = {\n",
    "    \"name\": \"park\",\n",
    "    \"age\": 25\n",
    "}\n",
    "\n",
    "json.dumps(d)"
   ]
  },
  {
   "cell_type": "markdown",
   "metadata": {
    "slideshow": {
     "slide_type": "slide"
    }
   },
   "source": [
    "# How to use OpenAPI ?\n",
    "\n",
    "- 원하는 데이터를 검색\n",
    "- 검색결과 확인\n",
    "- 데이터 다운로드 또는 활용 신청\n",
    "- https://data.go.kr/ugs/selectPublicDataUseGuideView.do#publicData_search_02"
   ]
  },
  {
   "cell_type": "markdown",
   "metadata": {
    "slideshow": {
     "slide_type": "slide"
    }
   },
   "source": [
    "# Data we will use\n",
    "\n",
    "일별 기온 데이터를 사용하기 위해서 `지상(종관, ASOS) 일자료 조회서비스` 를 활용한다.\n",
    "\n",
    "- 종관기상관측 장비로 관측한 일 기상자료를 조회하는 서비스\n",
    "- https://data.go.kr/tcs/dss/selectApiDataDetailView.do?publicDataPk=15059093"
   ]
  },
  {
   "cell_type": "markdown",
   "metadata": {
    "slideshow": {
     "slide_type": "slide"
    }
   },
   "source": [
    "서버와 HTTP 통신하기 위해 `requests` 모듈을 사용한다.  "
   ]
  },
  {
   "cell_type": "code",
   "execution_count": 2,
   "metadata": {
    "slideshow": {
     "slide_type": "fragment"
    }
   },
   "outputs": [],
   "source": [
    "import requests"
   ]
  },
  {
   "cell_type": "markdown",
   "metadata": {
    "slideshow": {
     "slide_type": "slide"
    }
   },
   "source": [
    "공공데이터포털에서 제공하는 요청주소를 url 로 설정한다."
   ]
  },
  {
   "cell_type": "code",
   "execution_count": 3,
   "metadata": {
    "slideshow": {
     "slide_type": "fragment"
    }
   },
   "outputs": [],
   "source": [
    "url = \"http://apis.data.go.kr/1360000/AsosDalyInfoService/getWthrDataList\""
   ]
  },
  {
   "cell_type": "markdown",
   "metadata": {
    "slideshow": {
     "slide_type": "slide"
    }
   },
   "source": [
    "공공데이터포털에서 발급해준 키를 아래에 복사 붙여넣기 해준다.  \n",
    "※ 마이페이지 - 지상(종관, ASOS) 일자료 조회서비스 안에 들어가면 `service key` 를 확인할 수 있다."
   ]
  },
  {
   "cell_type": "code",
   "execution_count": 4,
   "metadata": {
    "slideshow": {
     "slide_type": "fragment"
    }
   },
   "outputs": [],
   "source": [
    "KEY = \"6qADBaxg%2BIH[~THIS IS SECRET~]\""
   ]
  },
  {
   "cell_type": "markdown",
   "metadata": {
    "slideshow": {
     "slide_type": "slide"
    }
   },
   "source": [
    "API Key(`ServiceKey`)가 제공될때는 `URL Encode` 되어 있는데  \n",
    "`urllib.parse` 모듈의 `unquote` 함수를 사용해서 `URL Decode` 시켜준다.  \n",
    "이 과정을 하지 않으면 정상적인 Key 를 보낼 수 없어서 요청이 제대로 되지 않는다.  "
   ]
  },
  {
   "cell_type": "code",
   "execution_count": 5,
   "metadata": {
    "slideshow": {
     "slide_type": "fragment"
    }
   },
   "outputs": [],
   "source": [
    "from urllib.parse import unquote\n",
    "\n",
    "decoded_key = unquote(KEY)"
   ]
  },
  {
   "cell_type": "markdown",
   "metadata": {
    "slideshow": {
     "slide_type": "slide"
    }
   },
   "source": [
    "기타 요청에 필요한 정보를 담을 `request parameter` 를 python `dict` 형식으로 작성한다."
   ]
  },
  {
   "cell_type": "code",
   "execution_count": 6,
   "metadata": {
    "slideshow": {
     "slide_type": "fragment"
    }
   },
   "outputs": [],
   "source": [
    "params = {\n",
    "    \"ServiceKey\": decoded_key,\n",
    "    \"dataType\": \"JSON\",\n",
    "    \"dataCd\": \"ASOS\",\n",
    "    \"dateCd\": \"DAY\",\n",
    "    \"startDt\": 20210101,\n",
    "    \"endDt\": 20210131,\n",
    "    \"stnIds\": 159,\n",
    "}"
   ]
  },
  {
   "cell_type": "markdown",
   "metadata": {
    "slideshow": {
     "slide_type": "slide"
    }
   },
   "source": [
    "`requests` 모듈로 request parameter(`params`) 를 담아 `http get` 요청을 한 후 결과값을 response 변수에 할당한다."
   ]
  },
  {
   "cell_type": "code",
   "execution_count": 7,
   "metadata": {
    "slideshow": {
     "slide_type": "fragment"
    }
   },
   "outputs": [],
   "source": [
    "response = requests.get(url, params=params)"
   ]
  },
  {
   "cell_type": "markdown",
   "metadata": {
    "slideshow": {
     "slide_type": "slide"
    }
   },
   "source": [
    "response 객체의 `text` 속성을 이용해서 `http response` 텍스트를 확인해본다.  \n",
    "요청할 때 `dataType` 을 `JSON` 으로 설정해서 결과값이 `json` 형식인 것으로 확인된다."
   ]
  },
  {
   "cell_type": "code",
   "execution_count": 8,
   "metadata": {
    "slideshow": {
     "slide_type": "fragment"
    }
   },
   "outputs": [
    {
     "name": "stdout",
     "output_type": "stream",
     "text": [
      "{\"response\":{\"header\":{\"resultCode\":\"00\",\"resultMsg\":\"NORMAL_SERVICE\"},\"body\":{\"dataType\":\"JSON\",\"it ... \"sumSmlEv\":\"2.6\",\"n99Rn\":\"\",\"iscs\":\"\",\"sumFogDur\":\"\"}]},\"pageNo\":1,\"numOfRows\":10,\"totalCount\":31}}}\n"
     ]
    }
   ],
   "source": [
    "print(\n",
    "    response.text[:100],\n",
    "    \"...\",\n",
    "    response.text[-100:]\n",
    ")"
   ]
  },
  {
   "cell_type": "markdown",
   "metadata": {
    "slideshow": {
     "slide_type": "slide"
    }
   },
   "source": [
    "`text` 데이터를 `json` 형식으로 `parsing` 하기 위해 `json()` 메서드를 사용한다."
   ]
  },
  {
   "cell_type": "code",
   "execution_count": 9,
   "metadata": {
    "slideshow": {
     "slide_type": "fragment"
    }
   },
   "outputs": [
    {
     "data": {
      "text/plain": [
       "dict"
      ]
     },
     "execution_count": 9,
     "metadata": {},
     "output_type": "execute_result"
    }
   ],
   "source": [
    "type(response.json())"
   ]
  },
  {
   "cell_type": "code",
   "execution_count": 10,
   "metadata": {
    "slideshow": {
     "slide_type": "fragment"
    }
   },
   "outputs": [
    {
     "data": {
      "text/plain": [
       "{'resultCode': '00', 'resultMsg': 'NORMAL_SERVICE'}"
      ]
     },
     "execution_count": 10,
     "metadata": {},
     "output_type": "execute_result"
    }
   ],
   "source": [
    "response.json()[\"response\"][\"header\"]"
   ]
  },
  {
   "cell_type": "markdown",
   "metadata": {
    "slideshow": {
     "slide_type": "slide"
    }
   },
   "source": [
    "전체 데이터가 다 온건가..?"
   ]
  },
  {
   "cell_type": "code",
   "execution_count": 11,
   "metadata": {
    "slideshow": {
     "slide_type": "fragment"
    }
   },
   "outputs": [
    {
     "name": "stdout",
     "output_type": "stream",
     "text": [
      "pageNo: 1\n",
      "numOfRows: 10\n",
      "totalCount: 31\n"
     ]
    }
   ],
   "source": [
    "response_json = response.json()\n",
    "body = response_json[\"response\"][\"body\"]\n",
    "\n",
    "page_no = body[\"pageNo\"]\n",
    "num_of_rows = body[\"numOfRows\"]\n",
    "total_count = body[\"totalCount\"]\n",
    "\n",
    "print(\"pageNo:\", page_no)\n",
    "print(\"numOfRows:\", num_of_rows)\n",
    "print(\"totalCount:\", total_count)"
   ]
  },
  {
   "cell_type": "markdown",
   "metadata": {
    "slideshow": {
     "slide_type": "slide"
    }
   },
   "source": [
    "총 데이터의 개수(`total_count`)가 `31개` 인데  \n",
    "한 페이지에 `10개` 씩(`num_of_rows`) 표시되고  \n",
    "현재 페이지가(`page_no`)가 `1 페이지` 이면  \n",
    "총 `4 페이지`(`math.ceil(total_count/num_of_rows)`)가 있음을 알 수 있다."
   ]
  },
  {
   "cell_type": "code",
   "execution_count": 12,
   "metadata": {
    "slideshow": {
     "slide_type": "fragment"
    }
   },
   "outputs": [
    {
     "data": {
      "text/plain": [
       "4"
      ]
     },
     "execution_count": 12,
     "metadata": {},
     "output_type": "execute_result"
    }
   ],
   "source": [
    "import math\n",
    "\n",
    "math.ceil(total_count/num_of_rows)"
   ]
  },
  {
   "cell_type": "markdown",
   "metadata": {
    "slideshow": {
     "slide_type": "slide"
    }
   },
   "source": [
    "그럼 `math.ceil(total_count/num_of_rows)`번을 반복해서 모두 들고 오도록 수정해보자!  \n",
    "요청할 때 request parameter 로 `pageNo` 를 증가시켜줘서 모두 들고 올 수 있다."
   ]
  },
  {
   "cell_type": "code",
   "execution_count": 13,
   "metadata": {
    "slideshow": {
     "slide_type": "fragment"
    }
   },
   "outputs": [
    {
     "name": "stdout",
     "output_type": "stream",
     "text": [
      "1\n",
      "2\n",
      "3\n",
      "4\n"
     ]
    }
   ],
   "source": [
    "for page in range(1, math.ceil(total_count/num_of_rows)+1):\n",
    "    print(page)"
   ]
  },
  {
   "cell_type": "markdown",
   "metadata": {
    "slideshow": {
     "slide_type": "slide"
    }
   },
   "source": [
    "그럼 기온데이터를 들고오는 스크립트를 함수로 만들어서 편하기 활용할 수 있게 프로그래밍 하자.  \n",
    "\n",
    "구현방법은  \n",
    "우선 요청을 하고 현재 페이지가 마지막 페이지가 아니면 다시 요청을 하고...  \n",
    "이것을 반복하는 형태로 만들면 해당 기간의 모든 데이터를 들고 올 수 있을 것이다!"
   ]
  },
  {
   "cell_type": "markdown",
   "metadata": {
    "slideshow": {
     "slide_type": "slide"
    }
   },
   "source": [
    "### ..."
   ]
  },
  {
   "cell_type": "markdown",
   "metadata": {
    "slideshow": {
     "slide_type": "slide"
    }
   },
   "source": [
    "막상 생각을 코드로 옮기려니 막막하다!  \n",
    "\n",
    "그래서!  \n",
    "제가 구현해놨습니다!  \n",
    "\n",
    "자세한 구현 내용이 궁금하신 분은 `api.py` 파일을 참고하세요~"
   ]
  },
  {
   "cell_type": "code",
   "execution_count": 1,
   "metadata": {
    "slideshow": {
     "slide_type": "fragment"
    }
   },
   "outputs": [],
   "source": [
    "def download_api_file_from_github():\n",
    "    import requests\n",
    "    content = requests.get(\"https://raw.githubusercontent.com/pparkddo/nano-degree/main/api.py\").content\n",
    "    with open(\"api.py\", \"wb\") as file:\n",
    "        file.write(content)"
   ]
  },
  {
   "cell_type": "code",
   "execution_count": 2,
   "metadata": {
    "slideshow": {
     "slide_type": "fragment"
    }
   },
   "outputs": [],
   "source": [
    "from os.path import isfile\n",
    "\n",
    "if not isfile(\"api.py\"):\n",
    "    download_api_file_from_github()\n",
    "\n",
    "from api import get_temperature_data"
   ]
  },
  {
   "cell_type": "markdown",
   "metadata": {
    "slideshow": {
     "slide_type": "slide"
    }
   },
   "source": [
    "미리 정의된 `get_temperature_data` 메서드를 사용하여 데이터를 들고 와보자!"
   ]
  },
  {
   "cell_type": "code",
   "execution_count": 15,
   "metadata": {
    "slideshow": {
     "slide_type": "fragment"
    }
   },
   "outputs": [],
   "source": [
    "data = get_temperature_data(20201026, 20210215, 159, KEY)"
   ]
  },
  {
   "cell_type": "markdown",
   "metadata": {
    "slideshow": {
     "slide_type": "slide"
    }
   },
   "source": [
    "정상적으로 들고온 것을 확인할 수 있다."
   ]
  },
  {
   "cell_type": "code",
   "execution_count": 16,
   "metadata": {
    "slideshow": {
     "slide_type": "fragment"
    }
   },
   "outputs": [
    {
     "name": "stdout",
     "output_type": "stream",
     "text": [
      "stnId : 159\n",
      "stnNm : 부산\n",
      "tm : 2020-10-26\n",
      "avgTa : 15.9\n",
      "minTa : 11.7\n",
      "minTaHrmt : 648\n",
      "maxTa : 21.5\n",
      "maxTaHrmt : 1151\n",
      "mi10MaxRnHrmt : \n",
      "hr1MaxRn : \n",
      "hr1MaxRnHrmt : \n",
      "sumRn : \n",
      "maxInsWs : 10.3\n",
      "maxInsWsWd : 320\n",
      "maxInsWsHrmt : 137\n",
      "...\n"
     ]
    }
   ],
   "source": [
    "for key, value in list(data[0].items())[:15]:\n",
    "    print(key, \":\", value)\n",
    "print(\"...\")"
   ]
  },
  {
   "cell_type": "markdown",
   "metadata": {
    "slideshow": {
     "slide_type": "slide"
    }
   },
   "source": [
    "# Data Preprocessing\n",
    "\n",
    "이제 `data` 를 `pandas` 에서 다뤄보자"
   ]
  },
  {
   "cell_type": "code",
   "execution_count": 17,
   "metadata": {
    "slideshow": {
     "slide_type": "fragment"
    }
   },
   "outputs": [],
   "source": [
    "import pandas as pd"
   ]
  },
  {
   "cell_type": "markdown",
   "metadata": {
    "slideshow": {
     "slide_type": "slide"
    }
   },
   "source": [
    "위에서 들고온 `data` 를 `DataFrame` 으로 변환시킨다."
   ]
  },
  {
   "cell_type": "code",
   "execution_count": 18,
   "metadata": {
    "slideshow": {
     "slide_type": "fragment"
    }
   },
   "outputs": [],
   "source": [
    "df = pd.DataFrame(data)"
   ]
  },
  {
   "cell_type": "code",
   "execution_count": 19,
   "metadata": {
    "slideshow": {
     "slide_type": "fragment"
    }
   },
   "outputs": [
    {
     "data": {
      "text/html": [
       "<div>\n",
       "<style scoped>\n",
       "    .dataframe tbody tr th:only-of-type {\n",
       "        vertical-align: middle;\n",
       "    }\n",
       "\n",
       "    .dataframe tbody tr th {\n",
       "        vertical-align: top;\n",
       "    }\n",
       "\n",
       "    .dataframe thead th {\n",
       "        text-align: right;\n",
       "    }\n",
       "</style>\n",
       "<table border=\"1\" class=\"dataframe\">\n",
       "  <thead>\n",
       "    <tr style=\"text-align: right;\">\n",
       "      <th></th>\n",
       "      <th>stnId</th>\n",
       "      <th>stnNm</th>\n",
       "      <th>tm</th>\n",
       "      <th>avgTa</th>\n",
       "      <th>minTa</th>\n",
       "      <th>minTaHrmt</th>\n",
       "      <th>maxTa</th>\n",
       "      <th>maxTaHrmt</th>\n",
       "      <th>mi10MaxRnHrmt</th>\n",
       "      <th>hr1MaxRn</th>\n",
       "      <th>...</th>\n",
       "      <th>avgM05Te</th>\n",
       "      <th>avgM10Te</th>\n",
       "      <th>avgM15Te</th>\n",
       "      <th>avgM30Te</th>\n",
       "      <th>avgM50Te</th>\n",
       "      <th>sumLrgEv</th>\n",
       "      <th>sumSmlEv</th>\n",
       "      <th>n99Rn</th>\n",
       "      <th>iscs</th>\n",
       "      <th>sumFogDur</th>\n",
       "    </tr>\n",
       "  </thead>\n",
       "  <tbody>\n",
       "    <tr>\n",
       "      <th>0</th>\n",
       "      <td>159</td>\n",
       "      <td>부산</td>\n",
       "      <td>2020-10-26</td>\n",
       "      <td>15.9</td>\n",
       "      <td>11.7</td>\n",
       "      <td>648</td>\n",
       "      <td>21.5</td>\n",
       "      <td>1151</td>\n",
       "      <td></td>\n",
       "      <td></td>\n",
       "      <td>...</td>\n",
       "      <td>18.3</td>\n",
       "      <td>21.4</td>\n",
       "      <td>22.1</td>\n",
       "      <td>20.9</td>\n",
       "      <td>20.5</td>\n",
       "      <td>3.2</td>\n",
       "      <td>4.6</td>\n",
       "      <td></td>\n",
       "      <td></td>\n",
       "      <td></td>\n",
       "    </tr>\n",
       "    <tr>\n",
       "      <th>1</th>\n",
       "      <td>159</td>\n",
       "      <td>부산</td>\n",
       "      <td>2020-10-27</td>\n",
       "      <td>16.7</td>\n",
       "      <td>12.2</td>\n",
       "      <td>636</td>\n",
       "      <td>22.9</td>\n",
       "      <td>1306</td>\n",
       "      <td></td>\n",
       "      <td></td>\n",
       "      <td>...</td>\n",
       "      <td>18.3</td>\n",
       "      <td>21.2</td>\n",
       "      <td>22.0</td>\n",
       "      <td>20.8</td>\n",
       "      <td>20.5</td>\n",
       "      <td>3.4</td>\n",
       "      <td>4.9</td>\n",
       "      <td>0.0</td>\n",
       "      <td></td>\n",
       "      <td></td>\n",
       "    </tr>\n",
       "    <tr>\n",
       "      <th>2</th>\n",
       "      <td>159</td>\n",
       "      <td>부산</td>\n",
       "      <td>2020-10-28</td>\n",
       "      <td>17.3</td>\n",
       "      <td>15.4</td>\n",
       "      <td>719</td>\n",
       "      <td>22.9</td>\n",
       "      <td>1425</td>\n",
       "      <td></td>\n",
       "      <td>0.0</td>\n",
       "      <td>...</td>\n",
       "      <td>18.4</td>\n",
       "      <td>21.0</td>\n",
       "      <td>21.9</td>\n",
       "      <td>20.8</td>\n",
       "      <td>20.5</td>\n",
       "      <td>3.0</td>\n",
       "      <td>4.3</td>\n",
       "      <td></td>\n",
       "      <td>{비}0720-0820.</td>\n",
       "      <td></td>\n",
       "    </tr>\n",
       "    <tr>\n",
       "      <th>3</th>\n",
       "      <td>159</td>\n",
       "      <td>부산</td>\n",
       "      <td>2020-10-29</td>\n",
       "      <td>15.4</td>\n",
       "      <td>10.6</td>\n",
       "      <td>656</td>\n",
       "      <td>21.9</td>\n",
       "      <td>1233</td>\n",
       "      <td></td>\n",
       "      <td></td>\n",
       "      <td>...</td>\n",
       "      <td>18.2</td>\n",
       "      <td>20.8</td>\n",
       "      <td>21.7</td>\n",
       "      <td>20.8</td>\n",
       "      <td>20.5</td>\n",
       "      <td>2.8</td>\n",
       "      <td>4.1</td>\n",
       "      <td></td>\n",
       "      <td></td>\n",
       "      <td></td>\n",
       "    </tr>\n",
       "    <tr>\n",
       "      <th>4</th>\n",
       "      <td>159</td>\n",
       "      <td>부산</td>\n",
       "      <td>2020-10-30</td>\n",
       "      <td>15.0</td>\n",
       "      <td>11.4</td>\n",
       "      <td>604</td>\n",
       "      <td>21.0</td>\n",
       "      <td>1319</td>\n",
       "      <td></td>\n",
       "      <td></td>\n",
       "      <td>...</td>\n",
       "      <td>18.1</td>\n",
       "      <td>20.7</td>\n",
       "      <td>21.6</td>\n",
       "      <td>20.8</td>\n",
       "      <td>20.5</td>\n",
       "      <td>3.4</td>\n",
       "      <td>4.9</td>\n",
       "      <td></td>\n",
       "      <td></td>\n",
       "      <td></td>\n",
       "    </tr>\n",
       "  </tbody>\n",
       "</table>\n",
       "<p>5 rows × 60 columns</p>\n",
       "</div>"
      ],
      "text/plain": [
       "  stnId stnNm          tm avgTa minTa minTaHrmt maxTa maxTaHrmt mi10MaxRnHrmt  \\\n",
       "0   159    부산  2020-10-26  15.9  11.7       648  21.5      1151                 \n",
       "1   159    부산  2020-10-27  16.7  12.2       636  22.9      1306                 \n",
       "2   159    부산  2020-10-28  17.3  15.4       719  22.9      1425                 \n",
       "3   159    부산  2020-10-29  15.4  10.6       656  21.9      1233                 \n",
       "4   159    부산  2020-10-30  15.0  11.4       604  21.0      1319                 \n",
       "\n",
       "  hr1MaxRn  ... avgM05Te avgM10Te avgM15Te avgM30Te avgM50Te sumLrgEv  \\\n",
       "0           ...     18.3     21.4     22.1     20.9     20.5      3.2   \n",
       "1           ...     18.3     21.2     22.0     20.8     20.5      3.4   \n",
       "2      0.0  ...     18.4     21.0     21.9     20.8     20.5      3.0   \n",
       "3           ...     18.2     20.8     21.7     20.8     20.5      2.8   \n",
       "4           ...     18.1     20.7     21.6     20.8     20.5      3.4   \n",
       "\n",
       "  sumSmlEv n99Rn           iscs sumFogDur  \n",
       "0      4.6                                 \n",
       "1      4.9   0.0                           \n",
       "2      4.3        {비}0720-0820.            \n",
       "3      4.1                                 \n",
       "4      4.9                                 \n",
       "\n",
       "[5 rows x 60 columns]"
      ]
     },
     "execution_count": 19,
     "metadata": {},
     "output_type": "execute_result"
    }
   ],
   "source": [
    "df.head()"
   ]
  },
  {
   "cell_type": "markdown",
   "metadata": {
    "slideshow": {
     "slide_type": "slide"
    }
   },
   "source": [
    "`DataFrame` 의 `shape` `(행, 열)` 을 확인한다."
   ]
  },
  {
   "cell_type": "code",
   "execution_count": 20,
   "metadata": {
    "slideshow": {
     "slide_type": "fragment"
    }
   },
   "outputs": [
    {
     "data": {
      "text/plain": [
       "(113, 60)"
      ]
     },
     "execution_count": 20,
     "metadata": {},
     "output_type": "execute_result"
    }
   ],
   "source": [
    "df.shape"
   ]
  },
  {
   "cell_type": "markdown",
   "metadata": {
    "slideshow": {
     "slide_type": "slide"
    }
   },
   "source": [
    "어떤 컬럼들이 있는지 확인해보자"
   ]
  },
  {
   "cell_type": "code",
   "execution_count": 21,
   "metadata": {
    "slideshow": {
     "slide_type": "fragment"
    }
   },
   "outputs": [
    {
     "data": {
      "text/plain": [
       "Index(['stnId', 'stnNm', 'tm', 'avgTa', 'minTa', 'minTaHrmt', 'maxTa',\n",
       "       'maxTaHrmt', 'mi10MaxRnHrmt', 'hr1MaxRn', 'hr1MaxRnHrmt', 'sumRn',\n",
       "       'maxInsWs', 'maxInsWsWd', 'maxInsWsHrmt', 'maxWs', 'maxWsWd',\n",
       "       'maxWsHrmt', 'avgWs', 'hr24SumRws', 'maxWd', 'avgTd', 'minRhm',\n",
       "       'minRhmHrmt', 'avgRhm', 'avgPv', 'avgPa', 'maxPs', 'maxPsHrmt', 'minPs',\n",
       "       'minPsHrmt', 'avgPs', 'ssDur', 'sumSsHr', 'hr1MaxIcsrHrmt',\n",
       "       'hr1MaxIcsr', 'sumGsr', 'ddMefs', 'ddMefsHrmt', 'ddMes', 'ddMesHrmt',\n",
       "       'sumDpthFhsc', 'avgTca', 'avgLmac', 'avgTs', 'minTg', 'avgCm5Te',\n",
       "       'avgCm10Te', 'avgCm20Te', 'avgCm30Te', 'avgM05Te', 'avgM10Te',\n",
       "       'avgM15Te', 'avgM30Te', 'avgM50Te', 'sumLrgEv', 'sumSmlEv', 'n99Rn',\n",
       "       'iscs', 'sumFogDur'],\n",
       "      dtype='object')"
      ]
     },
     "execution_count": 21,
     "metadata": {},
     "output_type": "execute_result"
    }
   ],
   "source": [
    "df.columns"
   ]
  },
  {
   "cell_type": "markdown",
   "metadata": {
    "slideshow": {
     "slide_type": "slide"
    }
   },
   "source": [
    "필요한 컬럼만 선택하고 나머지 컬럼은 삭제해보자  \n",
    "이번 실습에서는 아래에 나열된 컬럼만 사용한다.  \n",
    "\n",
    " - `일시(tm)`\n",
    " - `평균기온(avgTa)`\n",
    " - `최저기온(minTa)`\n",
    " - `최저기온시각(minTaHrmt)`\n",
    " - `최고기온(maxTa)`\n",
    " - `최대기온시각(maxTaHrmt)`\n",
    " - `일강수량(sumRn)`"
   ]
  },
  {
   "cell_type": "code",
   "execution_count": 22,
   "metadata": {
    "slideshow": {
     "slide_type": "slide"
    }
   },
   "outputs": [],
   "source": [
    "columns = [\"tm\", \"avgTa\", \"minTa\", \"minTaHrmt\", \"maxTa\", \"maxTaHrmt\", \"sumRn\"]\n",
    "\n",
    "df = df[columns]"
   ]
  },
  {
   "cell_type": "code",
   "execution_count": 23,
   "metadata": {
    "slideshow": {
     "slide_type": "fragment"
    }
   },
   "outputs": [
    {
     "data": {
      "text/html": [
       "<div>\n",
       "<style scoped>\n",
       "    .dataframe tbody tr th:only-of-type {\n",
       "        vertical-align: middle;\n",
       "    }\n",
       "\n",
       "    .dataframe tbody tr th {\n",
       "        vertical-align: top;\n",
       "    }\n",
       "\n",
       "    .dataframe thead th {\n",
       "        text-align: right;\n",
       "    }\n",
       "</style>\n",
       "<table border=\"1\" class=\"dataframe\">\n",
       "  <thead>\n",
       "    <tr style=\"text-align: right;\">\n",
       "      <th></th>\n",
       "      <th>tm</th>\n",
       "      <th>avgTa</th>\n",
       "      <th>minTa</th>\n",
       "      <th>minTaHrmt</th>\n",
       "      <th>maxTa</th>\n",
       "      <th>maxTaHrmt</th>\n",
       "      <th>sumRn</th>\n",
       "    </tr>\n",
       "  </thead>\n",
       "  <tbody>\n",
       "    <tr>\n",
       "      <th>0</th>\n",
       "      <td>2020-10-26</td>\n",
       "      <td>15.9</td>\n",
       "      <td>11.7</td>\n",
       "      <td>648</td>\n",
       "      <td>21.5</td>\n",
       "      <td>1151</td>\n",
       "      <td></td>\n",
       "    </tr>\n",
       "    <tr>\n",
       "      <th>1</th>\n",
       "      <td>2020-10-27</td>\n",
       "      <td>16.7</td>\n",
       "      <td>12.2</td>\n",
       "      <td>636</td>\n",
       "      <td>22.9</td>\n",
       "      <td>1306</td>\n",
       "      <td></td>\n",
       "    </tr>\n",
       "    <tr>\n",
       "      <th>2</th>\n",
       "      <td>2020-10-28</td>\n",
       "      <td>17.3</td>\n",
       "      <td>15.4</td>\n",
       "      <td>719</td>\n",
       "      <td>22.9</td>\n",
       "      <td>1425</td>\n",
       "      <td>0.0</td>\n",
       "    </tr>\n",
       "    <tr>\n",
       "      <th>3</th>\n",
       "      <td>2020-10-29</td>\n",
       "      <td>15.4</td>\n",
       "      <td>10.6</td>\n",
       "      <td>656</td>\n",
       "      <td>21.9</td>\n",
       "      <td>1233</td>\n",
       "      <td></td>\n",
       "    </tr>\n",
       "    <tr>\n",
       "      <th>4</th>\n",
       "      <td>2020-10-30</td>\n",
       "      <td>15.0</td>\n",
       "      <td>11.4</td>\n",
       "      <td>604</td>\n",
       "      <td>21.0</td>\n",
       "      <td>1319</td>\n",
       "      <td></td>\n",
       "    </tr>\n",
       "  </tbody>\n",
       "</table>\n",
       "</div>"
      ],
      "text/plain": [
       "           tm avgTa minTa minTaHrmt maxTa maxTaHrmt sumRn\n",
       "0  2020-10-26  15.9  11.7       648  21.5      1151      \n",
       "1  2020-10-27  16.7  12.2       636  22.9      1306      \n",
       "2  2020-10-28  17.3  15.4       719  22.9      1425   0.0\n",
       "3  2020-10-29  15.4  10.6       656  21.9      1233      \n",
       "4  2020-10-30  15.0  11.4       604  21.0      1319      "
      ]
     },
     "execution_count": 23,
     "metadata": {},
     "output_type": "execute_result"
    }
   ],
   "source": [
    "df.head()"
   ]
  },
  {
   "cell_type": "markdown",
   "metadata": {
    "slideshow": {
     "slide_type": "slide"
    }
   },
   "source": [
    "`rename` 메서드를 사용해서 컬럼명을 더 알아보기쉽게 바꿔보자."
   ]
  },
  {
   "cell_type": "code",
   "execution_count": 24,
   "metadata": {
    "slideshow": {
     "slide_type": "fragment"
    }
   },
   "outputs": [],
   "source": [
    "column_names = {\n",
    "    \"tm\": \"day\",\n",
    "    \"avgTa\": \"average_temp\",\n",
    "    \"minTa\": \"min_temp\",\n",
    "    \"minTaHrmt\": \"min_temp_timestamp\",\n",
    "    \"maxTa\": \"max_temp\",\n",
    "    \"maxTaHrmt\": \"max_temp_timestamp\",\n",
    "    \"sumRn\": \"rainfall\",\n",
    "}\n",
    "\n",
    "df = df.rename(columns=column_names)"
   ]
  },
  {
   "cell_type": "code",
   "execution_count": 25,
   "metadata": {
    "slideshow": {
     "slide_type": "fragment"
    }
   },
   "outputs": [
    {
     "data": {
      "text/html": [
       "<div>\n",
       "<style scoped>\n",
       "    .dataframe tbody tr th:only-of-type {\n",
       "        vertical-align: middle;\n",
       "    }\n",
       "\n",
       "    .dataframe tbody tr th {\n",
       "        vertical-align: top;\n",
       "    }\n",
       "\n",
       "    .dataframe thead th {\n",
       "        text-align: right;\n",
       "    }\n",
       "</style>\n",
       "<table border=\"1\" class=\"dataframe\">\n",
       "  <thead>\n",
       "    <tr style=\"text-align: right;\">\n",
       "      <th></th>\n",
       "      <th>day</th>\n",
       "      <th>average_temp</th>\n",
       "      <th>min_temp</th>\n",
       "      <th>min_temp_timestamp</th>\n",
       "      <th>max_temp</th>\n",
       "      <th>max_temp_timestamp</th>\n",
       "      <th>rainfall</th>\n",
       "    </tr>\n",
       "  </thead>\n",
       "  <tbody>\n",
       "    <tr>\n",
       "      <th>0</th>\n",
       "      <td>2020-10-26</td>\n",
       "      <td>15.9</td>\n",
       "      <td>11.7</td>\n",
       "      <td>648</td>\n",
       "      <td>21.5</td>\n",
       "      <td>1151</td>\n",
       "      <td></td>\n",
       "    </tr>\n",
       "    <tr>\n",
       "      <th>1</th>\n",
       "      <td>2020-10-27</td>\n",
       "      <td>16.7</td>\n",
       "      <td>12.2</td>\n",
       "      <td>636</td>\n",
       "      <td>22.9</td>\n",
       "      <td>1306</td>\n",
       "      <td></td>\n",
       "    </tr>\n",
       "    <tr>\n",
       "      <th>2</th>\n",
       "      <td>2020-10-28</td>\n",
       "      <td>17.3</td>\n",
       "      <td>15.4</td>\n",
       "      <td>719</td>\n",
       "      <td>22.9</td>\n",
       "      <td>1425</td>\n",
       "      <td>0.0</td>\n",
       "    </tr>\n",
       "  </tbody>\n",
       "</table>\n",
       "</div>"
      ],
      "text/plain": [
       "          day average_temp min_temp min_temp_timestamp max_temp  \\\n",
       "0  2020-10-26         15.9     11.7                648     21.5   \n",
       "1  2020-10-27         16.7     12.2                636     22.9   \n",
       "2  2020-10-28         17.3     15.4                719     22.9   \n",
       "\n",
       "  max_temp_timestamp rainfall  \n",
       "0               1151           \n",
       "1               1306           \n",
       "2               1425      0.0  "
      ]
     },
     "execution_count": 25,
     "metadata": {},
     "output_type": "execute_result"
    }
   ],
   "source": [
    "df.head(3)"
   ]
  },
  {
   "cell_type": "markdown",
   "metadata": {
    "slideshow": {
     "slide_type": "slide"
    }
   },
   "source": [
    "`info()` 메서드로 확인한 현재 `df` 의 컬럼 상태는 아래와 같다.  \n",
    "  \n",
    "- 객체의 `type` 이 `DataFrame` 이다.\n",
    "- `Index` 는 `RangeIndex` 를 사용하며, 113개, 0~112의 값을 가진다.\n",
    "- 총 7 개의 `columns` 가 있다.\n",
    "- `day`, `average_temp`, `...` 등의 컬럼이 있으며 모두 113개 `non-null` 컬럼이다.\n",
    "- `dtype` 은 모두 `object` 이다.\n",
    "- 현재 사용하고 있는 memory 는 6.3+ KB 이다."
   ]
  },
  {
   "cell_type": "code",
   "execution_count": 26,
   "metadata": {
    "slideshow": {
     "slide_type": "slide"
    }
   },
   "outputs": [
    {
     "name": "stdout",
     "output_type": "stream",
     "text": [
      "<class 'pandas.core.frame.DataFrame'>\n",
      "RangeIndex: 113 entries, 0 to 112\n",
      "Data columns (total 7 columns):\n",
      " #   Column              Non-Null Count  Dtype \n",
      "---  ------              --------------  ----- \n",
      " 0   day                 113 non-null    object\n",
      " 1   average_temp        113 non-null    object\n",
      " 2   min_temp            113 non-null    object\n",
      " 3   min_temp_timestamp  113 non-null    object\n",
      " 4   max_temp            113 non-null    object\n",
      " 5   max_temp_timestamp  113 non-null    object\n",
      " 6   rainfall            113 non-null    object\n",
      "dtypes: object(7)\n",
      "memory usage: 6.3+ KB\n"
     ]
    }
   ],
   "source": [
    "df.info()"
   ]
  },
  {
   "cell_type": "markdown",
   "metadata": {
    "slideshow": {
     "slide_type": "slide"
    }
   },
   "source": [
    "`empty string(\"\")` 의 갯수를 확인해보자"
   ]
  },
  {
   "cell_type": "code",
   "execution_count": 27,
   "metadata": {
    "slideshow": {
     "slide_type": "fragment"
    }
   },
   "outputs": [
    {
     "data": {
      "text/plain": [
       "day                    0\n",
       "average_temp           0\n",
       "min_temp               0\n",
       "min_temp_timestamp     0\n",
       "max_temp               0\n",
       "max_temp_timestamp     0\n",
       "rainfall              95\n",
       "dtype: int64"
      ]
     },
     "execution_count": 27,
     "metadata": {},
     "output_type": "execute_result"
    }
   ],
   "source": [
    "(df == \"\").sum()"
   ]
  },
  {
   "cell_type": "markdown",
   "metadata": {
    "slideshow": {
     "slide_type": "slide"
    }
   },
   "source": [
    " `empty string` 은 `pandas` 에서 다루기 어려우므로 `NaN` 형태로 변환한다.  \n",
    "\n",
    "1. `NaN` 관련 메서드는 많이 제공 되지만 (`isna` 등) `empty string` 은 직접 찾아서 처리해줘야 하기 때문이다.  \n",
    "2. `empty string` 을 포함한 `rainfall` 컬럼은 `강수량` 을 가지는 열이다.  \n",
    "해당 열 `dtype` 으로는 `float`(실수) 타입이 올바를 것인데  \n",
    "`float` 자료형에서 `null` 값을 나타내는 가장 좋은 표현방법은 `NaN` 이다.\n",
    "3. `empty string` 을 포함한 열은 `dtype` 을 `float` 로 변경할 수 없다.\n"
   ]
  },
  {
   "cell_type": "code",
   "execution_count": 28,
   "metadata": {
    "slideshow": {
     "slide_type": "fragment"
    }
   },
   "outputs": [],
   "source": [
    "import numpy as np\n",
    "\n",
    "df[\"rainfall\"] = df[\"rainfall\"].replace(\"\", np.nan)"
   ]
  },
  {
   "cell_type": "markdown",
   "metadata": {
    "slideshow": {
     "slide_type": "slide"
    }
   },
   "source": [
    "`rainfall` 컬럼의 `\"\"` 값이 `np.NaN` 값으로 정상적으로 변경된 것을 알 수 있다."
   ]
  },
  {
   "cell_type": "code",
   "execution_count": 29,
   "metadata": {
    "slideshow": {
     "slide_type": "fragment"
    }
   },
   "outputs": [
    {
     "data": {
      "text/html": [
       "<div>\n",
       "<style scoped>\n",
       "    .dataframe tbody tr th:only-of-type {\n",
       "        vertical-align: middle;\n",
       "    }\n",
       "\n",
       "    .dataframe tbody tr th {\n",
       "        vertical-align: top;\n",
       "    }\n",
       "\n",
       "    .dataframe thead th {\n",
       "        text-align: right;\n",
       "    }\n",
       "</style>\n",
       "<table border=\"1\" class=\"dataframe\">\n",
       "  <thead>\n",
       "    <tr style=\"text-align: right;\">\n",
       "      <th></th>\n",
       "      <th>day</th>\n",
       "      <th>average_temp</th>\n",
       "      <th>min_temp</th>\n",
       "      <th>min_temp_timestamp</th>\n",
       "      <th>max_temp</th>\n",
       "      <th>max_temp_timestamp</th>\n",
       "      <th>rainfall</th>\n",
       "    </tr>\n",
       "  </thead>\n",
       "  <tbody>\n",
       "    <tr>\n",
       "      <th>0</th>\n",
       "      <td>2020-10-26</td>\n",
       "      <td>15.9</td>\n",
       "      <td>11.7</td>\n",
       "      <td>648</td>\n",
       "      <td>21.5</td>\n",
       "      <td>1151</td>\n",
       "      <td>NaN</td>\n",
       "    </tr>\n",
       "    <tr>\n",
       "      <th>1</th>\n",
       "      <td>2020-10-27</td>\n",
       "      <td>16.7</td>\n",
       "      <td>12.2</td>\n",
       "      <td>636</td>\n",
       "      <td>22.9</td>\n",
       "      <td>1306</td>\n",
       "      <td>NaN</td>\n",
       "    </tr>\n",
       "    <tr>\n",
       "      <th>2</th>\n",
       "      <td>2020-10-28</td>\n",
       "      <td>17.3</td>\n",
       "      <td>15.4</td>\n",
       "      <td>719</td>\n",
       "      <td>22.9</td>\n",
       "      <td>1425</td>\n",
       "      <td>0.0</td>\n",
       "    </tr>\n",
       "    <tr>\n",
       "      <th>3</th>\n",
       "      <td>2020-10-29</td>\n",
       "      <td>15.4</td>\n",
       "      <td>10.6</td>\n",
       "      <td>656</td>\n",
       "      <td>21.9</td>\n",
       "      <td>1233</td>\n",
       "      <td>NaN</td>\n",
       "    </tr>\n",
       "    <tr>\n",
       "      <th>4</th>\n",
       "      <td>2020-10-30</td>\n",
       "      <td>15.0</td>\n",
       "      <td>11.4</td>\n",
       "      <td>604</td>\n",
       "      <td>21.0</td>\n",
       "      <td>1319</td>\n",
       "      <td>NaN</td>\n",
       "    </tr>\n",
       "  </tbody>\n",
       "</table>\n",
       "</div>"
      ],
      "text/plain": [
       "          day average_temp min_temp min_temp_timestamp max_temp  \\\n",
       "0  2020-10-26         15.9     11.7                648     21.5   \n",
       "1  2020-10-27         16.7     12.2                636     22.9   \n",
       "2  2020-10-28         17.3     15.4                719     22.9   \n",
       "3  2020-10-29         15.4     10.6                656     21.9   \n",
       "4  2020-10-30         15.0     11.4                604     21.0   \n",
       "\n",
       "  max_temp_timestamp rainfall  \n",
       "0               1151      NaN  \n",
       "1               1306      NaN  \n",
       "2               1425      0.0  \n",
       "3               1233      NaN  \n",
       "4               1319      NaN  "
      ]
     },
     "execution_count": 29,
     "metadata": {},
     "output_type": "execute_result"
    }
   ],
   "source": [
    "df.head()"
   ]
  },
  {
   "cell_type": "code",
   "execution_count": 30,
   "metadata": {
    "slideshow": {
     "slide_type": "fragment"
    }
   },
   "outputs": [
    {
     "data": {
      "text/plain": [
       "day                    0\n",
       "average_temp           0\n",
       "min_temp               0\n",
       "min_temp_timestamp     0\n",
       "max_temp               0\n",
       "max_temp_timestamp     0\n",
       "rainfall              95\n",
       "dtype: int64"
      ]
     },
     "execution_count": 30,
     "metadata": {},
     "output_type": "execute_result"
    }
   ],
   "source": [
    "df.isna().sum()"
   ]
  },
  {
   "cell_type": "markdown",
   "metadata": {
    "slideshow": {
     "slide_type": "slide"
    }
   },
   "source": [
    "`.astype()` 메서드를 사용해서 각 컬럼에 맞는 `dtype` 으로 변경해준다.\n",
    "\n",
    " - `day` : `Timestamp`\n",
    " - `average_temp` : `float`\n",
    " - `min_temp` : `float`\n",
    " - `min_temp_timestamp` : `Timestamp`\n",
    " - `max_temp` : `float`\n",
    " - `max_temp_timestamp` : `Timestamp`\n",
    " - `rainfall` : `float`"
   ]
  },
  {
   "cell_type": "markdown",
   "metadata": {
    "slideshow": {
     "slide_type": "slide"
    }
   },
   "source": [
    "우선 `float` 타입을 가질 컬럼들의 `dtype` 을 변경해준다."
   ]
  },
  {
   "cell_type": "code",
   "execution_count": 31,
   "metadata": {
    "slideshow": {
     "slide_type": "fragment"
    }
   },
   "outputs": [],
   "source": [
    "float_type_columns = [\n",
    "    \"average_temp\",\n",
    "    \"min_temp\",\n",
    "    \"max_temp\",\n",
    "    \"rainfall\",\n",
    "]\n",
    "\n",
    "df[float_type_columns] = df[float_type_columns].astype(float)"
   ]
  },
  {
   "cell_type": "markdown",
   "metadata": {
    "slideshow": {
     "slide_type": "slide"
    }
   },
   "source": [
    "`Timestamp` 타입을 가질 컬럼들의 `dtype` 을 변경해준다."
   ]
  },
  {
   "cell_type": "markdown",
   "metadata": {
    "slideshow": {
     "slide_type": "fragment"
    }
   },
   "source": [
    "같은 `Timestamp` 컬럼이라도 기존 양식(`format`)에 따라 따로 적용해줘야한다.  \n",
    "\n",
    "- `day` : `%Y-%m-%d` (ex. 20190101)\n",
    "- `min_temp_timestamp` : `%H%M` (ex. 0648)\n",
    "- `max_temp_timestamp` : `%H%M` (ex. 0648)  \n",
    "\n",
    "date time format: https://docs.python.org/ko/3/library/datetime.html#strftime-and-strptime-format-codes"
   ]
  },
  {
   "cell_type": "markdown",
   "metadata": {
    "slideshow": {
     "slide_type": "slide"
    }
   },
   "source": [
    "`day` 열을 `%Y-%m-%d` 형식에 맞게 `Timestamp` `dtype` 으로 변경한다."
   ]
  },
  {
   "cell_type": "code",
   "execution_count": 32,
   "metadata": {
    "slideshow": {
     "slide_type": "fragment"
    }
   },
   "outputs": [
    {
     "name": "stdout",
     "output_type": "stream",
     "text": [
      "0     2020-10-26\n",
      "1     2020-10-27\n",
      "2     2020-10-28\n",
      "3     2020-10-29\n",
      "4     2020-10-30\n",
      "         ...    \n",
      "108   2021-02-11\n",
      "109   2021-02-12\n",
      "110   2021-02-13\n",
      "111   2021-02-14\n",
      "112   2021-02-15\n",
      "Name: day, Length: 113, dtype: datetime64[ns]\n"
     ]
    }
   ],
   "source": [
    "df[\"day\"] = pd.to_datetime(df[\"day\"], format=\"%Y-%m-%d\")\n",
    "\n",
    "print(df[\"day\"])"
   ]
  },
  {
   "cell_type": "markdown",
   "metadata": {
    "slideshow": {
     "slide_type": "slide"
    }
   },
   "source": [
    "`*_timestamp` 열의 `dtype` 을 `Timestamp` 형식으로 변경시켜보자"
   ]
  },
  {
   "cell_type": "code",
   "execution_count": 33,
   "metadata": {
    "slideshow": {
     "slide_type": "fragment"
    }
   },
   "outputs": [],
   "source": [
    "df[\"min_temp_timestamp\"] = df[\"min_temp_timestamp\"].str.pad(4, side=\"left\", fillchar=\"0\")\n",
    "df[\"max_temp_timestamp\"] = df[\"max_temp_timestamp\"].str.pad(4, side=\"left\", fillchar=\"0\")"
   ]
  },
  {
   "cell_type": "code",
   "execution_count": 34,
   "metadata": {
    "slideshow": {
     "slide_type": "fragment"
    }
   },
   "outputs": [
    {
     "data": {
      "text/html": [
       "<div>\n",
       "<style scoped>\n",
       "    .dataframe tbody tr th:only-of-type {\n",
       "        vertical-align: middle;\n",
       "    }\n",
       "\n",
       "    .dataframe tbody tr th {\n",
       "        vertical-align: top;\n",
       "    }\n",
       "\n",
       "    .dataframe thead th {\n",
       "        text-align: right;\n",
       "    }\n",
       "</style>\n",
       "<table border=\"1\" class=\"dataframe\">\n",
       "  <thead>\n",
       "    <tr style=\"text-align: right;\">\n",
       "      <th></th>\n",
       "      <th>day</th>\n",
       "      <th>average_temp</th>\n",
       "      <th>min_temp</th>\n",
       "      <th>min_temp_timestamp</th>\n",
       "      <th>max_temp</th>\n",
       "      <th>max_temp_timestamp</th>\n",
       "      <th>rainfall</th>\n",
       "    </tr>\n",
       "  </thead>\n",
       "  <tbody>\n",
       "    <tr>\n",
       "      <th>0</th>\n",
       "      <td>2020-10-26</td>\n",
       "      <td>15.9</td>\n",
       "      <td>11.7</td>\n",
       "      <td>0648</td>\n",
       "      <td>21.5</td>\n",
       "      <td>1151</td>\n",
       "      <td>NaN</td>\n",
       "    </tr>\n",
       "    <tr>\n",
       "      <th>1</th>\n",
       "      <td>2020-10-27</td>\n",
       "      <td>16.7</td>\n",
       "      <td>12.2</td>\n",
       "      <td>0636</td>\n",
       "      <td>22.9</td>\n",
       "      <td>1306</td>\n",
       "      <td>NaN</td>\n",
       "    </tr>\n",
       "    <tr>\n",
       "      <th>2</th>\n",
       "      <td>2020-10-28</td>\n",
       "      <td>17.3</td>\n",
       "      <td>15.4</td>\n",
       "      <td>0719</td>\n",
       "      <td>22.9</td>\n",
       "      <td>1425</td>\n",
       "      <td>0.0</td>\n",
       "    </tr>\n",
       "    <tr>\n",
       "      <th>3</th>\n",
       "      <td>2020-10-29</td>\n",
       "      <td>15.4</td>\n",
       "      <td>10.6</td>\n",
       "      <td>0656</td>\n",
       "      <td>21.9</td>\n",
       "      <td>1233</td>\n",
       "      <td>NaN</td>\n",
       "    </tr>\n",
       "    <tr>\n",
       "      <th>4</th>\n",
       "      <td>2020-10-30</td>\n",
       "      <td>15.0</td>\n",
       "      <td>11.4</td>\n",
       "      <td>0604</td>\n",
       "      <td>21.0</td>\n",
       "      <td>1319</td>\n",
       "      <td>NaN</td>\n",
       "    </tr>\n",
       "  </tbody>\n",
       "</table>\n",
       "</div>"
      ],
      "text/plain": [
       "         day  average_temp  min_temp min_temp_timestamp  max_temp  \\\n",
       "0 2020-10-26          15.9      11.7               0648      21.5   \n",
       "1 2020-10-27          16.7      12.2               0636      22.9   \n",
       "2 2020-10-28          17.3      15.4               0719      22.9   \n",
       "3 2020-10-29          15.4      10.6               0656      21.9   \n",
       "4 2020-10-30          15.0      11.4               0604      21.0   \n",
       "\n",
       "  max_temp_timestamp  rainfall  \n",
       "0               1151       NaN  \n",
       "1               1306       NaN  \n",
       "2               1425       0.0  \n",
       "3               1233       NaN  \n",
       "4               1319       NaN  "
      ]
     },
     "execution_count": 34,
     "metadata": {},
     "output_type": "execute_result"
    }
   ],
   "source": [
    "df.head()"
   ]
  },
  {
   "cell_type": "markdown",
   "metadata": {
    "slideshow": {
     "slide_type": "slide"
    }
   },
   "source": [
    "`timestamp` 의 앞의 두글자는 `hour` 를 나타낸다."
   ]
  },
  {
   "cell_type": "code",
   "execution_count": 35,
   "metadata": {
    "slideshow": {
     "slide_type": "fragment"
    }
   },
   "outputs": [
    {
     "data": {
      "text/plain": [
       "0      06\n",
       "1      06\n",
       "2      07\n",
       "3      06\n",
       "4      06\n",
       "       ..\n",
       "108    06\n",
       "109    07\n",
       "110    07\n",
       "111    05\n",
       "112    23\n",
       "Name: min_temp_timestamp, Length: 113, dtype: object"
      ]
     },
     "execution_count": 35,
     "metadata": {},
     "output_type": "execute_result"
    }
   ],
   "source": [
    "df[\"min_temp_timestamp\"].str[:2]"
   ]
  },
  {
   "cell_type": "markdown",
   "metadata": {
    "slideshow": {
     "slide_type": "slide"
    }
   },
   "source": [
    "`timestamp` 의 뒤의 두글자는 `minute` 을 나타낸다."
   ]
  },
  {
   "cell_type": "code",
   "execution_count": 36,
   "metadata": {
    "slideshow": {
     "slide_type": "fragment"
    }
   },
   "outputs": [
    {
     "data": {
      "text/plain": [
       "0      48\n",
       "1      36\n",
       "2      19\n",
       "3      56\n",
       "4      04\n",
       "       ..\n",
       "108    47\n",
       "109    02\n",
       "110    27\n",
       "111    35\n",
       "112    55\n",
       "Name: min_temp_timestamp, Length: 113, dtype: object"
      ]
     },
     "execution_count": 36,
     "metadata": {},
     "output_type": "execute_result"
    }
   ],
   "source": [
    "df[\"min_temp_timestamp\"].str[2:]"
   ]
  },
  {
   "cell_type": "markdown",
   "metadata": {
    "slideshow": {
     "slide_type": "slide"
    }
   },
   "source": [
    "`timestamp` 에서 각각 시간정보(`hour`, `minute`)를 뽑아내서 `int` 형으로 변환한 다음  \n",
    "시간을 표현하기위한 자료형인 `pd.Timedelta` 형식으로 변경해준다."
   ]
  },
  {
   "cell_type": "code",
   "execution_count": 37,
   "metadata": {
    "slideshow": {
     "slide_type": "slide"
    }
   },
   "outputs": [
    {
     "name": "stdout",
     "output_type": "stream",
     "text": [
      "0     06:00:00\n",
      "1     06:00:00\n",
      "2     07:00:00\n",
      "3     06:00:00\n",
      "4     06:00:00\n",
      "        ...   \n",
      "108   06:00:00\n",
      "109   07:00:00\n",
      "110   07:00:00\n",
      "111   05:00:00\n",
      "112   23:00:00\n",
      "Name: min_temp_timestamp, Length: 113, dtype: timedelta64[ns]\n"
     ]
    }
   ],
   "source": [
    "min_hour = pd.to_timedelta(df[\"min_temp_timestamp\"].str[:2].astype(int), unit=\"h\")\n",
    "\n",
    "print(min_hour)"
   ]
  },
  {
   "cell_type": "code",
   "execution_count": 38,
   "metadata": {
    "slideshow": {
     "slide_type": "slide"
    }
   },
   "outputs": [
    {
     "name": "stdout",
     "output_type": "stream",
     "text": [
      "0     00:48:00\n",
      "1     00:36:00\n",
      "2     00:19:00\n",
      "3     00:56:00\n",
      "4     00:04:00\n",
      "        ...   \n",
      "108   00:47:00\n",
      "109   00:02:00\n",
      "110   00:27:00\n",
      "111   00:35:00\n",
      "112   00:55:00\n",
      "Name: min_temp_timestamp, Length: 113, dtype: timedelta64[ns]\n"
     ]
    }
   ],
   "source": [
    "min_minute = pd.to_timedelta(df[\"min_temp_timestamp\"].str[2:].astype(int), unit=\"m\")\n",
    "\n",
    "print(min_minute)"
   ]
  },
  {
   "cell_type": "markdown",
   "metadata": {
    "slideshow": {
     "slide_type": "slide"
    }
   },
   "source": [
    "`day`, `hour` 과 `minute` 정보를 모두 합쳐서 온전한 `Timestamp` 열로 변환한다."
   ]
  },
  {
   "cell_type": "code",
   "execution_count": 39,
   "metadata": {
    "slideshow": {
     "slide_type": "fragment"
    }
   },
   "outputs": [
    {
     "name": "stdout",
     "output_type": "stream",
     "text": [
      "0     2020-10-26 06:48:00\n",
      "1     2020-10-27 06:36:00\n",
      "2     2020-10-28 07:19:00\n",
      "3     2020-10-29 06:56:00\n",
      "4     2020-10-30 06:04:00\n",
      "              ...        \n",
      "108   2021-02-11 06:47:00\n",
      "109   2021-02-12 07:02:00\n",
      "110   2021-02-13 07:27:00\n",
      "111   2021-02-14 05:35:00\n",
      "112   2021-02-15 23:55:00\n",
      "Name: min_temp_timestamp, Length: 113, dtype: datetime64[ns]\n"
     ]
    }
   ],
   "source": [
    "df[\"min_temp_timestamp\"] = df[\"day\"] + min_hour + min_minute\n",
    "\n",
    "print(df[\"min_temp_timestamp\"])"
   ]
  },
  {
   "cell_type": "markdown",
   "metadata": {
    "slideshow": {
     "slide_type": "slide"
    }
   },
   "source": [
    "마찬가지로 `max_temp_timestamp` 도 `Timestamp` `dtype` 으로 변경해준다.\n"
   ]
  },
  {
   "cell_type": "code",
   "execution_count": 40,
   "metadata": {
    "slideshow": {
     "slide_type": "fragment"
    }
   },
   "outputs": [],
   "source": [
    "df[\"max_temp_timestamp\"] = (\n",
    "    df[\"day\"]\n",
    "    + pd.to_timedelta(df[\"max_temp_timestamp\"].str[:2].astype(int), unit=\"h\")\n",
    "    + pd.to_timedelta(df[\"max_temp_timestamp\"].str[2:].astype(int), unit=\"m\")\n",
    ")"
   ]
  },
  {
   "cell_type": "code",
   "execution_count": 41,
   "metadata": {
    "slideshow": {
     "slide_type": "fragment"
    }
   },
   "outputs": [
    {
     "data": {
      "text/html": [
       "<div>\n",
       "<style scoped>\n",
       "    .dataframe tbody tr th:only-of-type {\n",
       "        vertical-align: middle;\n",
       "    }\n",
       "\n",
       "    .dataframe tbody tr th {\n",
       "        vertical-align: top;\n",
       "    }\n",
       "\n",
       "    .dataframe thead th {\n",
       "        text-align: right;\n",
       "    }\n",
       "</style>\n",
       "<table border=\"1\" class=\"dataframe\">\n",
       "  <thead>\n",
       "    <tr style=\"text-align: right;\">\n",
       "      <th></th>\n",
       "      <th>day</th>\n",
       "      <th>average_temp</th>\n",
       "      <th>min_temp</th>\n",
       "      <th>min_temp_timestamp</th>\n",
       "      <th>max_temp</th>\n",
       "      <th>max_temp_timestamp</th>\n",
       "      <th>rainfall</th>\n",
       "    </tr>\n",
       "  </thead>\n",
       "  <tbody>\n",
       "    <tr>\n",
       "      <th>0</th>\n",
       "      <td>2020-10-26</td>\n",
       "      <td>15.9</td>\n",
       "      <td>11.7</td>\n",
       "      <td>2020-10-26 06:48:00</td>\n",
       "      <td>21.5</td>\n",
       "      <td>2020-10-26 11:51:00</td>\n",
       "      <td>NaN</td>\n",
       "    </tr>\n",
       "    <tr>\n",
       "      <th>1</th>\n",
       "      <td>2020-10-27</td>\n",
       "      <td>16.7</td>\n",
       "      <td>12.2</td>\n",
       "      <td>2020-10-27 06:36:00</td>\n",
       "      <td>22.9</td>\n",
       "      <td>2020-10-27 13:06:00</td>\n",
       "      <td>NaN</td>\n",
       "    </tr>\n",
       "    <tr>\n",
       "      <th>2</th>\n",
       "      <td>2020-10-28</td>\n",
       "      <td>17.3</td>\n",
       "      <td>15.4</td>\n",
       "      <td>2020-10-28 07:19:00</td>\n",
       "      <td>22.9</td>\n",
       "      <td>2020-10-28 14:25:00</td>\n",
       "      <td>0.0</td>\n",
       "    </tr>\n",
       "    <tr>\n",
       "      <th>3</th>\n",
       "      <td>2020-10-29</td>\n",
       "      <td>15.4</td>\n",
       "      <td>10.6</td>\n",
       "      <td>2020-10-29 06:56:00</td>\n",
       "      <td>21.9</td>\n",
       "      <td>2020-10-29 12:33:00</td>\n",
       "      <td>NaN</td>\n",
       "    </tr>\n",
       "    <tr>\n",
       "      <th>4</th>\n",
       "      <td>2020-10-30</td>\n",
       "      <td>15.0</td>\n",
       "      <td>11.4</td>\n",
       "      <td>2020-10-30 06:04:00</td>\n",
       "      <td>21.0</td>\n",
       "      <td>2020-10-30 13:19:00</td>\n",
       "      <td>NaN</td>\n",
       "    </tr>\n",
       "  </tbody>\n",
       "</table>\n",
       "</div>"
      ],
      "text/plain": [
       "         day  average_temp  min_temp  min_temp_timestamp  max_temp  \\\n",
       "0 2020-10-26          15.9      11.7 2020-10-26 06:48:00      21.5   \n",
       "1 2020-10-27          16.7      12.2 2020-10-27 06:36:00      22.9   \n",
       "2 2020-10-28          17.3      15.4 2020-10-28 07:19:00      22.9   \n",
       "3 2020-10-29          15.4      10.6 2020-10-29 06:56:00      21.9   \n",
       "4 2020-10-30          15.0      11.4 2020-10-30 06:04:00      21.0   \n",
       "\n",
       "   max_temp_timestamp  rainfall  \n",
       "0 2020-10-26 11:51:00       NaN  \n",
       "1 2020-10-27 13:06:00       NaN  \n",
       "2 2020-10-28 14:25:00       0.0  \n",
       "3 2020-10-29 12:33:00       NaN  \n",
       "4 2020-10-30 13:19:00       NaN  "
      ]
     },
     "execution_count": 41,
     "metadata": {},
     "output_type": "execute_result"
    }
   ],
   "source": [
    "df.head()"
   ]
  },
  {
   "cell_type": "markdown",
   "metadata": {
    "slideshow": {
     "slide_type": "slide"
    }
   },
   "source": [
    "이렇게 모든 열의 `dtype` 이 올바르게 지정되었다.  \n",
    "올바른 `dtype` 을 가졌기 때문에 이후에 분석에 있어서 매우 용이할 것 이다.  \n",
    "\n",
    "예를 들면 `min_temp_timestamp` 에 하루씩 빼주는 연산을 하려면  \n",
    "`str` 타입일때는 매우 힘들지만 `Timestamp` 타입일 때는 아래와 같이 매우 간편하게 할 수 있다.  \n",
    "```python\n",
    "df[\"min_temp_timestamp\"] - pd.Timedelta(1, unit=\"d\")\n",
    "```  \n",
    "  \n",
    "컬럼별로 올바른 데이터타입(`dtype`) 을 지정해주는 것은 기본이다!"
   ]
  },
  {
   "cell_type": "markdown",
   "metadata": {
    "slideshow": {
     "slide_type": "slide"
    }
   },
   "source": [
    "마지막으로 `rainfall` 컬럼에 `NaN` 데이터를 `0` 으로 치환해보자"
   ]
  },
  {
   "cell_type": "code",
   "execution_count": 42,
   "metadata": {
    "slideshow": {
     "slide_type": "fragment"
    }
   },
   "outputs": [],
   "source": [
    "df[\"rainfall\"] = df[\"rainfall\"].fillna(0)"
   ]
  },
  {
   "cell_type": "code",
   "execution_count": 43,
   "metadata": {
    "slideshow": {
     "slide_type": "fragment"
    }
   },
   "outputs": [
    {
     "data": {
      "text/html": [
       "<div>\n",
       "<style scoped>\n",
       "    .dataframe tbody tr th:only-of-type {\n",
       "        vertical-align: middle;\n",
       "    }\n",
       "\n",
       "    .dataframe tbody tr th {\n",
       "        vertical-align: top;\n",
       "    }\n",
       "\n",
       "    .dataframe thead th {\n",
       "        text-align: right;\n",
       "    }\n",
       "</style>\n",
       "<table border=\"1\" class=\"dataframe\">\n",
       "  <thead>\n",
       "    <tr style=\"text-align: right;\">\n",
       "      <th></th>\n",
       "      <th>day</th>\n",
       "      <th>average_temp</th>\n",
       "      <th>min_temp</th>\n",
       "      <th>min_temp_timestamp</th>\n",
       "      <th>max_temp</th>\n",
       "      <th>max_temp_timestamp</th>\n",
       "      <th>rainfall</th>\n",
       "    </tr>\n",
       "  </thead>\n",
       "  <tbody>\n",
       "    <tr>\n",
       "      <th>0</th>\n",
       "      <td>2020-10-26</td>\n",
       "      <td>15.9</td>\n",
       "      <td>11.7</td>\n",
       "      <td>2020-10-26 06:48:00</td>\n",
       "      <td>21.5</td>\n",
       "      <td>2020-10-26 11:51:00</td>\n",
       "      <td>0.0</td>\n",
       "    </tr>\n",
       "    <tr>\n",
       "      <th>1</th>\n",
       "      <td>2020-10-27</td>\n",
       "      <td>16.7</td>\n",
       "      <td>12.2</td>\n",
       "      <td>2020-10-27 06:36:00</td>\n",
       "      <td>22.9</td>\n",
       "      <td>2020-10-27 13:06:00</td>\n",
       "      <td>0.0</td>\n",
       "    </tr>\n",
       "    <tr>\n",
       "      <th>2</th>\n",
       "      <td>2020-10-28</td>\n",
       "      <td>17.3</td>\n",
       "      <td>15.4</td>\n",
       "      <td>2020-10-28 07:19:00</td>\n",
       "      <td>22.9</td>\n",
       "      <td>2020-10-28 14:25:00</td>\n",
       "      <td>0.0</td>\n",
       "    </tr>\n",
       "    <tr>\n",
       "      <th>3</th>\n",
       "      <td>2020-10-29</td>\n",
       "      <td>15.4</td>\n",
       "      <td>10.6</td>\n",
       "      <td>2020-10-29 06:56:00</td>\n",
       "      <td>21.9</td>\n",
       "      <td>2020-10-29 12:33:00</td>\n",
       "      <td>0.0</td>\n",
       "    </tr>\n",
       "    <tr>\n",
       "      <th>4</th>\n",
       "      <td>2020-10-30</td>\n",
       "      <td>15.0</td>\n",
       "      <td>11.4</td>\n",
       "      <td>2020-10-30 06:04:00</td>\n",
       "      <td>21.0</td>\n",
       "      <td>2020-10-30 13:19:00</td>\n",
       "      <td>0.0</td>\n",
       "    </tr>\n",
       "  </tbody>\n",
       "</table>\n",
       "</div>"
      ],
      "text/plain": [
       "         day  average_temp  min_temp  min_temp_timestamp  max_temp  \\\n",
       "0 2020-10-26          15.9      11.7 2020-10-26 06:48:00      21.5   \n",
       "1 2020-10-27          16.7      12.2 2020-10-27 06:36:00      22.9   \n",
       "2 2020-10-28          17.3      15.4 2020-10-28 07:19:00      22.9   \n",
       "3 2020-10-29          15.4      10.6 2020-10-29 06:56:00      21.9   \n",
       "4 2020-10-30          15.0      11.4 2020-10-30 06:04:00      21.0   \n",
       "\n",
       "   max_temp_timestamp  rainfall  \n",
       "0 2020-10-26 11:51:00       0.0  \n",
       "1 2020-10-27 13:06:00       0.0  \n",
       "2 2020-10-28 14:25:00       0.0  \n",
       "3 2020-10-29 12:33:00       0.0  \n",
       "4 2020-10-30 13:19:00       0.0  "
      ]
     },
     "execution_count": 43,
     "metadata": {},
     "output_type": "execute_result"
    }
   ],
   "source": [
    "df.head()"
   ]
  },
  {
   "cell_type": "markdown",
   "metadata": {
    "slideshow": {
     "slide_type": "slide"
    }
   },
   "source": [
    "전처리가 끝난 데이터를 `csv` 파일 형식으로 저장하자!"
   ]
  },
  {
   "cell_type": "code",
   "execution_count": 44,
   "metadata": {
    "slideshow": {
     "slide_type": "fragment"
    }
   },
   "outputs": [],
   "source": [
    "df.to_csv(\"preprocessing.csv\")"
   ]
  }
 ],
 "metadata": {
  "kernelspec": {
   "display_name": "Python 3",
   "language": "python",
   "name": "python3"
  },
  "language_info": {
   "codemirror_mode": {
    "name": "ipython",
    "version": 3
   },
   "file_extension": ".py",
   "mimetype": "text/x-python",
   "name": "python",
   "nbconvert_exporter": "python",
   "pygments_lexer": "ipython3",
   "version": "3.8.3"
  }
 },
 "nbformat": 4,
 "nbformat_minor": 2
}
