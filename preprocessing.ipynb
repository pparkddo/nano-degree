{
 "cells": [
  {
   "cell_type": "markdown",
   "metadata": {
    "slideshow": {
     "slide_type": "slide"
    }
   },
   "source": [
    "# Data Collection\n",
    "\n",
    "지금까지는 데이터를 쓸 때 `local` 에 있는 파일만 사용했다.  \n",
    "간편하게 사용할 수 있지만 모든 데이터를 `local` 컴퓨터에 들고 올 수는 없다.  \n",
    "`DB` 에서 조회하거나 `web` 에서 데이터를 수집할 때 사용할 수 있는 방법에 대해 알아보자.  \n",
    "\n",
    "그리고 그 데이터를 정제하여 분석하기 용이한 형태로 변경해 보자!"
   ]
  },
  {
   "cell_type": "markdown",
   "metadata": {
    "slideshow": {
     "slide_type": "slide"
    }
   },
   "source": [
    "## HTTP ?\n",
    "\n",
    "HyperText Transfer Protocol\n",
    "\n",
    "원격에 있는 서버와 통신하기 위한 프로토콜  \n",
    "`client` 가 `요청(request)`하면  \n",
    "`server` 가 `응답(response)`하는 구조를 가진다.  \n",
    "`web` 에서 자료를 가져올 때 `HTTP` 를 사용하여 `client-server`간 통신을 한다.  \n",
    "자료의 주소는 `url` 로 표시되며 `request parameter` 에 요청하고자 하는 정보의 조건을 명시할 수 있다.   \n",
    "\n",
    "- https://ko.wikipedia.org/wiki/HTTP"
   ]
  },
  {
   "cell_type": "markdown",
   "metadata": {
    "slideshow": {
     "slide_type": "slide"
    }
   },
   "source": [
    "## REST?\n",
    "\n",
    "Representational state transfer\n",
    "\n",
    "`web(http)` 에서 자료주소를 지정하기 위한 소프트웨어 아키텍쳐의 사실상(de facto) 표준이다.  \n",
    "\n",
    "`HTTP` 에서는 자료의 주소를 지정하기 위해 `url` 을 사용하는데  \n",
    "이 자료의 주소를 명확하고 효과적으로 나타내기 위한 방법론이다.  \n",
    "\n",
    "이러한 주소체계를 따르는 application 을 `RESTful` 하다고 말하기도 한다.\n",
    "\n",
    "- https://ko.wikipedia.org/wiki/REST"
   ]
  },
  {
   "cell_type": "markdown",
   "metadata": {
    "slideshow": {
     "slide_type": "slide"
    }
   },
   "source": [
    "## JSON ?\n",
    "\n",
    "JavaScript Object Notation\n",
    "\n",
    "`HTTP` 를 사용하여 `web` 에서 자료를 주고 받을 때 그 자료를 표현하는 방법 중 하나이다.  \n",
    "`key-value` 로 이루어져 있으며 `python` 의 `dict`와 매우 유사하다.  \n",
    "`python` 에서는 `json` library 를 활용하여 손쉽게 이용가능하다.  \n",
    "\n",
    "- https://ko.wikipedia.org/wiki/JSON"
   ]
  },
  {
   "cell_type": "markdown",
   "metadata": {
    "slideshow": {
     "slide_type": "slide"
    }
   },
   "source": [
    "`json` 라이브러리를 이용해서 `json` 문자열을 python `dict` 로 불러오는 예제입니다."
   ]
  },
  {
   "cell_type": "code",
   "execution_count": 1,
   "metadata": {
    "slideshow": {
     "slide_type": "fragment"
    }
   },
   "outputs": [],
   "source": [
    "json_data = \"\"\"\n",
    "    {\n",
    "        \"name\": \"park\",\n",
    "        \"age\": 25\n",
    "    }\n",
    "\"\"\""
   ]
  },
  {
   "cell_type": "markdown",
   "metadata": {},
   "source": [
    "`json` 라이브러리의 `loads` 함수를 이용해서  \n",
    "문자열로된 `json_data` 를 python `dict` 로 손쉽게 변경할 수 있습니다."
   ]
  },
  {
   "cell_type": "code",
   "execution_count": 2,
   "metadata": {},
   "outputs": [],
   "source": [
    "import json\n",
    "\n",
    "d = json.loads(json_data)"
   ]
  },
  {
   "cell_type": "code",
   "execution_count": 3,
   "metadata": {},
   "outputs": [
    {
     "data": {
      "text/plain": [
       "{'name': 'park', 'age': 25}"
      ]
     },
     "execution_count": 3,
     "metadata": {},
     "output_type": "execute_result"
    }
   ],
   "source": [
    "d"
   ]
  },
  {
   "cell_type": "markdown",
   "metadata": {},
   "source": [
    "타입이 `dict` 인 것을 확인할 수 있습니다."
   ]
  },
  {
   "cell_type": "code",
   "execution_count": 4,
   "metadata": {},
   "outputs": [
    {
     "data": {
      "text/plain": [
       "dict"
      ]
     },
     "execution_count": 4,
     "metadata": {},
     "output_type": "execute_result"
    }
   ],
   "source": [
    "type(d)"
   ]
  },
  {
   "cell_type": "markdown",
   "metadata": {},
   "source": [
    "`dict`에서 `[<키이름>]` 을 하면 해당 key 의 값을 들고 올 수 있습니다."
   ]
  },
  {
   "cell_type": "code",
   "execution_count": 5,
   "metadata": {},
   "outputs": [
    {
     "data": {
      "text/plain": [
       "'park'"
      ]
     },
     "execution_count": 5,
     "metadata": {},
     "output_type": "execute_result"
    }
   ],
   "source": [
    "d[\"name\"]"
   ]
  },
  {
   "cell_type": "markdown",
   "metadata": {},
   "source": [
    "## XML ?\n",
    "\n",
    "eXtensible Markup Language\n",
    "\n",
    "`JSON` 과 마찬가지로 `HTTP` 를 사용하여 `web` 에서 자료를 주고 받을 때 그 자료를 표현하는 방법 중 하나입니다.  \n",
    "`<`, `>` 와 같은 화살괄호로 이루어져 있으며 괄호를 기준으로 데이터 구분을 합니다.  \n",
    "예를 들면 `<태그이름>값</태그이름>` 와 같으며  \n",
    "여는 괄호(`<>`)와 닫는 괄호(`</>`) 그리고 태그 안에 값이 있습니다.\n",
    "\n",
    "- https://ko.wikipedia.org/wiki/XML"
   ]
  },
  {
   "cell_type": "markdown",
   "metadata": {},
   "source": [
    "`BeautifulSoup` 라이브러리를 이용해서 `XML` 데이터를 python 객체로 들고오는 예제입니다."
   ]
  },
  {
   "cell_type": "code",
   "execution_count": 6,
   "metadata": {},
   "outputs": [],
   "source": [
    "xml_data = \"\"\"\n",
    "    <header>\n",
    "        <resultCode>00</resultCode>\n",
    "        <resultMsg>NORMAL SERVICE.</resultMsg>\n",
    "    </header>\n",
    "\"\"\""
   ]
  },
  {
   "cell_type": "markdown",
   "metadata": {},
   "source": [
    "`BeautifulSoup` 라이브러리를 이용해서 문자열로된 `xml_data` 를 손쉽게 python 객체로 불러들여올 수 있습니다."
   ]
  },
  {
   "cell_type": "code",
   "execution_count": 7,
   "metadata": {},
   "outputs": [],
   "source": [
    "from bs4 import BeautifulSoup\n",
    "\n",
    "soup = BeautifulSoup(xml_data)"
   ]
  },
  {
   "cell_type": "markdown",
   "metadata": {},
   "source": [
    "`find` 함수를 이용하면 특정 태그 이름을 기준으로 선택할 수 있습니다."
   ]
  },
  {
   "cell_type": "code",
   "execution_count": 8,
   "metadata": {},
   "outputs": [
    {
     "data": {
      "text/plain": [
       "<resultmsg>NORMAL SERVICE.</resultmsg>"
      ]
     },
     "execution_count": 8,
     "metadata": {},
     "output_type": "execute_result"
    }
   ],
   "source": [
    "soup.find(\"resultmsg\")"
   ]
  },
  {
   "cell_type": "markdown",
   "metadata": {},
   "source": [
    "선택된 태그의 값을 얻고 싶을 때는 `.text` 속성을 사용할 수 있습니다."
   ]
  },
  {
   "cell_type": "code",
   "execution_count": 9,
   "metadata": {},
   "outputs": [
    {
     "data": {
      "text/plain": [
       "'NORMAL SERVICE.'"
      ]
     },
     "execution_count": 9,
     "metadata": {},
     "output_type": "execute_result"
    }
   ],
   "source": [
    "soup.find(\"resultmsg\").text"
   ]
  },
  {
   "cell_type": "markdown",
   "metadata": {
    "slideshow": {
     "slide_type": "slide"
    }
   },
   "source": [
    "## How to use OpenAPI ?\n",
    "\n",
    "- 원하는 데이터를 검색\n",
    "- 검색결과 확인\n",
    "- 데이터 다운로드 또는 활용 신청\n",
    "- https://data.go.kr/ugs/selectPublicDataUseGuideView.do#publicData_search_02"
   ]
  },
  {
   "cell_type": "markdown",
   "metadata": {
    "slideshow": {
     "slide_type": "slide"
    }
   },
   "source": [
    "## Data we will use\n",
    "\n",
    "일별 기온 데이터를 사용하기 위해서 `지상(종관, ASOS) 일자료 조회서비스` 를 활용한다.\n",
    "\n",
    "- 종관기상관측 장비로 관측한 일 기상자료를 조회하는 서비스\n",
    "- https://data.go.kr/tcs/dss/selectApiDataDetailView.do?publicDataPk=15059093"
   ]
  },
  {
   "cell_type": "markdown",
   "metadata": {
    "slideshow": {
     "slide_type": "slide"
    }
   },
   "source": [
    "서버와 HTTP 통신하기 위해 `requests` 모듈을 사용한다.  "
   ]
  },
  {
   "cell_type": "code",
   "execution_count": 10,
   "metadata": {
    "slideshow": {
     "slide_type": "fragment"
    }
   },
   "outputs": [],
   "source": [
    "import requests"
   ]
  },
  {
   "cell_type": "markdown",
   "metadata": {
    "slideshow": {
     "slide_type": "slide"
    }
   },
   "source": [
    "공공데이터포털에서 제공하는 요청주소를 url 로 설정한다."
   ]
  },
  {
   "cell_type": "code",
   "execution_count": 11,
   "metadata": {
    "slideshow": {
     "slide_type": "fragment"
    }
   },
   "outputs": [],
   "source": [
    "url = \"http://apis.data.go.kr/1360000/AsosDalyInfoService/getWthrDataList\""
   ]
  },
  {
   "cell_type": "markdown",
   "metadata": {
    "slideshow": {
     "slide_type": "slide"
    }
   },
   "source": [
    "공공데이터포털에서 발급해준 키를 아래에 복사 붙여넣기 해준다.  \n",
    "※ 마이페이지 - 지상(종관, ASOS) 일자료 조회서비스 안에 들어가면 `service key` 를 확인할 수 있다."
   ]
  },
  {
   "cell_type": "code",
   "execution_count": 12,
   "metadata": {
    "slideshow": {
     "slide_type": "fragment"
    }
   },
   "outputs": [],
   "source": [
    "key = \"6qADBaxg+IHvkWSwtRP[~THIS IS SECRET~]\""
   ]
  },
  {
   "cell_type": "markdown",
   "metadata": {
    "slideshow": {
     "slide_type": "slide"
    }
   },
   "source": [
    "기타 요청에 필요한 정보를 담을 `request parameter` 를 python `dict` 형식으로 작성한다."
   ]
  },
  {
   "cell_type": "code",
   "execution_count": 13,
   "metadata": {
    "slideshow": {
     "slide_type": "fragment"
    }
   },
   "outputs": [],
   "source": [
    "params = {\n",
    "    \"ServiceKey\": key,\n",
    "    \"dataType\": \"JSON\",\n",
    "    \"dataCd\": \"ASOS\",\n",
    "    \"dateCd\": \"DAY\",\n",
    "    \"startDt\": 20210101,\n",
    "    \"endDt\": 20210131,\n",
    "    \"stnIds\": 159,\n",
    "}"
   ]
  },
  {
   "cell_type": "markdown",
   "metadata": {
    "slideshow": {
     "slide_type": "slide"
    }
   },
   "source": [
    "`requests` 모듈로 request parameter(`params`) 를 담아 `http get` 요청을 한 후 결과값을 response 변수에 할당한다."
   ]
  },
  {
   "cell_type": "code",
   "execution_count": 14,
   "metadata": {
    "slideshow": {
     "slide_type": "fragment"
    }
   },
   "outputs": [],
   "source": [
    "response = requests.get(url, params)"
   ]
  },
  {
   "cell_type": "markdown",
   "metadata": {},
   "source": [
    "`reuqests.get()` 함수로 만들어진 URL 도 확인할 수 있다."
   ]
  },
  {
   "cell_type": "code",
   "execution_count": 15,
   "metadata": {},
   "outputs": [
    {
     "data": {
      "text/plain": [
       "'http://apis.data.go.kr/1360000/AsosDalyInfoService/getWthrDataList?ServiceKey=6qADBaxg%2BIHvkWSwtRP%5B~THIS+IS+SECRET~%5D&dataType=JSON&dataCd=ASOS&dateCd=DAY&startDt=20210101&endDt=20210131&stnIds=159'"
      ]
     },
     "execution_count": 15,
     "metadata": {},
     "output_type": "execute_result"
    }
   ],
   "source": [
    "response.request.url"
   ]
  },
  {
   "cell_type": "markdown",
   "metadata": {
    "slideshow": {
     "slide_type": "slide"
    }
   },
   "source": [
    "response 객체의 `text` 속성을 이용해서 `http response` 텍스트를 확인해본다.  \n",
    "요청할 때 `dataType` 을 `JSON` 으로 설정해서 결과값이 `json` 형식인 것으로 확인된다."
   ]
  },
  {
   "cell_type": "code",
   "execution_count": 16,
   "metadata": {
    "slideshow": {
     "slide_type": "fragment"
    }
   },
   "outputs": [
    {
     "name": "stdout",
     "output_type": "stream",
     "text": [
      "{\"response\":{\"header\":{\"resultCode\":\"00\",\"resultMsg\":\"NORMAL_SERVICE\"},\"body\":{\"dataType\":\"JSON\",\"it ... \"sumSmlEv\":\"2.6\",\"n99Rn\":\"\",\"iscs\":\"\",\"sumFogDur\":\"\"}]},\"pageNo\":1,\"numOfRows\":10,\"totalCount\":31}}}\n"
     ]
    }
   ],
   "source": [
    "print(\n",
    "    response.text[:100],\n",
    "    \"...\",\n",
    "    response.text[-100:]\n",
    ")"
   ]
  },
  {
   "cell_type": "markdown",
   "metadata": {},
   "source": [
    "json 형식의 데이터를 사람이 보기 좋은 형태로 만들어 주는 웹사이트들을 이용해서 간단히 데이터 구조를 파악할 수 있습니다.\n",
    "\n",
    "- https://jsonformatter.curiousconcept.com/\n",
    "- https://codebeautify.org/jsonviewer"
   ]
  },
  {
   "cell_type": "markdown",
   "metadata": {
    "slideshow": {
     "slide_type": "slide"
    }
   },
   "source": [
    "`json` 형식의 `text` 데이터를 `dict` 로 `parsing` 하기 위해 `json()` 메서드를 사용한다."
   ]
  },
  {
   "cell_type": "code",
   "execution_count": 17,
   "metadata": {},
   "outputs": [],
   "source": [
    "response_json = response.json()"
   ]
  },
  {
   "cell_type": "code",
   "execution_count": 18,
   "metadata": {
    "slideshow": {
     "slide_type": "fragment"
    }
   },
   "outputs": [
    {
     "data": {
      "text/plain": [
       "{'resultCode': '00', 'resultMsg': 'NORMAL_SERVICE'}"
      ]
     },
     "execution_count": 18,
     "metadata": {},
     "output_type": "execute_result"
    }
   ],
   "source": [
    "response_json[\"response\"][\"header\"]"
   ]
  },
  {
   "cell_type": "code",
   "execution_count": 19,
   "metadata": {
    "scrolled": false
   },
   "outputs": [],
   "source": [
    "data = []  # 수집한 데이터를 저장할 list 변수\n",
    "\n",
    "page_no = 1  # 처음 페이지 번호\n",
    "start_date = 20201026  # 수집을 시작할 날짜\n",
    "end_date = 20210215  # 수집을 종료할 날짜\n",
    "station_id = 159  # 기상관측 장소 ID (부산 : 159)\n",
    "\n",
    "# 모든 데이터를 들고올 때까지 반복합니다.\n",
    "while True:\n",
    "    # 요청에 필요한 Request Parameter 를 정의한 dict 입니다.\n",
    "    params = {\n",
    "        \"ServiceKey\": key,\n",
    "        \"pageNo\": page_no,\n",
    "        \"dataType\": \"JSON\",\n",
    "        \"dataCd\": \"ASOS\",\n",
    "        \"dateCd\": \"DAY\",\n",
    "        \"startDt\": start_date,\n",
    "        \"endDt\": end_date,\n",
    "        \"stnIds\": station_id,\n",
    "    }\n",
    "\n",
    "    # 지정된 url 과 request parameter 를 이용해 GET 요청합니다.\n",
    "    response = requests.get(url, params)\n",
    "    # 결과값으로 반환된 데이터를 json() 함수를 이용하여 dict 형식으로 불러옵니다.\n",
    "    response_json = response.json()\n",
    "    \n",
    "    # 만약 데이터의 결과메시지(resultMsg)가 NO_DATA 면 데이터가 없는 것이므로 반복문을 종료합니다.\n",
    "    if response_json[\"response\"][\"header\"][\"resultMsg\"] == \"NO_DATA\":\n",
    "        break\n",
    "\n",
    "    # 결과데이터의 item 값을 모두 불러와서 data 에 extend(이어붙이기)합니다.\n",
    "    # python list append vs extend\n",
    "    items = response_json[\"response\"][\"body\"][\"items\"][\"item\"]\n",
    "    data.extend(items)\n",
    "    \n",
    "    # 한 번의 요청이 완료되면 다음 페이지를 요청합니다.\n",
    "    page_no = page_no + 1"
   ]
  },
  {
   "cell_type": "markdown",
   "metadata": {
    "slideshow": {
     "slide_type": "slide"
    }
   },
   "source": [
    "정상적으로 들고온 것을 확인할 수 있다."
   ]
  },
  {
   "cell_type": "code",
   "execution_count": 20,
   "metadata": {
    "slideshow": {
     "slide_type": "fragment"
    }
   },
   "outputs": [
    {
     "name": "stdout",
     "output_type": "stream",
     "text": [
      "stnId : 159\n",
      "stnNm : 부산\n",
      "tm : 2020-10-26\n",
      "avgTa : 15.9\n",
      "minTa : 11.7\n",
      "minTaHrmt : 648\n",
      "maxTa : 21.5\n",
      "maxTaHrmt : 1151\n",
      "mi10MaxRn : \n",
      "mi10MaxRnHrmt : \n",
      "hr1MaxRn : \n",
      "hr1MaxRnHrmt : \n",
      "sumRnDur : \n",
      "sumRn : \n",
      "maxInsWs : 10.3\n",
      "...\n"
     ]
    }
   ],
   "source": [
    "for key, value in list(data[0].items())[:15]:\n",
    "    print(key, \":\", value)\n",
    "print(\"...\")"
   ]
  },
  {
   "cell_type": "markdown",
   "metadata": {
    "slideshow": {
     "slide_type": "slide"
    }
   },
   "source": [
    "# Data Preprocessing\n",
    "\n",
    "이제 `data` 를 `pandas` 에서 다뤄보자"
   ]
  },
  {
   "cell_type": "code",
   "execution_count": 21,
   "metadata": {
    "slideshow": {
     "slide_type": "fragment"
    }
   },
   "outputs": [],
   "source": [
    "import pandas as pd"
   ]
  },
  {
   "cell_type": "markdown",
   "metadata": {
    "slideshow": {
     "slide_type": "slide"
    }
   },
   "source": [
    "위에서 들고온 `data` 를 `DataFrame` 으로 변환시킨다."
   ]
  },
  {
   "cell_type": "code",
   "execution_count": 22,
   "metadata": {
    "slideshow": {
     "slide_type": "fragment"
    }
   },
   "outputs": [],
   "source": [
    "df = pd.DataFrame(data)"
   ]
  },
  {
   "cell_type": "code",
   "execution_count": 23,
   "metadata": {
    "slideshow": {
     "slide_type": "fragment"
    }
   },
   "outputs": [
    {
     "data": {
      "text/html": [
       "<div>\n",
       "<style scoped>\n",
       "    .dataframe tbody tr th:only-of-type {\n",
       "        vertical-align: middle;\n",
       "    }\n",
       "\n",
       "    .dataframe tbody tr th {\n",
       "        vertical-align: top;\n",
       "    }\n",
       "\n",
       "    .dataframe thead th {\n",
       "        text-align: right;\n",
       "    }\n",
       "</style>\n",
       "<table border=\"1\" class=\"dataframe\">\n",
       "  <thead>\n",
       "    <tr style=\"text-align: right;\">\n",
       "      <th></th>\n",
       "      <th>stnId</th>\n",
       "      <th>stnNm</th>\n",
       "      <th>tm</th>\n",
       "      <th>avgTa</th>\n",
       "      <th>minTa</th>\n",
       "      <th>minTaHrmt</th>\n",
       "      <th>maxTa</th>\n",
       "      <th>maxTaHrmt</th>\n",
       "      <th>mi10MaxRn</th>\n",
       "      <th>mi10MaxRnHrmt</th>\n",
       "      <th>...</th>\n",
       "      <th>avgM05Te</th>\n",
       "      <th>avgM10Te</th>\n",
       "      <th>avgM15Te</th>\n",
       "      <th>avgM30Te</th>\n",
       "      <th>avgM50Te</th>\n",
       "      <th>sumLrgEv</th>\n",
       "      <th>sumSmlEv</th>\n",
       "      <th>n99Rn</th>\n",
       "      <th>iscs</th>\n",
       "      <th>sumFogDur</th>\n",
       "    </tr>\n",
       "  </thead>\n",
       "  <tbody>\n",
       "    <tr>\n",
       "      <th>0</th>\n",
       "      <td>159</td>\n",
       "      <td>부산</td>\n",
       "      <td>2020-10-26</td>\n",
       "      <td>15.9</td>\n",
       "      <td>11.7</td>\n",
       "      <td>648</td>\n",
       "      <td>21.5</td>\n",
       "      <td>1151</td>\n",
       "      <td></td>\n",
       "      <td></td>\n",
       "      <td>...</td>\n",
       "      <td>18.3</td>\n",
       "      <td>21.4</td>\n",
       "      <td>22.1</td>\n",
       "      <td>20.9</td>\n",
       "      <td>20.5</td>\n",
       "      <td>3.2</td>\n",
       "      <td>4.6</td>\n",
       "      <td></td>\n",
       "      <td></td>\n",
       "      <td></td>\n",
       "    </tr>\n",
       "    <tr>\n",
       "      <th>1</th>\n",
       "      <td>159</td>\n",
       "      <td>부산</td>\n",
       "      <td>2020-10-27</td>\n",
       "      <td>16.7</td>\n",
       "      <td>12.2</td>\n",
       "      <td>636</td>\n",
       "      <td>22.9</td>\n",
       "      <td>1306</td>\n",
       "      <td></td>\n",
       "      <td></td>\n",
       "      <td>...</td>\n",
       "      <td>18.3</td>\n",
       "      <td>21.2</td>\n",
       "      <td>22.0</td>\n",
       "      <td>20.8</td>\n",
       "      <td>20.5</td>\n",
       "      <td>3.4</td>\n",
       "      <td>4.9</td>\n",
       "      <td>0.0</td>\n",
       "      <td></td>\n",
       "      <td></td>\n",
       "    </tr>\n",
       "    <tr>\n",
       "      <th>2</th>\n",
       "      <td>159</td>\n",
       "      <td>부산</td>\n",
       "      <td>2020-10-28</td>\n",
       "      <td>17.3</td>\n",
       "      <td>15.4</td>\n",
       "      <td>719</td>\n",
       "      <td>22.9</td>\n",
       "      <td>1425</td>\n",
       "      <td>0</td>\n",
       "      <td></td>\n",
       "      <td>...</td>\n",
       "      <td>18.4</td>\n",
       "      <td>21.0</td>\n",
       "      <td>21.9</td>\n",
       "      <td>20.8</td>\n",
       "      <td>20.5</td>\n",
       "      <td>3.0</td>\n",
       "      <td>4.3</td>\n",
       "      <td></td>\n",
       "      <td>{비}0720-0820.</td>\n",
       "      <td></td>\n",
       "    </tr>\n",
       "    <tr>\n",
       "      <th>3</th>\n",
       "      <td>159</td>\n",
       "      <td>부산</td>\n",
       "      <td>2020-10-29</td>\n",
       "      <td>15.4</td>\n",
       "      <td>10.6</td>\n",
       "      <td>656</td>\n",
       "      <td>21.9</td>\n",
       "      <td>1233</td>\n",
       "      <td></td>\n",
       "      <td></td>\n",
       "      <td>...</td>\n",
       "      <td>18.2</td>\n",
       "      <td>20.8</td>\n",
       "      <td>21.7</td>\n",
       "      <td>20.8</td>\n",
       "      <td>20.5</td>\n",
       "      <td>2.8</td>\n",
       "      <td>4.1</td>\n",
       "      <td></td>\n",
       "      <td></td>\n",
       "      <td></td>\n",
       "    </tr>\n",
       "    <tr>\n",
       "      <th>4</th>\n",
       "      <td>159</td>\n",
       "      <td>부산</td>\n",
       "      <td>2020-10-30</td>\n",
       "      <td>15.0</td>\n",
       "      <td>11.4</td>\n",
       "      <td>604</td>\n",
       "      <td>21.0</td>\n",
       "      <td>1319</td>\n",
       "      <td></td>\n",
       "      <td></td>\n",
       "      <td>...</td>\n",
       "      <td>18.1</td>\n",
       "      <td>20.7</td>\n",
       "      <td>21.6</td>\n",
       "      <td>20.8</td>\n",
       "      <td>20.5</td>\n",
       "      <td>3.4</td>\n",
       "      <td>4.9</td>\n",
       "      <td></td>\n",
       "      <td></td>\n",
       "      <td></td>\n",
       "    </tr>\n",
       "  </tbody>\n",
       "</table>\n",
       "<p>5 rows × 62 columns</p>\n",
       "</div>"
      ],
      "text/plain": [
       "  stnId stnNm          tm avgTa minTa minTaHrmt maxTa maxTaHrmt mi10MaxRn  \\\n",
       "0   159    부산  2020-10-26  15.9  11.7       648  21.5      1151             \n",
       "1   159    부산  2020-10-27  16.7  12.2       636  22.9      1306             \n",
       "2   159    부산  2020-10-28  17.3  15.4       719  22.9      1425         0   \n",
       "3   159    부산  2020-10-29  15.4  10.6       656  21.9      1233             \n",
       "4   159    부산  2020-10-30  15.0  11.4       604  21.0      1319             \n",
       "\n",
       "  mi10MaxRnHrmt  ... avgM05Te avgM10Te avgM15Te avgM30Te avgM50Te sumLrgEv  \\\n",
       "0                ...     18.3     21.4     22.1     20.9     20.5      3.2   \n",
       "1                ...     18.3     21.2     22.0     20.8     20.5      3.4   \n",
       "2                ...     18.4     21.0     21.9     20.8     20.5      3.0   \n",
       "3                ...     18.2     20.8     21.7     20.8     20.5      2.8   \n",
       "4                ...     18.1     20.7     21.6     20.8     20.5      3.4   \n",
       "\n",
       "  sumSmlEv n99Rn           iscs sumFogDur  \n",
       "0      4.6                                 \n",
       "1      4.9   0.0                           \n",
       "2      4.3        {비}0720-0820.            \n",
       "3      4.1                                 \n",
       "4      4.9                                 \n",
       "\n",
       "[5 rows x 62 columns]"
      ]
     },
     "execution_count": 23,
     "metadata": {},
     "output_type": "execute_result"
    }
   ],
   "source": [
    "df.head()"
   ]
  },
  {
   "cell_type": "markdown",
   "metadata": {
    "slideshow": {
     "slide_type": "slide"
    }
   },
   "source": [
    "`DataFrame` 의 `shape` `(행, 열)` 을 확인한다."
   ]
  },
  {
   "cell_type": "code",
   "execution_count": 24,
   "metadata": {
    "slideshow": {
     "slide_type": "fragment"
    }
   },
   "outputs": [
    {
     "data": {
      "text/plain": [
       "(113, 62)"
      ]
     },
     "execution_count": 24,
     "metadata": {},
     "output_type": "execute_result"
    }
   ],
   "source": [
    "df.shape"
   ]
  },
  {
   "cell_type": "markdown",
   "metadata": {
    "slideshow": {
     "slide_type": "slide"
    }
   },
   "source": [
    "어떤 컬럼들이 있는지 확인해보자"
   ]
  },
  {
   "cell_type": "code",
   "execution_count": 25,
   "metadata": {
    "slideshow": {
     "slide_type": "fragment"
    }
   },
   "outputs": [
    {
     "data": {
      "text/plain": [
       "Index(['stnId', 'stnNm', 'tm', 'avgTa', 'minTa', 'minTaHrmt', 'maxTa',\n",
       "       'maxTaHrmt', 'mi10MaxRn', 'mi10MaxRnHrmt', 'hr1MaxRn', 'hr1MaxRnHrmt',\n",
       "       'sumRnDur', 'sumRn', 'maxInsWs', 'maxInsWsWd', 'maxInsWsHrmt', 'maxWs',\n",
       "       'maxWsWd', 'maxWsHrmt', 'avgWs', 'hr24SumRws', 'maxWd', 'avgTd',\n",
       "       'minRhm', 'minRhmHrmt', 'avgRhm', 'avgPv', 'avgPa', 'maxPs',\n",
       "       'maxPsHrmt', 'minPs', 'minPsHrmt', 'avgPs', 'ssDur', 'sumSsHr',\n",
       "       'hr1MaxIcsrHrmt', 'hr1MaxIcsr', 'sumGsr', 'ddMefs', 'ddMefsHrmt',\n",
       "       'ddMes', 'ddMesHrmt', 'sumDpthFhsc', 'avgTca', 'avgLmac', 'avgTs',\n",
       "       'minTg', 'avgCm5Te', 'avgCm10Te', 'avgCm20Te', 'avgCm30Te', 'avgM05Te',\n",
       "       'avgM10Te', 'avgM15Te', 'avgM30Te', 'avgM50Te', 'sumLrgEv', 'sumSmlEv',\n",
       "       'n99Rn', 'iscs', 'sumFogDur'],\n",
       "      dtype='object')"
      ]
     },
     "execution_count": 25,
     "metadata": {},
     "output_type": "execute_result"
    }
   ],
   "source": [
    "df.columns"
   ]
  },
  {
   "cell_type": "markdown",
   "metadata": {
    "slideshow": {
     "slide_type": "slide"
    }
   },
   "source": [
    "필요한 컬럼만 선택하고 나머지 컬럼은 삭제해보자  \n",
    "이번 실습에서는 아래에 나열된 컬럼만 사용한다.  \n",
    "\n",
    " - `일시(tm)`\n",
    " - `평균기온(avgTa)`\n",
    " - `최저기온(minTa)`\n",
    " - `최저기온시각(minTaHrmt)`\n",
    " - `최고기온(maxTa)`\n",
    " - `최대기온시각(maxTaHrmt)`\n",
    " - `일강수량(sumRn)`"
   ]
  },
  {
   "cell_type": "code",
   "execution_count": 26,
   "metadata": {
    "slideshow": {
     "slide_type": "slide"
    }
   },
   "outputs": [],
   "source": [
    "columns = [\"tm\", \"avgTa\", \"minTa\", \"minTaHrmt\", \"maxTa\", \"maxTaHrmt\", \"sumRn\"]\n",
    "\n",
    "df = df[columns]"
   ]
  },
  {
   "cell_type": "code",
   "execution_count": 27,
   "metadata": {
    "slideshow": {
     "slide_type": "fragment"
    }
   },
   "outputs": [
    {
     "data": {
      "text/html": [
       "<div>\n",
       "<style scoped>\n",
       "    .dataframe tbody tr th:only-of-type {\n",
       "        vertical-align: middle;\n",
       "    }\n",
       "\n",
       "    .dataframe tbody tr th {\n",
       "        vertical-align: top;\n",
       "    }\n",
       "\n",
       "    .dataframe thead th {\n",
       "        text-align: right;\n",
       "    }\n",
       "</style>\n",
       "<table border=\"1\" class=\"dataframe\">\n",
       "  <thead>\n",
       "    <tr style=\"text-align: right;\">\n",
       "      <th></th>\n",
       "      <th>tm</th>\n",
       "      <th>avgTa</th>\n",
       "      <th>minTa</th>\n",
       "      <th>minTaHrmt</th>\n",
       "      <th>maxTa</th>\n",
       "      <th>maxTaHrmt</th>\n",
       "      <th>sumRn</th>\n",
       "    </tr>\n",
       "  </thead>\n",
       "  <tbody>\n",
       "    <tr>\n",
       "      <th>0</th>\n",
       "      <td>2020-10-26</td>\n",
       "      <td>15.9</td>\n",
       "      <td>11.7</td>\n",
       "      <td>648</td>\n",
       "      <td>21.5</td>\n",
       "      <td>1151</td>\n",
       "      <td></td>\n",
       "    </tr>\n",
       "    <tr>\n",
       "      <th>1</th>\n",
       "      <td>2020-10-27</td>\n",
       "      <td>16.7</td>\n",
       "      <td>12.2</td>\n",
       "      <td>636</td>\n",
       "      <td>22.9</td>\n",
       "      <td>1306</td>\n",
       "      <td></td>\n",
       "    </tr>\n",
       "    <tr>\n",
       "      <th>2</th>\n",
       "      <td>2020-10-28</td>\n",
       "      <td>17.3</td>\n",
       "      <td>15.4</td>\n",
       "      <td>719</td>\n",
       "      <td>22.9</td>\n",
       "      <td>1425</td>\n",
       "      <td>0.0</td>\n",
       "    </tr>\n",
       "    <tr>\n",
       "      <th>3</th>\n",
       "      <td>2020-10-29</td>\n",
       "      <td>15.4</td>\n",
       "      <td>10.6</td>\n",
       "      <td>656</td>\n",
       "      <td>21.9</td>\n",
       "      <td>1233</td>\n",
       "      <td></td>\n",
       "    </tr>\n",
       "    <tr>\n",
       "      <th>4</th>\n",
       "      <td>2020-10-30</td>\n",
       "      <td>15.0</td>\n",
       "      <td>11.4</td>\n",
       "      <td>604</td>\n",
       "      <td>21.0</td>\n",
       "      <td>1319</td>\n",
       "      <td></td>\n",
       "    </tr>\n",
       "  </tbody>\n",
       "</table>\n",
       "</div>"
      ],
      "text/plain": [
       "           tm avgTa minTa minTaHrmt maxTa maxTaHrmt sumRn\n",
       "0  2020-10-26  15.9  11.7       648  21.5      1151      \n",
       "1  2020-10-27  16.7  12.2       636  22.9      1306      \n",
       "2  2020-10-28  17.3  15.4       719  22.9      1425   0.0\n",
       "3  2020-10-29  15.4  10.6       656  21.9      1233      \n",
       "4  2020-10-30  15.0  11.4       604  21.0      1319      "
      ]
     },
     "execution_count": 27,
     "metadata": {},
     "output_type": "execute_result"
    }
   ],
   "source": [
    "df.head()"
   ]
  },
  {
   "cell_type": "markdown",
   "metadata": {
    "slideshow": {
     "slide_type": "slide"
    }
   },
   "source": [
    "`rename` 메서드를 사용해서 컬럼명을 더 알아보기쉽게 바꿔보자."
   ]
  },
  {
   "cell_type": "code",
   "execution_count": 28,
   "metadata": {
    "slideshow": {
     "slide_type": "fragment"
    }
   },
   "outputs": [],
   "source": [
    "column_names = {\n",
    "    \"tm\": \"day\",\n",
    "    \"avgTa\": \"average_temp\",\n",
    "    \"minTa\": \"min_temp\",\n",
    "    \"minTaHrmt\": \"min_temp_timestamp\",\n",
    "    \"maxTa\": \"max_temp\",\n",
    "    \"maxTaHrmt\": \"max_temp_timestamp\",\n",
    "    \"sumRn\": \"rainfall\",\n",
    "}\n",
    "\n",
    "df = df.rename(columns=column_names)"
   ]
  },
  {
   "cell_type": "code",
   "execution_count": 29,
   "metadata": {
    "slideshow": {
     "slide_type": "fragment"
    }
   },
   "outputs": [
    {
     "data": {
      "text/html": [
       "<div>\n",
       "<style scoped>\n",
       "    .dataframe tbody tr th:only-of-type {\n",
       "        vertical-align: middle;\n",
       "    }\n",
       "\n",
       "    .dataframe tbody tr th {\n",
       "        vertical-align: top;\n",
       "    }\n",
       "\n",
       "    .dataframe thead th {\n",
       "        text-align: right;\n",
       "    }\n",
       "</style>\n",
       "<table border=\"1\" class=\"dataframe\">\n",
       "  <thead>\n",
       "    <tr style=\"text-align: right;\">\n",
       "      <th></th>\n",
       "      <th>day</th>\n",
       "      <th>average_temp</th>\n",
       "      <th>min_temp</th>\n",
       "      <th>min_temp_timestamp</th>\n",
       "      <th>max_temp</th>\n",
       "      <th>max_temp_timestamp</th>\n",
       "      <th>rainfall</th>\n",
       "    </tr>\n",
       "  </thead>\n",
       "  <tbody>\n",
       "    <tr>\n",
       "      <th>0</th>\n",
       "      <td>2020-10-26</td>\n",
       "      <td>15.9</td>\n",
       "      <td>11.7</td>\n",
       "      <td>648</td>\n",
       "      <td>21.5</td>\n",
       "      <td>1151</td>\n",
       "      <td></td>\n",
       "    </tr>\n",
       "    <tr>\n",
       "      <th>1</th>\n",
       "      <td>2020-10-27</td>\n",
       "      <td>16.7</td>\n",
       "      <td>12.2</td>\n",
       "      <td>636</td>\n",
       "      <td>22.9</td>\n",
       "      <td>1306</td>\n",
       "      <td></td>\n",
       "    </tr>\n",
       "    <tr>\n",
       "      <th>2</th>\n",
       "      <td>2020-10-28</td>\n",
       "      <td>17.3</td>\n",
       "      <td>15.4</td>\n",
       "      <td>719</td>\n",
       "      <td>22.9</td>\n",
       "      <td>1425</td>\n",
       "      <td>0.0</td>\n",
       "    </tr>\n",
       "  </tbody>\n",
       "</table>\n",
       "</div>"
      ],
      "text/plain": [
       "          day average_temp min_temp min_temp_timestamp max_temp  \\\n",
       "0  2020-10-26         15.9     11.7                648     21.5   \n",
       "1  2020-10-27         16.7     12.2                636     22.9   \n",
       "2  2020-10-28         17.3     15.4                719     22.9   \n",
       "\n",
       "  max_temp_timestamp rainfall  \n",
       "0               1151           \n",
       "1               1306           \n",
       "2               1425      0.0  "
      ]
     },
     "execution_count": 29,
     "metadata": {},
     "output_type": "execute_result"
    }
   ],
   "source": [
    "df.head(3)"
   ]
  },
  {
   "cell_type": "markdown",
   "metadata": {
    "slideshow": {
     "slide_type": "slide"
    }
   },
   "source": [
    "`info()` 메서드로 확인한 현재 `df` 의 컬럼 상태는 아래와 같다.  \n",
    "  \n",
    "- 객체의 `type` 이 `DataFrame` 이다.\n",
    "- `Index` 는 `RangeIndex` 를 사용하며, 113개, 0~112의 값을 가진다.\n",
    "- 총 7 개의 `columns` 가 있다.\n",
    "- `day`, `average_temp`, `...` 등의 컬럼이 있으며 모두 113개 `non-null` 컬럼이다.\n",
    "- `dtype` 은 모두 `object` 이다.\n",
    "- 현재 사용하고 있는 memory 는 6.3+ KB 이다."
   ]
  },
  {
   "cell_type": "code",
   "execution_count": 30,
   "metadata": {
    "slideshow": {
     "slide_type": "slide"
    }
   },
   "outputs": [
    {
     "name": "stdout",
     "output_type": "stream",
     "text": [
      "<class 'pandas.core.frame.DataFrame'>\n",
      "RangeIndex: 113 entries, 0 to 112\n",
      "Data columns (total 7 columns):\n",
      " #   Column              Non-Null Count  Dtype \n",
      "---  ------              --------------  ----- \n",
      " 0   day                 113 non-null    object\n",
      " 1   average_temp        113 non-null    object\n",
      " 2   min_temp            113 non-null    object\n",
      " 3   min_temp_timestamp  113 non-null    object\n",
      " 4   max_temp            113 non-null    object\n",
      " 5   max_temp_timestamp  113 non-null    object\n",
      " 6   rainfall            113 non-null    object\n",
      "dtypes: object(7)\n",
      "memory usage: 6.3+ KB\n"
     ]
    }
   ],
   "source": [
    "df.info()"
   ]
  },
  {
   "cell_type": "markdown",
   "metadata": {
    "slideshow": {
     "slide_type": "slide"
    }
   },
   "source": [
    "`empty string(\"\")` 의 갯수를 확인해보자"
   ]
  },
  {
   "cell_type": "code",
   "execution_count": 31,
   "metadata": {
    "slideshow": {
     "slide_type": "fragment"
    }
   },
   "outputs": [
    {
     "data": {
      "text/plain": [
       "day                    0\n",
       "average_temp           0\n",
       "min_temp               0\n",
       "min_temp_timestamp     0\n",
       "max_temp               0\n",
       "max_temp_timestamp     0\n",
       "rainfall              95\n",
       "dtype: int64"
      ]
     },
     "execution_count": 31,
     "metadata": {},
     "output_type": "execute_result"
    }
   ],
   "source": [
    "(df == \"\").sum()"
   ]
  },
  {
   "cell_type": "markdown",
   "metadata": {
    "slideshow": {
     "slide_type": "slide"
    }
   },
   "source": [
    " `empty string` 은 `pandas` 에서 다루기 어려우므로 `NaN` 형태로 변환한다.  \n",
    "\n",
    "1. `NaN` 관련 메서드는 많이 제공 되지만 (`isna` 등) `empty string` 은 직접 찾아서 처리해줘야 하기 때문이다.  \n",
    "2. `empty string` 을 포함한 `rainfall` 컬럼은 `강수량` 을 가지는 열이다.  \n",
    "해당 열 `dtype` 으로는 `float`(실수) 타입이 올바를 것인데  \n",
    "`float` 자료형에서 `null` 값을 나타내는 가장 좋은 표현방법은 `NaN` 이다.\n",
    "3. `empty string` 을 포함한 열은 `dtype` 을 `float` 로 변경할 수 없다.\n"
   ]
  },
  {
   "cell_type": "code",
   "execution_count": 32,
   "metadata": {
    "slideshow": {
     "slide_type": "fragment"
    }
   },
   "outputs": [],
   "source": [
    "import numpy as np\n",
    "\n",
    "df[\"rainfall\"] = df[\"rainfall\"].replace(\"\", np.nan)"
   ]
  },
  {
   "cell_type": "markdown",
   "metadata": {
    "slideshow": {
     "slide_type": "slide"
    }
   },
   "source": [
    "`rainfall` 컬럼의 `\"\"` 값이 `np.NaN` 값으로 정상적으로 변경된 것을 알 수 있다."
   ]
  },
  {
   "cell_type": "code",
   "execution_count": 33,
   "metadata": {
    "slideshow": {
     "slide_type": "fragment"
    }
   },
   "outputs": [
    {
     "data": {
      "text/html": [
       "<div>\n",
       "<style scoped>\n",
       "    .dataframe tbody tr th:only-of-type {\n",
       "        vertical-align: middle;\n",
       "    }\n",
       "\n",
       "    .dataframe tbody tr th {\n",
       "        vertical-align: top;\n",
       "    }\n",
       "\n",
       "    .dataframe thead th {\n",
       "        text-align: right;\n",
       "    }\n",
       "</style>\n",
       "<table border=\"1\" class=\"dataframe\">\n",
       "  <thead>\n",
       "    <tr style=\"text-align: right;\">\n",
       "      <th></th>\n",
       "      <th>day</th>\n",
       "      <th>average_temp</th>\n",
       "      <th>min_temp</th>\n",
       "      <th>min_temp_timestamp</th>\n",
       "      <th>max_temp</th>\n",
       "      <th>max_temp_timestamp</th>\n",
       "      <th>rainfall</th>\n",
       "    </tr>\n",
       "  </thead>\n",
       "  <tbody>\n",
       "    <tr>\n",
       "      <th>0</th>\n",
       "      <td>2020-10-26</td>\n",
       "      <td>15.9</td>\n",
       "      <td>11.7</td>\n",
       "      <td>648</td>\n",
       "      <td>21.5</td>\n",
       "      <td>1151</td>\n",
       "      <td>NaN</td>\n",
       "    </tr>\n",
       "    <tr>\n",
       "      <th>1</th>\n",
       "      <td>2020-10-27</td>\n",
       "      <td>16.7</td>\n",
       "      <td>12.2</td>\n",
       "      <td>636</td>\n",
       "      <td>22.9</td>\n",
       "      <td>1306</td>\n",
       "      <td>NaN</td>\n",
       "    </tr>\n",
       "    <tr>\n",
       "      <th>2</th>\n",
       "      <td>2020-10-28</td>\n",
       "      <td>17.3</td>\n",
       "      <td>15.4</td>\n",
       "      <td>719</td>\n",
       "      <td>22.9</td>\n",
       "      <td>1425</td>\n",
       "      <td>0.0</td>\n",
       "    </tr>\n",
       "    <tr>\n",
       "      <th>3</th>\n",
       "      <td>2020-10-29</td>\n",
       "      <td>15.4</td>\n",
       "      <td>10.6</td>\n",
       "      <td>656</td>\n",
       "      <td>21.9</td>\n",
       "      <td>1233</td>\n",
       "      <td>NaN</td>\n",
       "    </tr>\n",
       "    <tr>\n",
       "      <th>4</th>\n",
       "      <td>2020-10-30</td>\n",
       "      <td>15.0</td>\n",
       "      <td>11.4</td>\n",
       "      <td>604</td>\n",
       "      <td>21.0</td>\n",
       "      <td>1319</td>\n",
       "      <td>NaN</td>\n",
       "    </tr>\n",
       "  </tbody>\n",
       "</table>\n",
       "</div>"
      ],
      "text/plain": [
       "          day average_temp min_temp min_temp_timestamp max_temp  \\\n",
       "0  2020-10-26         15.9     11.7                648     21.5   \n",
       "1  2020-10-27         16.7     12.2                636     22.9   \n",
       "2  2020-10-28         17.3     15.4                719     22.9   \n",
       "3  2020-10-29         15.4     10.6                656     21.9   \n",
       "4  2020-10-30         15.0     11.4                604     21.0   \n",
       "\n",
       "  max_temp_timestamp rainfall  \n",
       "0               1151      NaN  \n",
       "1               1306      NaN  \n",
       "2               1425      0.0  \n",
       "3               1233      NaN  \n",
       "4               1319      NaN  "
      ]
     },
     "execution_count": 33,
     "metadata": {},
     "output_type": "execute_result"
    }
   ],
   "source": [
    "df.head()"
   ]
  },
  {
   "cell_type": "code",
   "execution_count": 34,
   "metadata": {
    "slideshow": {
     "slide_type": "fragment"
    }
   },
   "outputs": [
    {
     "data": {
      "text/plain": [
       "day                    0\n",
       "average_temp           0\n",
       "min_temp               0\n",
       "min_temp_timestamp     0\n",
       "max_temp               0\n",
       "max_temp_timestamp     0\n",
       "rainfall              95\n",
       "dtype: int64"
      ]
     },
     "execution_count": 34,
     "metadata": {},
     "output_type": "execute_result"
    }
   ],
   "source": [
    "df.isna().sum()"
   ]
  },
  {
   "cell_type": "markdown",
   "metadata": {
    "slideshow": {
     "slide_type": "slide"
    }
   },
   "source": [
    "`.astype()` 메서드를 사용해서 각 컬럼에 맞는 `dtype` 으로 변경해준다.\n",
    "\n",
    " - `day` : `Timestamp`\n",
    " - `average_temp` : `float`\n",
    " - `min_temp` : `float`\n",
    " - `min_temp_timestamp` : `Timestamp`\n",
    " - `max_temp` : `float`\n",
    " - `max_temp_timestamp` : `Timestamp`\n",
    " - `rainfall` : `float`"
   ]
  },
  {
   "cell_type": "markdown",
   "metadata": {
    "slideshow": {
     "slide_type": "slide"
    }
   },
   "source": [
    "우선 `float` 타입을 가질 컬럼들의 `dtype` 을 변경해준다."
   ]
  },
  {
   "cell_type": "code",
   "execution_count": 35,
   "metadata": {
    "slideshow": {
     "slide_type": "fragment"
    }
   },
   "outputs": [],
   "source": [
    "float_type_columns = [\n",
    "    \"average_temp\",\n",
    "    \"min_temp\",\n",
    "    \"max_temp\",\n",
    "    \"rainfall\",\n",
    "]\n",
    "\n",
    "df[float_type_columns] = df[float_type_columns].astype(float)"
   ]
  },
  {
   "cell_type": "markdown",
   "metadata": {
    "slideshow": {
     "slide_type": "slide"
    }
   },
   "source": [
    "`Timestamp` 타입을 가질 컬럼들의 `dtype` 을 변경해준다."
   ]
  },
  {
   "cell_type": "markdown",
   "metadata": {
    "slideshow": {
     "slide_type": "fragment"
    }
   },
   "source": [
    "같은 `Timestamp` 컬럼이라도 기존 양식(`format`)에 따라 따로 적용해줘야한다.  \n",
    "\n",
    "- `day` : `%Y-%m-%d` (ex. 20190101)\n",
    "- `min_temp_timestamp` : `%H%M` (ex. 0648)\n",
    "- `max_temp_timestamp` : `%H%M` (ex. 0648)  \n",
    "\n",
    "date time format: https://docs.python.org/ko/3/library/datetime.html#strftime-and-strptime-format-codes"
   ]
  },
  {
   "cell_type": "markdown",
   "metadata": {
    "slideshow": {
     "slide_type": "slide"
    }
   },
   "source": [
    "`day` 열을 `%Y-%m-%d` 형식에 맞게 `Timestamp` `dtype` 으로 변경한다."
   ]
  },
  {
   "cell_type": "code",
   "execution_count": 36,
   "metadata": {
    "slideshow": {
     "slide_type": "fragment"
    }
   },
   "outputs": [
    {
     "name": "stdout",
     "output_type": "stream",
     "text": [
      "0     2020-10-26\n",
      "1     2020-10-27\n",
      "2     2020-10-28\n",
      "3     2020-10-29\n",
      "4     2020-10-30\n",
      "         ...    \n",
      "108   2021-02-11\n",
      "109   2021-02-12\n",
      "110   2021-02-13\n",
      "111   2021-02-14\n",
      "112   2021-02-15\n",
      "Name: day, Length: 113, dtype: datetime64[ns]\n"
     ]
    }
   ],
   "source": [
    "df[\"day\"] = pd.to_datetime(df[\"day\"], format=\"%Y-%m-%d\")\n",
    "\n",
    "print(df[\"day\"])"
   ]
  },
  {
   "cell_type": "markdown",
   "metadata": {
    "slideshow": {
     "slide_type": "slide"
    }
   },
   "source": [
    "`*_timestamp` 열의 `dtype` 을 `Timestamp` 형식으로 변경시켜보자"
   ]
  },
  {
   "cell_type": "code",
   "execution_count": 37,
   "metadata": {
    "slideshow": {
     "slide_type": "fragment"
    }
   },
   "outputs": [],
   "source": [
    "df[\"min_temp_timestamp\"] = df[\"min_temp_timestamp\"].str.pad(4, side=\"left\", fillchar=\"0\")\n",
    "df[\"max_temp_timestamp\"] = df[\"max_temp_timestamp\"].str.pad(4, side=\"left\", fillchar=\"0\")"
   ]
  },
  {
   "cell_type": "code",
   "execution_count": 38,
   "metadata": {
    "slideshow": {
     "slide_type": "fragment"
    }
   },
   "outputs": [
    {
     "data": {
      "text/html": [
       "<div>\n",
       "<style scoped>\n",
       "    .dataframe tbody tr th:only-of-type {\n",
       "        vertical-align: middle;\n",
       "    }\n",
       "\n",
       "    .dataframe tbody tr th {\n",
       "        vertical-align: top;\n",
       "    }\n",
       "\n",
       "    .dataframe thead th {\n",
       "        text-align: right;\n",
       "    }\n",
       "</style>\n",
       "<table border=\"1\" class=\"dataframe\">\n",
       "  <thead>\n",
       "    <tr style=\"text-align: right;\">\n",
       "      <th></th>\n",
       "      <th>day</th>\n",
       "      <th>average_temp</th>\n",
       "      <th>min_temp</th>\n",
       "      <th>min_temp_timestamp</th>\n",
       "      <th>max_temp</th>\n",
       "      <th>max_temp_timestamp</th>\n",
       "      <th>rainfall</th>\n",
       "    </tr>\n",
       "  </thead>\n",
       "  <tbody>\n",
       "    <tr>\n",
       "      <th>0</th>\n",
       "      <td>2020-10-26</td>\n",
       "      <td>15.9</td>\n",
       "      <td>11.7</td>\n",
       "      <td>0648</td>\n",
       "      <td>21.5</td>\n",
       "      <td>1151</td>\n",
       "      <td>NaN</td>\n",
       "    </tr>\n",
       "    <tr>\n",
       "      <th>1</th>\n",
       "      <td>2020-10-27</td>\n",
       "      <td>16.7</td>\n",
       "      <td>12.2</td>\n",
       "      <td>0636</td>\n",
       "      <td>22.9</td>\n",
       "      <td>1306</td>\n",
       "      <td>NaN</td>\n",
       "    </tr>\n",
       "    <tr>\n",
       "      <th>2</th>\n",
       "      <td>2020-10-28</td>\n",
       "      <td>17.3</td>\n",
       "      <td>15.4</td>\n",
       "      <td>0719</td>\n",
       "      <td>22.9</td>\n",
       "      <td>1425</td>\n",
       "      <td>0.0</td>\n",
       "    </tr>\n",
       "    <tr>\n",
       "      <th>3</th>\n",
       "      <td>2020-10-29</td>\n",
       "      <td>15.4</td>\n",
       "      <td>10.6</td>\n",
       "      <td>0656</td>\n",
       "      <td>21.9</td>\n",
       "      <td>1233</td>\n",
       "      <td>NaN</td>\n",
       "    </tr>\n",
       "    <tr>\n",
       "      <th>4</th>\n",
       "      <td>2020-10-30</td>\n",
       "      <td>15.0</td>\n",
       "      <td>11.4</td>\n",
       "      <td>0604</td>\n",
       "      <td>21.0</td>\n",
       "      <td>1319</td>\n",
       "      <td>NaN</td>\n",
       "    </tr>\n",
       "  </tbody>\n",
       "</table>\n",
       "</div>"
      ],
      "text/plain": [
       "         day  average_temp  min_temp min_temp_timestamp  max_temp  \\\n",
       "0 2020-10-26          15.9      11.7               0648      21.5   \n",
       "1 2020-10-27          16.7      12.2               0636      22.9   \n",
       "2 2020-10-28          17.3      15.4               0719      22.9   \n",
       "3 2020-10-29          15.4      10.6               0656      21.9   \n",
       "4 2020-10-30          15.0      11.4               0604      21.0   \n",
       "\n",
       "  max_temp_timestamp  rainfall  \n",
       "0               1151       NaN  \n",
       "1               1306       NaN  \n",
       "2               1425       0.0  \n",
       "3               1233       NaN  \n",
       "4               1319       NaN  "
      ]
     },
     "execution_count": 38,
     "metadata": {},
     "output_type": "execute_result"
    }
   ],
   "source": [
    "df.head()"
   ]
  },
  {
   "cell_type": "markdown",
   "metadata": {
    "slideshow": {
     "slide_type": "slide"
    }
   },
   "source": [
    "`timestamp` 의 앞의 두글자는 `hour` 를 나타낸다."
   ]
  },
  {
   "cell_type": "code",
   "execution_count": 39,
   "metadata": {
    "slideshow": {
     "slide_type": "fragment"
    }
   },
   "outputs": [
    {
     "data": {
      "text/plain": [
       "0      06\n",
       "1      06\n",
       "2      07\n",
       "3      06\n",
       "4      06\n",
       "       ..\n",
       "108    06\n",
       "109    07\n",
       "110    07\n",
       "111    05\n",
       "112    23\n",
       "Name: min_temp_timestamp, Length: 113, dtype: object"
      ]
     },
     "execution_count": 39,
     "metadata": {},
     "output_type": "execute_result"
    }
   ],
   "source": [
    "df[\"min_temp_timestamp\"].str[:2]"
   ]
  },
  {
   "cell_type": "markdown",
   "metadata": {
    "slideshow": {
     "slide_type": "slide"
    }
   },
   "source": [
    "`timestamp` 의 뒤의 두글자는 `minute` 을 나타낸다."
   ]
  },
  {
   "cell_type": "code",
   "execution_count": 40,
   "metadata": {
    "slideshow": {
     "slide_type": "fragment"
    }
   },
   "outputs": [
    {
     "data": {
      "text/plain": [
       "0      48\n",
       "1      36\n",
       "2      19\n",
       "3      56\n",
       "4      04\n",
       "       ..\n",
       "108    47\n",
       "109    02\n",
       "110    27\n",
       "111    35\n",
       "112    55\n",
       "Name: min_temp_timestamp, Length: 113, dtype: object"
      ]
     },
     "execution_count": 40,
     "metadata": {},
     "output_type": "execute_result"
    }
   ],
   "source": [
    "df[\"min_temp_timestamp\"].str[2:]"
   ]
  },
  {
   "cell_type": "markdown",
   "metadata": {
    "slideshow": {
     "slide_type": "slide"
    }
   },
   "source": [
    "`timestamp` 에서 각각 시간정보(`hour`, `minute`)를 뽑아내서 `int` 형으로 변환한 다음  \n",
    "시간을 표현하기위한 자료형인 `pd.Timedelta` 형식으로 변경해준다."
   ]
  },
  {
   "cell_type": "code",
   "execution_count": 41,
   "metadata": {
    "slideshow": {
     "slide_type": "slide"
    }
   },
   "outputs": [
    {
     "name": "stdout",
     "output_type": "stream",
     "text": [
      "0     0 days 06:00:00\n",
      "1     0 days 06:00:00\n",
      "2     0 days 07:00:00\n",
      "3     0 days 06:00:00\n",
      "4     0 days 06:00:00\n",
      "            ...      \n",
      "108   0 days 06:00:00\n",
      "109   0 days 07:00:00\n",
      "110   0 days 07:00:00\n",
      "111   0 days 05:00:00\n",
      "112   0 days 23:00:00\n",
      "Name: min_temp_timestamp, Length: 113, dtype: timedelta64[ns]\n"
     ]
    }
   ],
   "source": [
    "min_hour = pd.to_timedelta(df[\"min_temp_timestamp\"].str[:2].astype(int), unit=\"h\")\n",
    "\n",
    "print(min_hour)"
   ]
  },
  {
   "cell_type": "code",
   "execution_count": 42,
   "metadata": {
    "slideshow": {
     "slide_type": "slide"
    }
   },
   "outputs": [
    {
     "name": "stdout",
     "output_type": "stream",
     "text": [
      "0     0 days 00:48:00\n",
      "1     0 days 00:36:00\n",
      "2     0 days 00:19:00\n",
      "3     0 days 00:56:00\n",
      "4     0 days 00:04:00\n",
      "            ...      \n",
      "108   0 days 00:47:00\n",
      "109   0 days 00:02:00\n",
      "110   0 days 00:27:00\n",
      "111   0 days 00:35:00\n",
      "112   0 days 00:55:00\n",
      "Name: min_temp_timestamp, Length: 113, dtype: timedelta64[ns]\n"
     ]
    }
   ],
   "source": [
    "min_minute = pd.to_timedelta(df[\"min_temp_timestamp\"].str[2:].astype(int), unit=\"m\")\n",
    "\n",
    "print(min_minute)"
   ]
  },
  {
   "cell_type": "markdown",
   "metadata": {
    "slideshow": {
     "slide_type": "slide"
    }
   },
   "source": [
    "`day`, `hour` 과 `minute` 정보를 모두 합쳐서 온전한 `Timestamp` 열로 변환한다."
   ]
  },
  {
   "cell_type": "code",
   "execution_count": 43,
   "metadata": {
    "slideshow": {
     "slide_type": "fragment"
    }
   },
   "outputs": [
    {
     "name": "stdout",
     "output_type": "stream",
     "text": [
      "0     2020-10-26 06:48:00\n",
      "1     2020-10-27 06:36:00\n",
      "2     2020-10-28 07:19:00\n",
      "3     2020-10-29 06:56:00\n",
      "4     2020-10-30 06:04:00\n",
      "              ...        \n",
      "108   2021-02-11 06:47:00\n",
      "109   2021-02-12 07:02:00\n",
      "110   2021-02-13 07:27:00\n",
      "111   2021-02-14 05:35:00\n",
      "112   2021-02-15 23:55:00\n",
      "Name: min_temp_timestamp, Length: 113, dtype: datetime64[ns]\n"
     ]
    }
   ],
   "source": [
    "df[\"min_temp_timestamp\"] = df[\"day\"] + min_hour + min_minute\n",
    "\n",
    "print(df[\"min_temp_timestamp\"])"
   ]
  },
  {
   "cell_type": "markdown",
   "metadata": {
    "slideshow": {
     "slide_type": "slide"
    }
   },
   "source": [
    "마찬가지로 `max_temp_timestamp` 도 `Timestamp` `dtype` 으로 변경해준다.\n"
   ]
  },
  {
   "cell_type": "code",
   "execution_count": 44,
   "metadata": {
    "slideshow": {
     "slide_type": "fragment"
    }
   },
   "outputs": [],
   "source": [
    "df[\"max_temp_timestamp\"] = (\n",
    "    df[\"day\"]\n",
    "    + pd.to_timedelta(df[\"max_temp_timestamp\"].str[:2].astype(int), unit=\"h\")\n",
    "    + pd.to_timedelta(df[\"max_temp_timestamp\"].str[2:].astype(int), unit=\"m\")\n",
    ")"
   ]
  },
  {
   "cell_type": "code",
   "execution_count": 45,
   "metadata": {
    "slideshow": {
     "slide_type": "fragment"
    }
   },
   "outputs": [
    {
     "data": {
      "text/html": [
       "<div>\n",
       "<style scoped>\n",
       "    .dataframe tbody tr th:only-of-type {\n",
       "        vertical-align: middle;\n",
       "    }\n",
       "\n",
       "    .dataframe tbody tr th {\n",
       "        vertical-align: top;\n",
       "    }\n",
       "\n",
       "    .dataframe thead th {\n",
       "        text-align: right;\n",
       "    }\n",
       "</style>\n",
       "<table border=\"1\" class=\"dataframe\">\n",
       "  <thead>\n",
       "    <tr style=\"text-align: right;\">\n",
       "      <th></th>\n",
       "      <th>day</th>\n",
       "      <th>average_temp</th>\n",
       "      <th>min_temp</th>\n",
       "      <th>min_temp_timestamp</th>\n",
       "      <th>max_temp</th>\n",
       "      <th>max_temp_timestamp</th>\n",
       "      <th>rainfall</th>\n",
       "    </tr>\n",
       "  </thead>\n",
       "  <tbody>\n",
       "    <tr>\n",
       "      <th>0</th>\n",
       "      <td>2020-10-26</td>\n",
       "      <td>15.9</td>\n",
       "      <td>11.7</td>\n",
       "      <td>2020-10-26 06:48:00</td>\n",
       "      <td>21.5</td>\n",
       "      <td>2020-10-26 11:51:00</td>\n",
       "      <td>NaN</td>\n",
       "    </tr>\n",
       "    <tr>\n",
       "      <th>1</th>\n",
       "      <td>2020-10-27</td>\n",
       "      <td>16.7</td>\n",
       "      <td>12.2</td>\n",
       "      <td>2020-10-27 06:36:00</td>\n",
       "      <td>22.9</td>\n",
       "      <td>2020-10-27 13:06:00</td>\n",
       "      <td>NaN</td>\n",
       "    </tr>\n",
       "    <tr>\n",
       "      <th>2</th>\n",
       "      <td>2020-10-28</td>\n",
       "      <td>17.3</td>\n",
       "      <td>15.4</td>\n",
       "      <td>2020-10-28 07:19:00</td>\n",
       "      <td>22.9</td>\n",
       "      <td>2020-10-28 14:25:00</td>\n",
       "      <td>0.0</td>\n",
       "    </tr>\n",
       "    <tr>\n",
       "      <th>3</th>\n",
       "      <td>2020-10-29</td>\n",
       "      <td>15.4</td>\n",
       "      <td>10.6</td>\n",
       "      <td>2020-10-29 06:56:00</td>\n",
       "      <td>21.9</td>\n",
       "      <td>2020-10-29 12:33:00</td>\n",
       "      <td>NaN</td>\n",
       "    </tr>\n",
       "    <tr>\n",
       "      <th>4</th>\n",
       "      <td>2020-10-30</td>\n",
       "      <td>15.0</td>\n",
       "      <td>11.4</td>\n",
       "      <td>2020-10-30 06:04:00</td>\n",
       "      <td>21.0</td>\n",
       "      <td>2020-10-30 13:19:00</td>\n",
       "      <td>NaN</td>\n",
       "    </tr>\n",
       "  </tbody>\n",
       "</table>\n",
       "</div>"
      ],
      "text/plain": [
       "         day  average_temp  min_temp  min_temp_timestamp  max_temp  \\\n",
       "0 2020-10-26          15.9      11.7 2020-10-26 06:48:00      21.5   \n",
       "1 2020-10-27          16.7      12.2 2020-10-27 06:36:00      22.9   \n",
       "2 2020-10-28          17.3      15.4 2020-10-28 07:19:00      22.9   \n",
       "3 2020-10-29          15.4      10.6 2020-10-29 06:56:00      21.9   \n",
       "4 2020-10-30          15.0      11.4 2020-10-30 06:04:00      21.0   \n",
       "\n",
       "   max_temp_timestamp  rainfall  \n",
       "0 2020-10-26 11:51:00       NaN  \n",
       "1 2020-10-27 13:06:00       NaN  \n",
       "2 2020-10-28 14:25:00       0.0  \n",
       "3 2020-10-29 12:33:00       NaN  \n",
       "4 2020-10-30 13:19:00       NaN  "
      ]
     },
     "execution_count": 45,
     "metadata": {},
     "output_type": "execute_result"
    }
   ],
   "source": [
    "df.head()"
   ]
  },
  {
   "cell_type": "markdown",
   "metadata": {
    "slideshow": {
     "slide_type": "slide"
    }
   },
   "source": [
    "이렇게 모든 열의 `dtype` 이 올바르게 지정되었다.  \n",
    "올바른 `dtype` 을 가졌기 때문에 이후에 분석에 있어서 매우 용이할 것 이다.  \n",
    "\n",
    "예를 들면 `min_temp_timestamp` 에 하루씩 빼주는 연산을 하려면  \n",
    "`str` 타입일때는 매우 힘들지만 `Timestamp` 타입일 때는 아래와 같이 매우 간편하게 할 수 있다.  \n",
    "```python\n",
    "df[\"min_temp_timestamp\"] - pd.Timedelta(1, unit=\"d\")\n",
    "```  \n",
    "  \n",
    "컬럼별로 올바른 데이터타입(`dtype`) 을 지정해주는 것은 기본이다!"
   ]
  },
  {
   "cell_type": "markdown",
   "metadata": {
    "slideshow": {
     "slide_type": "slide"
    }
   },
   "source": [
    "마지막으로 `rainfall` 컬럼에 `NaN` 데이터를 `0` 으로 치환해보자"
   ]
  },
  {
   "cell_type": "code",
   "execution_count": 46,
   "metadata": {
    "slideshow": {
     "slide_type": "fragment"
    }
   },
   "outputs": [],
   "source": [
    "df[\"rainfall\"] = df[\"rainfall\"].fillna(0)"
   ]
  },
  {
   "cell_type": "code",
   "execution_count": 47,
   "metadata": {
    "slideshow": {
     "slide_type": "fragment"
    }
   },
   "outputs": [
    {
     "data": {
      "text/html": [
       "<div>\n",
       "<style scoped>\n",
       "    .dataframe tbody tr th:only-of-type {\n",
       "        vertical-align: middle;\n",
       "    }\n",
       "\n",
       "    .dataframe tbody tr th {\n",
       "        vertical-align: top;\n",
       "    }\n",
       "\n",
       "    .dataframe thead th {\n",
       "        text-align: right;\n",
       "    }\n",
       "</style>\n",
       "<table border=\"1\" class=\"dataframe\">\n",
       "  <thead>\n",
       "    <tr style=\"text-align: right;\">\n",
       "      <th></th>\n",
       "      <th>day</th>\n",
       "      <th>average_temp</th>\n",
       "      <th>min_temp</th>\n",
       "      <th>min_temp_timestamp</th>\n",
       "      <th>max_temp</th>\n",
       "      <th>max_temp_timestamp</th>\n",
       "      <th>rainfall</th>\n",
       "    </tr>\n",
       "  </thead>\n",
       "  <tbody>\n",
       "    <tr>\n",
       "      <th>0</th>\n",
       "      <td>2020-10-26</td>\n",
       "      <td>15.9</td>\n",
       "      <td>11.7</td>\n",
       "      <td>2020-10-26 06:48:00</td>\n",
       "      <td>21.5</td>\n",
       "      <td>2020-10-26 11:51:00</td>\n",
       "      <td>0.0</td>\n",
       "    </tr>\n",
       "    <tr>\n",
       "      <th>1</th>\n",
       "      <td>2020-10-27</td>\n",
       "      <td>16.7</td>\n",
       "      <td>12.2</td>\n",
       "      <td>2020-10-27 06:36:00</td>\n",
       "      <td>22.9</td>\n",
       "      <td>2020-10-27 13:06:00</td>\n",
       "      <td>0.0</td>\n",
       "    </tr>\n",
       "    <tr>\n",
       "      <th>2</th>\n",
       "      <td>2020-10-28</td>\n",
       "      <td>17.3</td>\n",
       "      <td>15.4</td>\n",
       "      <td>2020-10-28 07:19:00</td>\n",
       "      <td>22.9</td>\n",
       "      <td>2020-10-28 14:25:00</td>\n",
       "      <td>0.0</td>\n",
       "    </tr>\n",
       "    <tr>\n",
       "      <th>3</th>\n",
       "      <td>2020-10-29</td>\n",
       "      <td>15.4</td>\n",
       "      <td>10.6</td>\n",
       "      <td>2020-10-29 06:56:00</td>\n",
       "      <td>21.9</td>\n",
       "      <td>2020-10-29 12:33:00</td>\n",
       "      <td>0.0</td>\n",
       "    </tr>\n",
       "    <tr>\n",
       "      <th>4</th>\n",
       "      <td>2020-10-30</td>\n",
       "      <td>15.0</td>\n",
       "      <td>11.4</td>\n",
       "      <td>2020-10-30 06:04:00</td>\n",
       "      <td>21.0</td>\n",
       "      <td>2020-10-30 13:19:00</td>\n",
       "      <td>0.0</td>\n",
       "    </tr>\n",
       "  </tbody>\n",
       "</table>\n",
       "</div>"
      ],
      "text/plain": [
       "         day  average_temp  min_temp  min_temp_timestamp  max_temp  \\\n",
       "0 2020-10-26          15.9      11.7 2020-10-26 06:48:00      21.5   \n",
       "1 2020-10-27          16.7      12.2 2020-10-27 06:36:00      22.9   \n",
       "2 2020-10-28          17.3      15.4 2020-10-28 07:19:00      22.9   \n",
       "3 2020-10-29          15.4      10.6 2020-10-29 06:56:00      21.9   \n",
       "4 2020-10-30          15.0      11.4 2020-10-30 06:04:00      21.0   \n",
       "\n",
       "   max_temp_timestamp  rainfall  \n",
       "0 2020-10-26 11:51:00       0.0  \n",
       "1 2020-10-27 13:06:00       0.0  \n",
       "2 2020-10-28 14:25:00       0.0  \n",
       "3 2020-10-29 12:33:00       0.0  \n",
       "4 2020-10-30 13:19:00       0.0  "
      ]
     },
     "execution_count": 47,
     "metadata": {},
     "output_type": "execute_result"
    }
   ],
   "source": [
    "df.head()"
   ]
  },
  {
   "cell_type": "markdown",
   "metadata": {
    "slideshow": {
     "slide_type": "slide"
    }
   },
   "source": [
    "전처리가 끝난 데이터를 `csv` 파일 형식으로 저장하자!"
   ]
  },
  {
   "cell_type": "code",
   "execution_count": 48,
   "metadata": {
    "slideshow": {
     "slide_type": "fragment"
    }
   },
   "outputs": [],
   "source": [
    "df.to_csv(\"preprocessing.csv\")"
   ]
  },
  {
   "cell_type": "markdown",
   "metadata": {},
   "source": [
    "# XML Data Collection & Processing\n",
    "\n",
    "`BeautifulSoup` 라이브러리를 활용하여 `XML` 데이터를 받고 전처리합니다."
   ]
  },
  {
   "cell_type": "markdown",
   "metadata": {},
   "source": [
    "서버와 통신하기 위해 `requests` 모듈을 임포트하고  \n",
    "`XML` 데이터를 다루기 위해 `BeautifulSoup` 라이브러리도 임포트합니다."
   ]
  },
  {
   "cell_type": "code",
   "execution_count": 49,
   "metadata": {},
   "outputs": [],
   "source": [
    "import requests\n",
    "from bs4 import BeautifulSoup"
   ]
  },
  {
   "cell_type": "markdown",
   "metadata": {},
   "source": [
    "공휴일 정보 조회를 하는 URL 을 지정합니다."
   ]
  },
  {
   "cell_type": "code",
   "execution_count": 50,
   "metadata": {},
   "outputs": [],
   "source": [
    "url = \"http://apis.data.go.kr/B090041/openapi/service/SpcdeInfoService/getRestDeInfo\""
   ]
  },
  {
   "cell_type": "markdown",
   "metadata": {},
   "source": [
    "공공 데이터 포털에서 제공한 key 를 지정합니다."
   ]
  },
  {
   "cell_type": "code",
   "execution_count": 51,
   "metadata": {},
   "outputs": [],
   "source": [
    "key = \"6qADBaxg+IHvkWSwtRPy[~THIS IS SECRET~]\""
   ]
  },
  {
   "cell_type": "markdown",
   "metadata": {},
   "source": [
    "오픈 API 요청시 필요한 Request Parameter 를 지정해줍니다."
   ]
  },
  {
   "cell_type": "code",
   "execution_count": 52,
   "metadata": {},
   "outputs": [],
   "source": [
    "params = {\n",
    "    \"ServiceKey\": key,\n",
    "    \"solYear\": \"2021\",  # YYYY 형식\n",
    "    \"solMonth\": \"05\",   # MM 형식\n",
    "}"
   ]
  },
  {
   "cell_type": "markdown",
   "metadata": {},
   "source": [
    "`requests` 모듈의 `get` 메서드로 지정한 url 과 parameter 들로 요청합니다."
   ]
  },
  {
   "cell_type": "code",
   "execution_count": 53,
   "metadata": {},
   "outputs": [],
   "source": [
    "response = requests.get(url, params)"
   ]
  },
  {
   "cell_type": "markdown",
   "metadata": {},
   "source": [
    "response 객체의 text 속성을 확인해서 제대로 데이터가 들고와졌는지 확인합니다."
   ]
  },
  {
   "cell_type": "code",
   "execution_count": 54,
   "metadata": {},
   "outputs": [
    {
     "data": {
      "text/plain": [
       "'<?xml version=\"1.0\" encoding=\"UTF-8\" standalone=\"yes\"?><response><header><resultCode>00</resultCode><resultMsg>NORMAL SERVICE.</resultMsg></header><body><items><item><dateKind>01</dateKind><dateName>어린이날</dateName><isHoliday>Y</isHoliday><locdate>20210505</locdate><seq>1</seq></item><item><dateKind>01</dateKind><dateName>부처님오신날</dateName><isHoliday>Y</isHoliday><locdate>20210519</locdate><seq>1</seq></item></items><numOfRows>10</numOfRows><pageNo>1</pageNo><totalCount>2</totalCount></body></response>'"
      ]
     },
     "execution_count": 54,
     "metadata": {},
     "output_type": "execute_result"
    }
   ],
   "source": [
    "response.text"
   ]
  },
  {
   "cell_type": "markdown",
   "metadata": {},
   "source": [
    "문자열(`str`)형식의 데이터에서 필요한 부분만 추출하는 것을 쉽지 않기 때문에  \n",
    "`BeautifulSoup` 라이브러리를 활용하여 필요한 값만 추출합니다."
   ]
  },
  {
   "cell_type": "code",
   "execution_count": 55,
   "metadata": {},
   "outputs": [],
   "source": [
    "soup = BeautifulSoup(response.text)"
   ]
  },
  {
   "cell_type": "markdown",
   "metadata": {},
   "source": [
    "XML 형식의 데이터를 사람이 보기 좋은 형태로 만들어 주는 웹사이트들을 이용해서 간단히 데이터 구조를 파악할 수 있습니다.\n",
    "\n",
    "- https://jsonformatter.org/xml-viewer"
   ]
  },
  {
   "cell_type": "markdown",
   "metadata": {},
   "source": [
    "`find` 메서드를 이용해서 특정 태그를 찾습니다."
   ]
  },
  {
   "cell_type": "code",
   "execution_count": 56,
   "metadata": {},
   "outputs": [
    {
     "data": {
      "text/plain": [
       "<item><datekind>01</datekind><datename>어린이날</datename><isholiday>Y</isholiday><locdate>20210505</locdate><seq>1</seq></item>"
      ]
     },
     "execution_count": 56,
     "metadata": {},
     "output_type": "execute_result"
    }
   ],
   "source": [
    "soup.find(\"item\")"
   ]
  },
  {
   "cell_type": "markdown",
   "metadata": {},
   "source": [
    "찾은 태그의 하위 태그를 선택할 때에는 `.<태그명>` 을 이용할 수 있습니다.  \n",
    "아래는 `item` 태그를 먼저 찾은 후, `datename` 이라는 하위 태그를 선택한 코드입니다."
   ]
  },
  {
   "cell_type": "code",
   "execution_count": 57,
   "metadata": {},
   "outputs": [
    {
     "data": {
      "text/plain": [
       "<datename>어린이날</datename>"
      ]
     },
     "execution_count": 57,
     "metadata": {},
     "output_type": "execute_result"
    }
   ],
   "source": [
    "soup.find(\"item\").datename"
   ]
  },
  {
   "cell_type": "markdown",
   "metadata": {},
   "source": [
    "태그를 선택하고 `.text` 속성을 확인하면 태그 안 값을 추출할 수 있습니다."
   ]
  },
  {
   "cell_type": "code",
   "execution_count": 58,
   "metadata": {},
   "outputs": [
    {
     "data": {
      "text/plain": [
       "'어린이날'"
      ]
     },
     "execution_count": 58,
     "metadata": {},
     "output_type": "execute_result"
    }
   ],
   "source": [
    "soup.find(\"item\").datename.text"
   ]
  },
  {
   "cell_type": "markdown",
   "metadata": {},
   "source": [
    "들고온 XML 데이터에서 모든 공휴일명(`datename`) 과 날짜(`locdate`) 를 추출하려면 `item` 태그를 모두 들고와야합니다.  \n",
    "`find_all` 함수를 통해 특정 태그이름을 가진 모든 데이터를 `list` 형식으로 가져올 수 있습니다."
   ]
  },
  {
   "cell_type": "code",
   "execution_count": 59,
   "metadata": {},
   "outputs": [
    {
     "data": {
      "text/plain": [
       "[<item><datekind>01</datekind><datename>어린이날</datename><isholiday>Y</isholiday><locdate>20210505</locdate><seq>1</seq></item>,\n",
       " <item><datekind>01</datekind><datename>부처님오신날</datename><isholiday>Y</isholiday><locdate>20210519</locdate><seq>1</seq></item>]"
      ]
     },
     "execution_count": 59,
     "metadata": {},
     "output_type": "execute_result"
    }
   ],
   "source": [
    "soup.find_all(\"item\")"
   ]
  },
  {
   "cell_type": "markdown",
   "metadata": {},
   "source": [
    "찾은 item 들을 `for each` 문으로 모두 순회하며 데이터를 들고 올 수 있습니다."
   ]
  },
  {
   "cell_type": "code",
   "execution_count": 60,
   "metadata": {},
   "outputs": [
    {
     "name": "stdout",
     "output_type": "stream",
     "text": [
      "어린이날  :  20210505\n",
      "부처님오신날  :  20210519\n"
     ]
    }
   ],
   "source": [
    "items = soup.find_all(\"item\")\n",
    "\n",
    "for item in items:\n",
    "    print(item.datename.text, \" : \", item.locdate.text)"
   ]
  },
  {
   "cell_type": "markdown",
   "metadata": {},
   "source": [
    "이런 식으로 필요한 연도(`solYear`), 월(`solMonth`)를 Request Parameter 로 넘겨줘서 값을 들고 오면 되겠습니다.  \n",
    "예를 들어 2021년의 모든 공휴일 데이터가 필요하다면"
   ]
  },
  {
   "cell_type": "markdown",
   "metadata": {},
   "source": [
    "`solYear` 은 `\"2021\"` 이 되고  "
   ]
  },
  {
   "cell_type": "code",
   "execution_count": 61,
   "metadata": {},
   "outputs": [],
   "source": [
    "solYear = \"2021\""
   ]
  },
  {
   "cell_type": "markdown",
   "metadata": {},
   "source": [
    "`solMonth` 는 `\"01\"`, `\"02\"`, `...`, `\"12\"` 가 될 것 입니다."
   ]
  },
  {
   "cell_type": "code",
   "execution_count": 62,
   "metadata": {},
   "outputs": [],
   "source": [
    "solMonths = [\"01\", \"02\", \"03\", \"04\", \"05\", \"06\", \"07\", \"08\", \"09\", \"10\", \"11\", \"12\"]\n",
    "\n",
    "# pythonic 하게 solMonths 를 만들어주는 방법\n",
    "# solMonths = [f\"{m:02}\" for m in range(1, 13)]"
   ]
  },
  {
   "cell_type": "markdown",
   "metadata": {},
   "source": [
    "이 파라미터들을 반복해서 요청해서 모든 데이터를 들고올 수 있습니다."
   ]
  },
  {
   "cell_type": "code",
   "execution_count": 63,
   "metadata": {},
   "outputs": [],
   "source": [
    "# 결과값을 담을 list 변수입니다.\n",
    "result = []\n",
    "\n",
    "# solMonths 를 for each 문으로 순회하며 각 월의 데이터를 요청합니다.\n",
    "for solMonth in solMonths:\n",
    "    \n",
    "    # 요청에 필요한 Request parameter 를 지정합니다.\n",
    "    params = {\n",
    "        \"ServiceKey\": key,\n",
    "        \"solYear\": solYear,\n",
    "        \"solMonth\": solMonth,\n",
    "    }\n",
    "    # requests.get 함수를 통해서 지정한 url 과 parameter 들을 포함해 요청합니다.\n",
    "    response = requests.get(url, params)\n",
    "    \n",
    "    # 요청한 데이터를 BeautifulSoup 라이브러리로 python 객체화 시킵니다.\n",
    "    soup = BeautifulSoup(response.text)\n",
    "    \n",
    "    # find_all 메서드를 사용해서 데이터에 있는 모든 item 태그들을 items 라는 변수에 할당합니다.\n",
    "    items = soup.find_all(\"item\")\n",
    "    \n",
    "    # item 태그들을 for each 문으로 순회하며\n",
    "    # 공휴일명(item.datename.text), 날짜(item.locdate.text) 를 결과값에 더해줍니다.\n",
    "    for item in items:\n",
    "        # 결과값에 더하기 전 data 라는 dict 로 만들어 더해줍니다.\n",
    "        data = {\n",
    "            \"datename\": item.datename.text,\n",
    "            \"date\": item.locdate.text\n",
    "        }\n",
    "        result.append(data)"
   ]
  },
  {
   "cell_type": "markdown",
   "metadata": {},
   "source": [
    "위 반복문을 실행하면 `result` 변수에 모든 공휴일 정보가 들어가게 됩니다."
   ]
  },
  {
   "cell_type": "code",
   "execution_count": 64,
   "metadata": {},
   "outputs": [
    {
     "data": {
      "text/plain": [
       "[{'datename': '1월1일', 'date': '20210101'},\n",
       " {'datename': '설날', 'date': '20210211'},\n",
       " {'datename': '설날', 'date': '20210212'},\n",
       " {'datename': '설날', 'date': '20210213'},\n",
       " {'datename': '삼일절', 'date': '20210301'},\n",
       " {'datename': '어린이날', 'date': '20210505'},\n",
       " {'datename': '부처님오신날', 'date': '20210519'},\n",
       " {'datename': '현충일', 'date': '20210606'},\n",
       " {'datename': '광복절', 'date': '20210815'},\n",
       " {'datename': '추석', 'date': '20210920'},\n",
       " {'datename': '추석', 'date': '20210921'},\n",
       " {'datename': '추석', 'date': '20210922'},\n",
       " {'datename': '개천절', 'date': '20211003'},\n",
       " {'datename': '한글날', 'date': '20211009'},\n",
       " {'datename': '기독탄신일', 'date': '20211225'}]"
      ]
     },
     "execution_count": 64,
     "metadata": {},
     "output_type": "execute_result"
    }
   ],
   "source": [
    "result"
   ]
  },
  {
   "cell_type": "markdown",
   "metadata": {},
   "source": [
    "`result` 변수를 `DataFrame` 에 전달하면 `pandas` 에서도 사용할 수 있게 됩니다."
   ]
  },
  {
   "cell_type": "code",
   "execution_count": 65,
   "metadata": {},
   "outputs": [],
   "source": [
    "df = pd.DataFrame(result)"
   ]
  },
  {
   "cell_type": "code",
   "execution_count": 66,
   "metadata": {},
   "outputs": [
    {
     "data": {
      "text/html": [
       "<div>\n",
       "<style scoped>\n",
       "    .dataframe tbody tr th:only-of-type {\n",
       "        vertical-align: middle;\n",
       "    }\n",
       "\n",
       "    .dataframe tbody tr th {\n",
       "        vertical-align: top;\n",
       "    }\n",
       "\n",
       "    .dataframe thead th {\n",
       "        text-align: right;\n",
       "    }\n",
       "</style>\n",
       "<table border=\"1\" class=\"dataframe\">\n",
       "  <thead>\n",
       "    <tr style=\"text-align: right;\">\n",
       "      <th></th>\n",
       "      <th>datename</th>\n",
       "      <th>date</th>\n",
       "    </tr>\n",
       "  </thead>\n",
       "  <tbody>\n",
       "    <tr>\n",
       "      <th>0</th>\n",
       "      <td>1월1일</td>\n",
       "      <td>20210101</td>\n",
       "    </tr>\n",
       "    <tr>\n",
       "      <th>1</th>\n",
       "      <td>설날</td>\n",
       "      <td>20210211</td>\n",
       "    </tr>\n",
       "    <tr>\n",
       "      <th>2</th>\n",
       "      <td>설날</td>\n",
       "      <td>20210212</td>\n",
       "    </tr>\n",
       "    <tr>\n",
       "      <th>3</th>\n",
       "      <td>설날</td>\n",
       "      <td>20210213</td>\n",
       "    </tr>\n",
       "    <tr>\n",
       "      <th>4</th>\n",
       "      <td>삼일절</td>\n",
       "      <td>20210301</td>\n",
       "    </tr>\n",
       "    <tr>\n",
       "      <th>5</th>\n",
       "      <td>어린이날</td>\n",
       "      <td>20210505</td>\n",
       "    </tr>\n",
       "    <tr>\n",
       "      <th>6</th>\n",
       "      <td>부처님오신날</td>\n",
       "      <td>20210519</td>\n",
       "    </tr>\n",
       "    <tr>\n",
       "      <th>7</th>\n",
       "      <td>현충일</td>\n",
       "      <td>20210606</td>\n",
       "    </tr>\n",
       "    <tr>\n",
       "      <th>8</th>\n",
       "      <td>광복절</td>\n",
       "      <td>20210815</td>\n",
       "    </tr>\n",
       "    <tr>\n",
       "      <th>9</th>\n",
       "      <td>추석</td>\n",
       "      <td>20210920</td>\n",
       "    </tr>\n",
       "    <tr>\n",
       "      <th>10</th>\n",
       "      <td>추석</td>\n",
       "      <td>20210921</td>\n",
       "    </tr>\n",
       "    <tr>\n",
       "      <th>11</th>\n",
       "      <td>추석</td>\n",
       "      <td>20210922</td>\n",
       "    </tr>\n",
       "    <tr>\n",
       "      <th>12</th>\n",
       "      <td>개천절</td>\n",
       "      <td>20211003</td>\n",
       "    </tr>\n",
       "    <tr>\n",
       "      <th>13</th>\n",
       "      <td>한글날</td>\n",
       "      <td>20211009</td>\n",
       "    </tr>\n",
       "    <tr>\n",
       "      <th>14</th>\n",
       "      <td>기독탄신일</td>\n",
       "      <td>20211225</td>\n",
       "    </tr>\n",
       "  </tbody>\n",
       "</table>\n",
       "</div>"
      ],
      "text/plain": [
       "   datename      date\n",
       "0      1월1일  20210101\n",
       "1        설날  20210211\n",
       "2        설날  20210212\n",
       "3        설날  20210213\n",
       "4       삼일절  20210301\n",
       "5      어린이날  20210505\n",
       "6    부처님오신날  20210519\n",
       "7       현충일  20210606\n",
       "8       광복절  20210815\n",
       "9        추석  20210920\n",
       "10       추석  20210921\n",
       "11       추석  20210922\n",
       "12      개천절  20211003\n",
       "13      한글날  20211009\n",
       "14    기독탄신일  20211225"
      ]
     },
     "execution_count": 66,
     "metadata": {},
     "output_type": "execute_result"
    }
   ],
   "source": [
    "df"
   ]
  },
  {
   "cell_type": "markdown",
   "metadata": {},
   "source": [
    "`date` 열을 `pd.to_datetime` 함수를 이용해 `datetime` 형식으로 변경해줍니다."
   ]
  },
  {
   "cell_type": "code",
   "execution_count": 67,
   "metadata": {},
   "outputs": [],
   "source": [
    "df[\"date\"] = pd.to_datetime(df[\"date\"])"
   ]
  },
  {
   "cell_type": "code",
   "execution_count": 68,
   "metadata": {},
   "outputs": [
    {
     "data": {
      "text/html": [
       "<div>\n",
       "<style scoped>\n",
       "    .dataframe tbody tr th:only-of-type {\n",
       "        vertical-align: middle;\n",
       "    }\n",
       "\n",
       "    .dataframe tbody tr th {\n",
       "        vertical-align: top;\n",
       "    }\n",
       "\n",
       "    .dataframe thead th {\n",
       "        text-align: right;\n",
       "    }\n",
       "</style>\n",
       "<table border=\"1\" class=\"dataframe\">\n",
       "  <thead>\n",
       "    <tr style=\"text-align: right;\">\n",
       "      <th></th>\n",
       "      <th>datename</th>\n",
       "      <th>date</th>\n",
       "    </tr>\n",
       "  </thead>\n",
       "  <tbody>\n",
       "    <tr>\n",
       "      <th>0</th>\n",
       "      <td>1월1일</td>\n",
       "      <td>2021-01-01</td>\n",
       "    </tr>\n",
       "    <tr>\n",
       "      <th>1</th>\n",
       "      <td>설날</td>\n",
       "      <td>2021-02-11</td>\n",
       "    </tr>\n",
       "    <tr>\n",
       "      <th>2</th>\n",
       "      <td>설날</td>\n",
       "      <td>2021-02-12</td>\n",
       "    </tr>\n",
       "    <tr>\n",
       "      <th>3</th>\n",
       "      <td>설날</td>\n",
       "      <td>2021-02-13</td>\n",
       "    </tr>\n",
       "    <tr>\n",
       "      <th>4</th>\n",
       "      <td>삼일절</td>\n",
       "      <td>2021-03-01</td>\n",
       "    </tr>\n",
       "    <tr>\n",
       "      <th>5</th>\n",
       "      <td>어린이날</td>\n",
       "      <td>2021-05-05</td>\n",
       "    </tr>\n",
       "    <tr>\n",
       "      <th>6</th>\n",
       "      <td>부처님오신날</td>\n",
       "      <td>2021-05-19</td>\n",
       "    </tr>\n",
       "    <tr>\n",
       "      <th>7</th>\n",
       "      <td>현충일</td>\n",
       "      <td>2021-06-06</td>\n",
       "    </tr>\n",
       "    <tr>\n",
       "      <th>8</th>\n",
       "      <td>광복절</td>\n",
       "      <td>2021-08-15</td>\n",
       "    </tr>\n",
       "    <tr>\n",
       "      <th>9</th>\n",
       "      <td>추석</td>\n",
       "      <td>2021-09-20</td>\n",
       "    </tr>\n",
       "    <tr>\n",
       "      <th>10</th>\n",
       "      <td>추석</td>\n",
       "      <td>2021-09-21</td>\n",
       "    </tr>\n",
       "    <tr>\n",
       "      <th>11</th>\n",
       "      <td>추석</td>\n",
       "      <td>2021-09-22</td>\n",
       "    </tr>\n",
       "    <tr>\n",
       "      <th>12</th>\n",
       "      <td>개천절</td>\n",
       "      <td>2021-10-03</td>\n",
       "    </tr>\n",
       "    <tr>\n",
       "      <th>13</th>\n",
       "      <td>한글날</td>\n",
       "      <td>2021-10-09</td>\n",
       "    </tr>\n",
       "    <tr>\n",
       "      <th>14</th>\n",
       "      <td>기독탄신일</td>\n",
       "      <td>2021-12-25</td>\n",
       "    </tr>\n",
       "  </tbody>\n",
       "</table>\n",
       "</div>"
      ],
      "text/plain": [
       "   datename       date\n",
       "0      1월1일 2021-01-01\n",
       "1        설날 2021-02-11\n",
       "2        설날 2021-02-12\n",
       "3        설날 2021-02-13\n",
       "4       삼일절 2021-03-01\n",
       "5      어린이날 2021-05-05\n",
       "6    부처님오신날 2021-05-19\n",
       "7       현충일 2021-06-06\n",
       "8       광복절 2021-08-15\n",
       "9        추석 2021-09-20\n",
       "10       추석 2021-09-21\n",
       "11       추석 2021-09-22\n",
       "12      개천절 2021-10-03\n",
       "13      한글날 2021-10-09\n",
       "14    기독탄신일 2021-12-25"
      ]
     },
     "execution_count": 68,
     "metadata": {},
     "output_type": "execute_result"
    }
   ],
   "source": [
    "df"
   ]
  },
  {
   "cell_type": "markdown",
   "metadata": {},
   "source": [
    "공휴일 정보를 `holiday.csv` 파일에 저장합니다."
   ]
  },
  {
   "cell_type": "code",
   "execution_count": 69,
   "metadata": {},
   "outputs": [],
   "source": [
    "df.to_csv(\"holiday.csv\")"
   ]
  }
 ],
 "metadata": {
  "kernelspec": {
   "display_name": "Python 3",
   "language": "python",
   "name": "python3"
  },
  "language_info": {
   "codemirror_mode": {
    "name": "ipython",
    "version": 3
   },
   "file_extension": ".py",
   "mimetype": "text/x-python",
   "name": "python",
   "nbconvert_exporter": "python",
   "pygments_lexer": "ipython3",
   "version": "3.8.5"
  }
 },
 "nbformat": 4,
 "nbformat_minor": 2
}
